{
 "cells": [
  {
   "cell_type": "markdown",
   "id": "c2144604-0e0b-499b-a5df-d3da69ac192c",
   "metadata": {},
   "source": [
    "## Imports and setup"
   ]
  },
  {
   "cell_type": "code",
   "execution_count": 1,
   "id": "8a0b2595-d423-4bdc-b6c4-7e7e63bf2112",
   "metadata": {},
   "outputs": [],
   "source": [
    "import os\n",
    "\n",
    "import numpy as np\n",
    "\n",
    "from sklearn import datasets as skdatasets\n",
    "\n",
    "import torch\n",
    "from torch import nn\n",
    "from torch.utils.data import Dataset, DataLoader\n",
    "from torchinfo import summary\n",
    "\n",
    "from matplotlib import pyplot as plt\n",
    "\n",
    "from tqdm.notebook import tqdm\n",
    "\n",
    "from datasets import get_dataset\n",
    "from models import NCSN, Encoder, Decoder, ScoreVAENet\n",
    "from losses import NCSNLoss, GaussianPerturbation, BetaVAELoss\n",
    "from train import ScoreNetTrainer, AETrainer, VAETrainer, ScoreNetAETrainer, ScoreNetVAETrainer\n",
    "from samplers import AnnealedLangevinDynamics\n",
    "\n",
    "from utils import get_torch_device"
   ]
  },
  {
   "cell_type": "code",
   "execution_count": 2,
   "id": "b3c2a2e9-a576-40f8-ac0a-ea06f3db2fd6",
   "metadata": {},
   "outputs": [
    {
     "name": "stdout",
     "output_type": "stream",
     "text": [
      "mps\n"
     ]
    }
   ],
   "source": [
    "device = get_torch_device()\n",
    "print(device)"
   ]
  },
  {
   "cell_type": "code",
   "execution_count": 3,
   "id": "98dfcd1b-54c1-4e89-bbfe-a16d358fded4",
   "metadata": {},
   "outputs": [],
   "source": [
    "def sample_img(sampler, arg):\n",
    "    if isinstance(arg, (list, tuple, torch.Size)):\n",
    "        img = sampler.sample(shape[::-1], epsilon=2e-5).squeeze(0).permute(1, 2, 0).cpu().numpy()\n",
    "    else:\n",
    "        img = sampler.sample(arg, epsilon=2e-5).squeeze(0).permute(1, 2, 0).cpu().numpy()\n",
    "    \n",
    "    return img"
   ]
  },
  {
   "cell_type": "markdown",
   "id": "57e1cfa1-ef44-471e-abc7-d07240d60c77",
   "metadata": {
    "jp-MarkdownHeadingCollapsed": true
   },
   "source": [
    "## Toy example"
   ]
  },
  {
   "cell_type": "code",
   "execution_count": 3,
   "id": "c1db7bfa-4c44-4d52-a9f7-f2fb492ab0bb",
   "metadata": {},
   "outputs": [],
   "source": [
    "def normalize(ds, scaling_factor=2.0):\n",
    "    return (ds - ds.mean()) / ds.std() * scaling_factor\n",
    "\n",
    "def sample_checkerboard(n):\n",
    "    # https://github.com/ghliu/SB-FBSDE/blob/main/data.py\n",
    "    n_points = 3 * n\n",
    "    n_classes = 2\n",
    "    freq = 5\n",
    "    x = np.random.uniform(\n",
    "        -(freq // 2) * np.pi, (freq // 2) * np.pi, size=(n_points, n_classes)\n",
    "    )\n",
    "    mask = np.logical_or(\n",
    "        np.logical_and(np.sin(x[:, 0]) > 0.0, np.sin(x[:, 1]) > 0.0),\n",
    "        np.logical_and(np.sin(x[:, 0]) < 0.0, np.sin(x[:, 1]) < 0.0),\n",
    "    )\n",
    "    y = np.eye(n_classes)[1 * mask]\n",
    "    x0 = x[:, 0] * y[:, 0]\n",
    "    x1 = x[:, 1] * y[:, 0]\n",
    "    sample = np.concatenate([x0[..., None], x1[..., None]], axis=-1)\n",
    "    sqr = np.sum(np.square(sample), axis=-1)\n",
    "    idxs = np.where(sqr == 0)\n",
    "    sample = np.delete(sample, idxs, axis=0)\n",
    "\n",
    "    return sample\n",
    "\n",
    "def load_twodim(num_samples: int, dataset: str, dimension: int = 2):\n",
    "    if dataset == \"gaussian_centered\":\n",
    "        sample = np.random.normal(size=(num_samples, dimension))\n",
    "        sample = sample*2 - 1\n",
    "\n",
    "    if dataset == \"gaussian_shift\":\n",
    "        sample = np.random.normal(size=(num_samples, dimension))\n",
    "        sample = sample + 1.5\n",
    "\n",
    "    if dataset == \"circle\":\n",
    "        X, y = skdatasets.make_circles(\n",
    "            n_samples=num_samples, noise=0.0, random_state=None, factor=0.5\n",
    "        )\n",
    "        sample = X * 4\n",
    "\n",
    "    if dataset == \"scurve\":\n",
    "        X, y = skdatasets.make_s_curve(\n",
    "            n_samples=num_samples, noise=0.0, random_state=None\n",
    "        )\n",
    "        sample = normalize(X[:, [0, 2]])\n",
    "\n",
    "    if dataset == \"moon\":\n",
    "        X, y = skdatasets.make_moons(n_samples=num_samples, noise=0.0, random_state=None)\n",
    "        sample = normalize(X)\n",
    "\n",
    "    if dataset == \"swiss_roll\":\n",
    "        X, y = skdatasets.make_swiss_roll(\n",
    "            n_samples=num_samples, noise=0.0, random_state=None, hole=True\n",
    "        )\n",
    "        sample = normalize(X[:, [0, 2]])\n",
    "\n",
    "    if dataset == \"checkerboard\":\n",
    "        sample = normalize(sample_checkerboard(num_samples))\n",
    "\n",
    "    return torch.tensor(sample).float()\n",
    "\n",
    "\n",
    "class TwoDimDataClass(Dataset):\n",
    "    def __init__(self, dataset_type: str, N: int, batch_size: int, dimension=2):\n",
    "\n",
    "        self.X = load_twodim(N, dataset_type, dimension=dimension)\n",
    "        self.name = dataset_type\n",
    "        self.batch_size = batch_size\n",
    "        self.dimension = 2\n",
    "\n",
    "    def __len__(self):\n",
    "        return self.X.shape[0]\n",
    "\n",
    "    def __getitem__(self, idx):\n",
    "        return self.X[idx]\n",
    "\n",
    "    def get_dataloader(self, shuffle=True):\n",
    "        return DataLoader(\n",
    "            self,\n",
    "            batch_size=self.batch_size,\n",
    "            shuffle=shuffle,\n",
    "            pin_memory=True,\n",
    "        )"
   ]
  },
  {
   "cell_type": "code",
   "execution_count": 4,
   "id": "e52a4571-90fc-48c7-bfb4-e5a86926b24d",
   "metadata": {},
   "outputs": [
    {
     "data": {
      "text/plain": [
       "<matplotlib.legend.Legend at 0x1599e4b90>"
      ]
     },
     "execution_count": 4,
     "metadata": {},
     "output_type": "execute_result"
    },
    {
     "data": {
      "image/png": "[encoded data removed]",
      "text/plain": [
       "<Figure size 640x480 with 1 Axes>"
      ]
     },
     "metadata": {},
     "output_type": "display_data"
    }
   ],
   "source": [
    "target_ds = TwoDimDataClass(dataset_type='checkerboard',\n",
    "                            N=int(1e6),\n",
    "                            batch_size=256)\n",
    "\n",
    "prior_ds = TwoDimDataClass(dataset_type='gaussian_centered',\n",
    "                           N=int(1e6),\n",
    "                           batch_size=256)\n",
    "\n",
    "train_loader = DataLoader(target_ds, batch_size=8196 * 2)\n",
    "\n",
    "fig = plt.figure()\n",
    "ax = fig.add_subplot(1, 1, 1)\n",
    "ax.scatter(target_ds[:500][:, 0], target_ds[:500][:, 1], alpha=0.6)\n",
    "ax.scatter(prior_ds[:500][:, 0], prior_ds[:500][:, 1], alpha=0.6)\n",
    "ax.grid(False)\n",
    "ax.set_aspect('equal', adjustable='box')\n",
    "strtitle = \"Target and prior distributions\"\n",
    "ax.set_title(strtitle)\n",
    "ax.legend(['Target', r'Prior (=$\\mathcal{N}(\\mathbf{0}, \\mathbf{I})$)'])"
   ]
  },
  {
   "cell_type": "code",
   "execution_count": 5,
   "id": "7d3cd674-6b88-4fc4-88ca-49cbf8c2578f",
   "metadata": {},
   "outputs": [],
   "source": [
    "class ToyScoreNet(nn.Module):\n",
    "  def __init__(self, n_steps):\n",
    "    super().__init__()\n",
    "    self.linear_model1 = nn.Sequential(\n",
    "        nn.Linear(2, 256),\n",
    "        nn.Dropout(0.3),\n",
    "        nn.GELU()\n",
    "    )\n",
    "    self.embedding_layer = nn.Embedding(n_steps, 256)\n",
    "    self.linear_model2 = nn.Sequential(\n",
    "        nn.Linear(256, 512),\n",
    "        nn.Dropout(0.3),\n",
    "        nn.GELU(),\n",
    "        nn.Linear(512, 512),\n",
    "        nn.Dropout(0.3),\n",
    "        nn.GELU(),\n",
    "        nn.Linear(512, 2),\n",
    "    )\n",
    "\n",
    "  def forward(self, x, idx):\n",
    "    out = self.linear_model1(x)\n",
    "    embed = self.embedding_layer(idx)\n",
    "    return self.linear_model2(out + embed)"
   ]
  },
  {
   "cell_type": "code",
   "execution_count": 6,
   "id": "a006ced7-5f6b-4726-a8ac-0ac7eaa19e6f",
   "metadata": {},
   "outputs": [],
   "source": [
    "L = 12\n",
    "sigmas = torch.exp(torch.linspace(torch.log(torch.tensor(1e1)), torch.log(torch.tensor(1e-3)), L)).to(device)\n",
    "\n",
    "model = ToyScoreNet(L)\n",
    "optimizer = torch.optim.Adam(model.parameters(), lr=1e-3)\n",
    "\n",
    "perturbation = GaussianPerturbation()\n",
    "loss_fn = NCSNLoss(perturbation, sigmas, coeff_func=lambda s: s**2)\n",
    "\n",
    "trainer = ScoreNetTrainer(train_loader, model, device)\n",
    "sampler = AnnealedLangevinDynamics(model, sigmas, device)"
   ]
  },
  {
   "cell_type": "code",
   "execution_count": 7,
   "id": "b02c2a5d-ee26-4ec8-9324-fc8764a9f843",
   "metadata": {},
   "outputs": [],
   "source": [
    "if os.path.exists(\"model_toy.pth\"):\n",
    "    model.load_state_dict(torch.load(\"model_toy.pth\"))\n",
    "else:\n",
    "    trainer.train(loss_fn, optimizer, epochs=120, verbose=True)\n",
    "    torch.save(model.state_dict(), \"model_toy.pth\")"
   ]
  },
  {
   "cell_type": "code",
   "execution_count": 8,
   "id": "7307b252-d0a7-4969-813f-a34f429480b8",
   "metadata": {},
   "outputs": [],
   "source": [
    "# n_samples = 2 ** 12\n",
    "# shape = (n_samples, 2)\n",
    "# gen = sampler.sample(shape, epsilon=1e-6).cpu().numpy()\n",
    "\n",
    "# fig, ax = plt.subplots(1,1)\n",
    "# ax.scatter(target_ds[:n_samples][:,0], target_ds[:n_samples][:,1], alpha=0.3, label=\"target distribution\")\n",
    "# ax.scatter(gen[:,0], gen[:,1], alpha=0.3, label=\"samples\")\n",
    "# ax.legend()\n",
    "# plt.show()"
   ]
  },
  {
   "cell_type": "markdown",
   "id": "99183197-51f1-4637-8e0a-23dc78669d70",
   "metadata": {
    "jp-MarkdownHeadingCollapsed": true
   },
   "source": [
    "## Annealed MNIST"
   ]
  },
  {
   "cell_type": "code",
   "execution_count": 3,
   "id": "90c69cd4-4cd4-46ea-86ed-0d699cb2d3db",
   "metadata": {},
   "outputs": [],
   "source": [
    "B = 128\n",
    "\n",
    "train_loader, test_loader = get_dataset(\"mnist\", batch_size=B, num_workers=2, pin_memory=False)\n",
    "shape = (28, 28, 1)"
   ]
  },
  {
   "cell_type": "code",
   "execution_count": 9,
   "id": "9a4402d4-7e9b-4182-bceb-2dbd39933c86",
   "metadata": {},
   "outputs": [
    {
     "name": "stdout",
     "output_type": "stream",
     "text": [
      "tensor([1.0000, 0.5995, 0.3594, 0.2154, 0.1292, 0.0774, 0.0464, 0.0278, 0.0167,\n",
      "        0.0100], device='mps:0')\n"
     ]
    }
   ],
   "source": [
    "sigma0 = 1\n",
    "sigmaL = 0.01\n",
    "L = 10\n",
    "\n",
    "sigmas = torch.exp(torch.linspace(np.log(sigma0), np.log(sigmaL), L)).to(device)\n",
    "print(sigmas)"
   ]
  },
  {
   "cell_type": "code",
   "execution_count": 11,
   "id": "88f4df58-b166-4523-853d-3c5a45d2b599",
   "metadata": {
    "scrolled": true
   },
   "outputs": [
    {
     "name": "stdout",
     "output_type": "stream",
     "text": [
      "==================================================================================================================================\n",
      "Layer (type:depth-idx)                                                           Output Shape              Param #\n",
      "==================================================================================================================================\n",
      "NCSN                                                                             [1, 1, 28, 28]            --\n",
      "├─Conv2d: 1-1                                                                    [1, 64, 28, 28]           640\n",
      "├─ConditionalSequential: 1-2                                                     [1, 128, 14, 14]          2,075,584\n",
      "│    └─ConditionalResidualBlock: 2-1                                             [1, 64, 28, 28]           75,776\n",
      "│    │    └─ConditionalInstanceNorm2dPlus: 3-1                                   [1, 64, 28, 28]           1,920\n",
      "├─ConditionalSequential: 1-122                                                   --                        (recursive)\n",
      "│    └─ELU: 2-2                                                                  [1, 64, 28, 28]           --\n",
      "├─ConditionalSequential: 1-34                                                    --                        (recursive)\n",
      "│    └─ConditionalResidualBlock: 2-5                                             --                        (recursive)\n",
      "│    │    └─Conv2d: 3-2                                                          [1, 64, 28, 28]           36,928\n",
      "│    │    └─ConditionalInstanceNorm2dPlus: 3-3                                   [1, 64, 28, 28]           1,920\n",
      "├─ConditionalSequential: 1-122                                                   --                        (recursive)\n",
      "│    └─ELU: 2-4                                                                  [1, 64, 28, 28]           --\n",
      "├─ConditionalSequential: 1-34                                                    --                        (recursive)\n",
      "│    └─ConditionalResidualBlock: 2-5                                             --                        (recursive)\n",
      "│    │    └─Conv2d: 3-4                                                          [1, 64, 28, 28]           36,928\n",
      "│    │    └─Identity: 3-5                                                        [1, 64, 28, 28]           --\n",
      "│    └─ConditionalResidualBlock: 2-6                                             [1, 64, 28, 28]           75,776\n",
      "│    │    └─ConditionalInstanceNorm2dPlus: 3-6                                   [1, 64, 28, 28]           1,920\n",
      "├─ConditionalSequential: 1-122                                                   --                        (recursive)\n",
      "│    └─ELU: 2-7                                                                  [1, 64, 28, 28]           --\n",
      "├─ConditionalSequential: 1-34                                                    --                        (recursive)\n",
      "│    └─ConditionalResidualBlock: 2-10                                            --                        (recursive)\n",
      "│    │    └─Conv2d: 3-7                                                          [1, 64, 28, 28]           36,928\n",
      "│    │    └─ConditionalInstanceNorm2dPlus: 3-8                                   [1, 64, 28, 28]           1,920\n",
      "├─ConditionalSequential: 1-122                                                   --                        (recursive)\n",
      "│    └─ELU: 2-9                                                                  [1, 64, 28, 28]           --\n",
      "├─ConditionalSequential: 1-34                                                    --                        (recursive)\n",
      "│    └─ConditionalResidualBlock: 2-10                                            --                        (recursive)\n",
      "│    │    └─Conv2d: 3-9                                                          [1, 64, 28, 28]           36,928\n",
      "│    │    └─Identity: 3-10                                                       [1, 64, 28, 28]           --\n",
      "│    └─ConditionalResidualBlock: 2-11                                            [1, 128, 14, 14]          186,560\n",
      "│    │    └─ConditionalInstanceNorm2dPlus: 3-11                                  [1, 64, 28, 28]           1,920\n",
      "├─ConditionalSequential: 1-122                                                   --                        (recursive)\n",
      "│    └─ELU: 2-12                                                                 [1, 64, 28, 28]           --\n",
      "├─ConditionalSequential: 1-34                                                    --                        (recursive)\n",
      "│    └─ConditionalResidualBlock: 2-15                                            --                        (recursive)\n",
      "│    │    └─Conv2d: 3-12                                                         [1, 64, 28, 28]           36,928\n",
      "│    │    └─ConditionalInstanceNorm2dPlus: 3-13                                  [1, 64, 28, 28]           1,920\n",
      "├─ConditionalSequential: 1-122                                                   --                        (recursive)\n",
      "│    └─ELU: 2-14                                                                 [1, 64, 28, 28]           --\n",
      "├─ConditionalSequential: 1-34                                                    --                        (recursive)\n",
      "│    └─ConditionalResidualBlock: 2-15                                            --                        (recursive)\n",
      "│    │    └─ConvMeanPool: 3-14                                                   [1, 128, 14, 14]          73,856\n",
      "│    │    └─ConvMeanPool: 3-15                                                   [1, 128, 14, 14]          73,856\n",
      "│    └─ConditionalResidualBlock: 2-16                                            [1, 128, 14, 14]          299,008\n",
      "│    │    └─ConditionalInstanceNorm2dPlus: 3-16                                  [1, 128, 14, 14]          3,840\n",
      "├─ConditionalSequential: 1-122                                                   --                        (recursive)\n",
      "│    └─ELU: 2-17                                                                 [1, 128, 14, 14]          --\n",
      "├─ConditionalSequential: 1-34                                                    --                        (recursive)\n",
      "│    └─ConditionalResidualBlock: 2-20                                            --                        (recursive)\n",
      "│    │    └─Conv2d: 3-17                                                         [1, 128, 14, 14]          147,584\n",
      "│    │    └─ConditionalInstanceNorm2dPlus: 3-18                                  [1, 128, 14, 14]          3,840\n",
      "├─ConditionalSequential: 1-122                                                   --                        (recursive)\n",
      "│    └─ELU: 2-19                                                                 [1, 128, 14, 14]          --\n",
      "├─ConditionalSequential: 1-34                                                    --                        (recursive)\n",
      "│    └─ConditionalResidualBlock: 2-20                                            --                        (recursive)\n",
      "│    │    └─Conv2d: 3-19                                                         [1, 128, 14, 14]          147,584\n",
      "│    │    └─Identity: 3-20                                                       [1, 128, 14, 14]          --\n",
      "│    └─ConditionalResidualBlock: 2-21                                            [1, 128, 14, 14]          446,592\n",
      "│    │    └─ConditionalInstanceNorm2dPlus: 3-21                                  [1, 128, 14, 14]          3,840\n",
      "├─ConditionalSequential: 1-122                                                   --                        (recursive)\n",
      "│    └─ELU: 2-22                                                                 [1, 128, 14, 14]          --\n",
      "├─ConditionalSequential: 1-34                                                    --                        (recursive)\n",
      "│    └─ConditionalResidualBlock: 2-25                                            --                        (recursive)\n",
      "│    │    └─Conv2d: 3-22                                                         [1, 128, 14, 14]          147,584\n",
      "│    │    └─ConditionalInstanceNorm2dPlus: 3-23                                  [1, 128, 14, 14]          3,840\n",
      "├─ConditionalSequential: 1-122                                                   --                        (recursive)\n",
      "│    └─ELU: 2-24                                                                 [1, 128, 14, 14]          --\n",
      "├─ConditionalSequential: 1-34                                                    --                        (recursive)\n",
      "│    └─ConditionalResidualBlock: 2-25                                            --                        (recursive)\n",
      "│    │    └─Conv2d: 3-24                                                         [1, 128, 14, 14]          147,584\n",
      "│    │    └─Conv2d: 3-25                                                         [1, 128, 14, 14]          147,584\n",
      "│    └─ConditionalResidualBlock: 2-26                                            [1, 128, 14, 14]          299,008\n",
      "│    │    └─ConditionalInstanceNorm2dPlus: 3-26                                  [1, 128, 14, 14]          3,840\n",
      "├─ConditionalSequential: 1-122                                                   --                        (recursive)\n",
      "│    └─ELU: 2-27                                                                 [1, 128, 14, 14]          --\n",
      "├─ConditionalSequential: 1-34                                                    --                        (recursive)\n",
      "│    └─ConditionalResidualBlock: 2-30                                            --                        (recursive)\n",
      "│    │    └─Conv2d: 3-27                                                         [1, 128, 14, 14]          147,584\n",
      "│    │    └─ConditionalInstanceNorm2dPlus: 3-28                                  [1, 128, 14, 14]          3,840\n",
      "├─ConditionalSequential: 1-122                                                   --                        (recursive)\n",
      "│    └─ELU: 2-29                                                                 [1, 128, 14, 14]          --\n",
      "├─ConditionalSequential: 1-34                                                    --                        (recursive)\n",
      "│    └─ConditionalResidualBlock: 2-30                                            --                        (recursive)\n",
      "│    │    └─Conv2d: 3-29                                                         [1, 128, 14, 14]          147,584\n",
      "│    │    └─Identity: 3-30                                                       [1, 128, 14, 14]          --\n",
      "│    └─ConditionalResidualBlock: 2-31                                            [1, 128, 14, 14]          446,592\n",
      "│    │    └─ConditionalInstanceNorm2dPlus: 3-31                                  [1, 128, 14, 14]          3,840\n",
      "├─ConditionalSequential: 1-122                                                   --                        (recursive)\n",
      "│    └─ELU: 2-32                                                                 [1, 128, 14, 14]          --\n",
      "├─ConditionalSequential: 1-34                                                    --                        (recursive)\n",
      "│    └─ConditionalResidualBlock: 2-35                                            --                        (recursive)\n",
      "│    │    └─Conv2d: 3-32                                                         [1, 128, 14, 14]          147,584\n",
      "│    │    └─ConditionalInstanceNorm2dPlus: 3-33                                  [1, 128, 14, 14]          3,840\n",
      "├─ConditionalSequential: 1-122                                                   --                        (recursive)\n",
      "│    └─ELU: 2-34                                                                 [1, 128, 14, 14]          --\n",
      "├─ConditionalSequential: 1-34                                                    --                        (recursive)\n",
      "│    └─ConditionalResidualBlock: 2-35                                            --                        (recursive)\n",
      "│    │    └─Conv2d: 3-34                                                         [1, 128, 14, 14]          147,584\n",
      "│    │    └─Conv2d: 3-35                                                         [1, 128, 14, 14]          147,584\n",
      "│    └─ConditionalResidualBlock: 2-36                                            [1, 128, 14, 14]          299,008\n",
      "│    │    └─ConditionalInstanceNorm2dPlus: 3-36                                  [1, 128, 14, 14]          3,840\n",
      "├─ConditionalSequential: 1-122                                                   --                        (recursive)\n",
      "│    └─ELU: 2-37                                                                 [1, 128, 14, 14]          --\n",
      "├─ConditionalSequential: 1-34                                                    --                        (recursive)\n",
      "│    └─ConditionalResidualBlock: 2-40                                            --                        (recursive)\n",
      "│    │    └─Conv2d: 3-37                                                         [1, 128, 14, 14]          147,584\n",
      "│    │    └─ConditionalInstanceNorm2dPlus: 3-38                                  [1, 128, 14, 14]          3,840\n",
      "├─ConditionalSequential: 1-122                                                   --                        (recursive)\n",
      "│    └─ELU: 2-39                                                                 [1, 128, 14, 14]          --\n",
      "├─ConditionalSequential: 1-34                                                    --                        (recursive)\n",
      "│    └─ConditionalResidualBlock: 2-40                                            --                        (recursive)\n",
      "│    │    └─Conv2d: 3-39                                                         [1, 128, 14, 14]          147,584\n",
      "│    │    └─Identity: 3-40                                                       [1, 128, 14, 14]          --\n",
      "├─ModuleList: 1-123                                                              --                        (recursive)\n",
      "│    └─CondRefineBlock: 2-41                                                     [1, 128, 14, 14]          605,696\n",
      "│    │    └─ModuleList: 3-45                                                     --                        (recursive)\n",
      "├─ConditionalSequential: 1-122                                                   --                        (recursive)\n",
      "│    └─ELU: 2-42                                                                 --                        --\n",
      "│    └─ELU: 2-43                                                                 [1, 128, 14, 14]          --\n",
      "├─ModuleList: 1-123                                                              --                        (recursive)\n",
      "│    └─CondRefineBlock: 2-61                                                     --                        (recursive)\n",
      "│    │    └─ModuleList: 3-45                                                     --                        (recursive)\n",
      "├─ConditionalSequential: 1-122                                                   --                        (recursive)\n",
      "│    └─ELU: 2-45                                                                 --                        --\n",
      "│    └─ELU: 2-46                                                                 [1, 128, 14, 14]          --\n",
      "├─ModuleList: 1-123                                                              --                        (recursive)\n",
      "│    └─CondRefineBlock: 2-61                                                     --                        (recursive)\n",
      "│    │    └─ModuleList: 3-45                                                     --                        (recursive)\n",
      "├─ConditionalSequential: 1-122                                                   --                        (recursive)\n",
      "│    └─ELU: 2-48                                                                 --                        --\n",
      "│    └─ELU: 2-49                                                                 [1, 128, 14, 14]          --\n",
      "├─ModuleList: 1-123                                                              --                        (recursive)\n",
      "│    └─CondRefineBlock: 2-61                                                     --                        (recursive)\n",
      "│    │    └─ModuleList: 3-45                                                     --                        (recursive)\n",
      "├─ConditionalSequential: 1-122                                                   --                        (recursive)\n",
      "│    └─ELU: 2-51                                                                 --                        --\n",
      "│    └─ELU: 2-52                                                                 [1, 128, 14, 14]          --\n",
      "├─ModuleList: 1-123                                                              --                        (recursive)\n",
      "│    └─CondRefineBlock: 2-61                                                     --                        (recursive)\n",
      "│    │    └─ModuleList: 3-45                                                     --                        (recursive)\n",
      "│    │    └─CondCRPBlock: 3-46                                                   [1, 128, 14, 14]          302,848\n",
      "├─ConditionalSequential: 1-122                                                   --                        (recursive)\n",
      "│    └─ELU: 2-54                                                                 [1, 128, 14, 14]          --\n",
      "├─ModuleList: 1-123                                                              --                        (recursive)\n",
      "│    └─CondRefineBlock: 2-61                                                     --                        (recursive)\n",
      "│    │    └─CondCRPBlock: 3-47                                                   --                        (recursive)\n",
      "│    │    └─CondRCUBlock: 3-48                                                   [1, 128, 14, 14]          302,848\n",
      "├─ConditionalSequential: 1-122                                                   --                        (recursive)\n",
      "│    └─ELU: 2-56                                                                 --                        --\n",
      "│    └─ELU: 2-57                                                                 [1, 128, 14, 14]          --\n",
      "├─ModuleList: 1-123                                                              --                        (recursive)\n",
      "│    └─CondRefineBlock: 2-61                                                     --                        (recursive)\n",
      "│    │    └─CondRCUBlock: 3-50                                                   --                        (recursive)\n",
      "├─ConditionalSequential: 1-122                                                   --                        (recursive)\n",
      "│    └─ELU: 2-59                                                                 --                        --\n",
      "│    └─ELU: 2-60                                                                 [1, 128, 14, 14]          --\n",
      "├─ModuleList: 1-123                                                              --                        (recursive)\n",
      "│    └─CondRefineBlock: 2-61                                                     --                        (recursive)\n",
      "│    │    └─CondRCUBlock: 3-50                                                   --                        (recursive)\n",
      "│    └─CondRefineBlock: 2-62                                                     [1, 128, 14, 14]          1,514,240\n",
      "│    │    └─ModuleList: 3-59                                                     --                        (recursive)\n",
      "├─ConditionalSequential: 1-122                                                   --                        (recursive)\n",
      "│    └─ELU: 2-63                                                                 --                        --\n",
      "│    └─ELU: 2-64                                                                 [1, 128, 14, 14]          --\n",
      "├─ModuleList: 1-123                                                              --                        (recursive)\n",
      "│    └─CondRefineBlock: 2-94                                                     --                        (recursive)\n",
      "│    │    └─ModuleList: 3-59                                                     --                        (recursive)\n",
      "├─ConditionalSequential: 1-122                                                   --                        (recursive)\n",
      "│    └─ELU: 2-66                                                                 --                        --\n",
      "│    └─ELU: 2-67                                                                 [1, 128, 14, 14]          --\n",
      "├─ModuleList: 1-123                                                              --                        (recursive)\n",
      "│    └─CondRefineBlock: 2-94                                                     --                        (recursive)\n",
      "│    │    └─ModuleList: 3-59                                                     --                        (recursive)\n",
      "├─ConditionalSequential: 1-122                                                   --                        (recursive)\n",
      "│    └─ELU: 2-69                                                                 --                        --\n",
      "│    └─ELU: 2-70                                                                 [1, 128, 14, 14]          --\n",
      "├─ModuleList: 1-123                                                              --                        (recursive)\n",
      "│    └─CondRefineBlock: 2-94                                                     --                        (recursive)\n",
      "│    │    └─ModuleList: 3-59                                                     --                        (recursive)\n",
      "├─ConditionalSequential: 1-122                                                   --                        (recursive)\n",
      "│    └─ELU: 2-72                                                                 --                        --\n",
      "│    └─ELU: 2-73                                                                 [1, 128, 14, 14]          --\n",
      "├─ModuleList: 1-123                                                              --                        (recursive)\n",
      "│    └─CondRefineBlock: 2-94                                                     --                        (recursive)\n",
      "│    │    └─ModuleList: 3-59                                                     --                        (recursive)\n",
      "├─ConditionalSequential: 1-122                                                   --                        (recursive)\n",
      "│    └─ELU: 2-75                                                                 --                        --\n",
      "│    └─ELU: 2-76                                                                 [1, 128, 14, 14]          --\n",
      "├─ModuleList: 1-123                                                              --                        (recursive)\n",
      "│    └─CondRefineBlock: 2-94                                                     --                        (recursive)\n",
      "│    │    └─ModuleList: 3-59                                                     --                        (recursive)\n",
      "├─ConditionalSequential: 1-122                                                   --                        (recursive)\n",
      "│    └─ELU: 2-78                                                                 --                        --\n",
      "│    └─ELU: 2-79                                                                 [1, 128, 14, 14]          --\n",
      "├─ModuleList: 1-123                                                              --                        (recursive)\n",
      "│    └─CondRefineBlock: 2-94                                                     --                        (recursive)\n",
      "│    │    └─ModuleList: 3-59                                                     --                        (recursive)\n",
      "├─ConditionalSequential: 1-122                                                   --                        (recursive)\n",
      "│    └─ELU: 2-81                                                                 --                        --\n",
      "│    └─ELU: 2-82                                                                 [1, 128, 14, 14]          --\n",
      "├─ModuleList: 1-123                                                              --                        (recursive)\n",
      "│    └─CondRefineBlock: 2-94                                                     --                        (recursive)\n",
      "│    │    └─ModuleList: 3-59                                                     --                        (recursive)\n",
      "├─ConditionalSequential: 1-122                                                   --                        (recursive)\n",
      "│    └─ELU: 2-84                                                                 --                        --\n",
      "│    └─ELU: 2-85                                                                 [1, 128, 14, 14]          --\n",
      "├─ModuleList: 1-123                                                              --                        (recursive)\n",
      "│    └─CondRefineBlock: 2-94                                                     --                        (recursive)\n",
      "│    │    └─ModuleList: 3-59                                                     --                        (recursive)\n",
      "│    │    └─CondMSFBlock: 3-60                                                   [1, 128, 14, 14]          302,848\n",
      "│    │    └─CondCRPBlock: 3-61                                                   [1, 128, 14, 14]          302,848\n",
      "├─ConditionalSequential: 1-122                                                   --                        (recursive)\n",
      "│    └─ELU: 2-87                                                                 [1, 128, 14, 14]          --\n",
      "├─ModuleList: 1-123                                                              --                        (recursive)\n",
      "│    └─CondRefineBlock: 2-94                                                     --                        (recursive)\n",
      "│    │    └─CondCRPBlock: 3-62                                                   --                        (recursive)\n",
      "│    │    └─CondRCUBlock: 3-63                                                   [1, 128, 14, 14]          302,848\n",
      "├─ConditionalSequential: 1-122                                                   --                        (recursive)\n",
      "│    └─ELU: 2-89                                                                 --                        --\n",
      "│    └─ELU: 2-90                                                                 [1, 128, 14, 14]          --\n",
      "├─ModuleList: 1-123                                                              --                        (recursive)\n",
      "│    └─CondRefineBlock: 2-94                                                     --                        (recursive)\n",
      "│    │    └─CondRCUBlock: 3-65                                                   --                        (recursive)\n",
      "├─ConditionalSequential: 1-122                                                   --                        (recursive)\n",
      "│    └─ELU: 2-92                                                                 --                        --\n",
      "│    └─ELU: 2-93                                                                 [1, 128, 14, 14]          --\n",
      "├─ModuleList: 1-123                                                              --                        (recursive)\n",
      "│    └─CondRefineBlock: 2-94                                                     --                        (recursive)\n",
      "│    │    └─CondRCUBlock: 3-65                                                   --                        (recursive)\n",
      "│    └─CondRefineBlock: 2-95                                                     [1, 64, 14, 14]           916,352\n",
      "│    │    └─ModuleList: 3-74                                                     --                        (recursive)\n",
      "├─ConditionalSequential: 1-122                                                   --                        (recursive)\n",
      "│    └─ELU: 2-96                                                                 --                        --\n",
      "│    └─ELU: 2-97                                                                 [1, 128, 14, 14]          --\n",
      "├─ModuleList: 1-123                                                              --                        (recursive)\n",
      "│    └─CondRefineBlock: 2-127                                                    --                        (recursive)\n",
      "│    │    └─ModuleList: 3-74                                                     --                        (recursive)\n",
      "├─ConditionalSequential: 1-122                                                   --                        (recursive)\n",
      "│    └─ELU: 2-99                                                                 --                        --\n",
      "│    └─ELU: 2-100                                                                [1, 128, 14, 14]          --\n",
      "├─ModuleList: 1-123                                                              --                        (recursive)\n",
      "│    └─CondRefineBlock: 2-127                                                    --                        (recursive)\n",
      "│    │    └─ModuleList: 3-74                                                     --                        (recursive)\n",
      "├─ConditionalSequential: 1-122                                                   --                        (recursive)\n",
      "│    └─ELU: 2-102                                                                --                        --\n",
      "│    └─ELU: 2-103                                                                [1, 128, 14, 14]          --\n",
      "├─ModuleList: 1-123                                                              --                        (recursive)\n",
      "│    └─CondRefineBlock: 2-127                                                    --                        (recursive)\n",
      "│    │    └─ModuleList: 3-74                                                     --                        (recursive)\n",
      "├─ConditionalSequential: 1-122                                                   --                        (recursive)\n",
      "│    └─ELU: 2-105                                                                --                        --\n",
      "│    └─ELU: 2-106                                                                [1, 128, 14, 14]          --\n",
      "├─ModuleList: 1-123                                                              --                        (recursive)\n",
      "│    └─CondRefineBlock: 2-127                                                    --                        (recursive)\n",
      "│    │    └─ModuleList: 3-74                                                     --                        (recursive)\n",
      "├─ConditionalSequential: 1-122                                                   --                        (recursive)\n",
      "│    └─ELU: 2-108                                                                --                        --\n",
      "│    └─ELU: 2-109                                                                [1, 128, 14, 14]          --\n",
      "├─ModuleList: 1-123                                                              --                        (recursive)\n",
      "│    └─CondRefineBlock: 2-127                                                    --                        (recursive)\n",
      "│    │    └─ModuleList: 3-74                                                     --                        (recursive)\n",
      "├─ConditionalSequential: 1-122                                                   --                        (recursive)\n",
      "│    └─ELU: 2-111                                                                --                        --\n",
      "│    └─ELU: 2-112                                                                [1, 128, 14, 14]          --\n",
      "├─ModuleList: 1-123                                                              --                        (recursive)\n",
      "│    └─CondRefineBlock: 2-127                                                    --                        (recursive)\n",
      "│    │    └─ModuleList: 3-74                                                     --                        (recursive)\n",
      "├─ConditionalSequential: 1-122                                                   --                        (recursive)\n",
      "│    └─ELU: 2-114                                                                --                        --\n",
      "│    └─ELU: 2-115                                                                [1, 128, 14, 14]          --\n",
      "├─ModuleList: 1-123                                                              --                        (recursive)\n",
      "│    └─CondRefineBlock: 2-127                                                    --                        (recursive)\n",
      "│    │    └─ModuleList: 3-74                                                     --                        (recursive)\n",
      "├─ConditionalSequential: 1-122                                                   --                        (recursive)\n",
      "│    └─ELU: 2-117                                                                --                        --\n",
      "│    └─ELU: 2-118                                                                [1, 128, 14, 14]          --\n",
      "├─ModuleList: 1-123                                                              --                        (recursive)\n",
      "│    └─CondRefineBlock: 2-127                                                    --                        (recursive)\n",
      "│    │    └─ModuleList: 3-74                                                     --                        (recursive)\n",
      "│    │    └─CondMSFBlock: 3-75                                                   [1, 64, 14, 14]           155,264\n",
      "│    │    └─CondCRPBlock: 3-76                                                   [1, 64, 14, 14]           77,696\n",
      "├─ConditionalSequential: 1-122                                                   --                        (recursive)\n",
      "│    └─ELU: 2-120                                                                [1, 64, 14, 14]           --\n",
      "├─ModuleList: 1-123                                                              --                        (recursive)\n",
      "│    └─CondRefineBlock: 2-127                                                    --                        (recursive)\n",
      "│    │    └─CondCRPBlock: 3-77                                                   --                        (recursive)\n",
      "│    │    └─CondRCUBlock: 3-78                                                   [1, 64, 14, 14]           77,696\n",
      "├─ConditionalSequential: 1-122                                                   --                        (recursive)\n",
      "│    └─ELU: 2-122                                                                --                        --\n",
      "│    └─ELU: 2-123                                                                [1, 64, 14, 14]           --\n",
      "├─ModuleList: 1-123                                                              --                        (recursive)\n",
      "│    └─CondRefineBlock: 2-127                                                    --                        (recursive)\n",
      "│    │    └─CondRCUBlock: 3-80                                                   --                        (recursive)\n",
      "├─ConditionalSequential: 1-122                                                   --                        (recursive)\n",
      "│    └─ELU: 2-125                                                                --                        --\n",
      "│    └─ELU: 2-126                                                                [1, 64, 14, 14]           --\n",
      "├─ModuleList: 1-123                                                              --                        (recursive)\n",
      "│    └─CondRefineBlock: 2-127                                                    --                        (recursive)\n",
      "│    │    └─CondRCUBlock: 3-80                                                   --                        (recursive)\n",
      "│    └─CondRefineBlock: 2-128                                                    [1, 64, 28, 28]           543,872\n",
      "│    │    └─ModuleList: 3-89                                                     --                        (recursive)\n",
      "├─ConditionalSequential: 1-122                                                   --                        (recursive)\n",
      "│    └─ELU: 2-129                                                                --                        --\n",
      "│    └─ELU: 2-130                                                                [1, 64, 28, 28]           --\n",
      "├─ModuleList: 1-123                                                              --                        (recursive)\n",
      "│    └─CondRefineBlock: 2-172                                                    --                        (recursive)\n",
      "│    │    └─ModuleList: 3-89                                                     --                        (recursive)\n",
      "├─ConditionalSequential: 1-122                                                   --                        (recursive)\n",
      "│    └─ELU: 2-132                                                                --                        --\n",
      "│    └─ELU: 2-133                                                                [1, 64, 28, 28]           --\n",
      "├─ModuleList: 1-123                                                              --                        (recursive)\n",
      "│    └─CondRefineBlock: 2-172                                                    --                        (recursive)\n",
      "│    │    └─ModuleList: 3-89                                                     --                        (recursive)\n",
      "├─ConditionalSequential: 1-122                                                   --                        (recursive)\n",
      "│    └─ELU: 2-135                                                                --                        --\n",
      "│    └─ELU: 2-136                                                                [1, 64, 28, 28]           --\n",
      "├─ModuleList: 1-123                                                              --                        (recursive)\n",
      "│    └─CondRefineBlock: 2-172                                                    --                        (recursive)\n",
      "│    │    └─ModuleList: 3-89                                                     --                        (recursive)\n",
      "├─ConditionalSequential: 1-122                                                   --                        (recursive)\n",
      "│    └─ELU: 2-138                                                                --                        --\n",
      "│    └─ELU: 2-139                                                                [1, 64, 28, 28]           --\n",
      "├─ModuleList: 1-123                                                              --                        (recursive)\n",
      "│    └─CondRefineBlock: 2-172                                                    --                        (recursive)\n",
      "│    │    └─ModuleList: 3-89                                                     --                        (recursive)\n",
      "├─ConditionalSequential: 1-122                                                   --                        (recursive)\n",
      "│    └─ELU: 2-141                                                                --                        --\n",
      "│    └─ELU: 2-142                                                                [1, 64, 14, 14]           --\n",
      "├─ModuleList: 1-123                                                              --                        (recursive)\n",
      "│    └─CondRefineBlock: 2-172                                                    --                        (recursive)\n",
      "│    │    └─ModuleList: 3-89                                                     --                        (recursive)\n",
      "├─ConditionalSequential: 1-122                                                   --                        (recursive)\n",
      "│    └─ELU: 2-144                                                                --                        --\n",
      "│    └─ELU: 2-145                                                                [1, 64, 14, 14]           --\n",
      "├─ModuleList: 1-123                                                              --                        (recursive)\n",
      "│    └─CondRefineBlock: 2-172                                                    --                        (recursive)\n",
      "│    │    └─ModuleList: 3-89                                                     --                        (recursive)\n",
      "├─ConditionalSequential: 1-122                                                   --                        (recursive)\n",
      "│    └─ELU: 2-147                                                                --                        --\n",
      "│    └─ELU: 2-148                                                                [1, 64, 14, 14]           --\n",
      "├─ModuleList: 1-123                                                              --                        (recursive)\n",
      "│    └─CondRefineBlock: 2-172                                                    --                        (recursive)\n",
      "│    │    └─ModuleList: 3-89                                                     --                        (recursive)\n",
      "├─ConditionalSequential: 1-122                                                   --                        (recursive)\n",
      "│    └─ELU: 2-150                                                                --                        --\n",
      "│    └─ELU: 2-151                                                                [1, 64, 14, 14]           --\n",
      "├─ModuleList: 1-123                                                              --                        (recursive)\n",
      "│    └─CondRefineBlock: 2-172                                                    --                        (recursive)\n",
      "│    │    └─ModuleList: 3-89                                                     --                        (recursive)\n",
      "│    │    └─CondMSFBlock: 3-90                                                   [1, 64, 28, 28]           77,696\n",
      "│    │    └─CondCRPBlock: 3-91                                                   [1, 64, 28, 28]           77,696\n",
      "├─ConditionalSequential: 1-122                                                   --                        (recursive)\n",
      "│    └─ELU: 2-153                                                                [1, 64, 28, 28]           --\n",
      "├─ModuleList: 1-123                                                              --                        (recursive)\n",
      "│    └─CondRefineBlock: 2-172                                                    --                        (recursive)\n",
      "│    │    └─CondCRPBlock: 3-92                                                   --                        (recursive)\n",
      "│    │    └─CondRCUBlock: 3-93                                                   [1, 64, 28, 28]           233,088\n",
      "├─ConditionalSequential: 1-122                                                   --                        (recursive)\n",
      "│    └─ELU: 2-155                                                                --                        --\n",
      "│    └─ELU: 2-156                                                                [1, 64, 28, 28]           --\n",
      "├─ModuleList: 1-123                                                              --                        (recursive)\n",
      "│    └─CondRefineBlock: 2-172                                                    --                        (recursive)\n",
      "│    │    └─CondRCUBlock: 3-99                                                   --                        (recursive)\n",
      "├─ConditionalSequential: 1-122                                                   --                        (recursive)\n",
      "│    └─ELU: 2-158                                                                --                        --\n",
      "│    └─ELU: 2-159                                                                [1, 64, 28, 28]           --\n",
      "├─ModuleList: 1-123                                                              --                        (recursive)\n",
      "│    └─CondRefineBlock: 2-172                                                    --                        (recursive)\n",
      "│    │    └─CondRCUBlock: 3-99                                                   --                        (recursive)\n",
      "├─ConditionalSequential: 1-122                                                   --                        (recursive)\n",
      "│    └─ELU: 2-161                                                                --                        --\n",
      "│    └─ELU: 2-162                                                                [1, 64, 28, 28]           --\n",
      "├─ModuleList: 1-123                                                              --                        (recursive)\n",
      "│    └─CondRefineBlock: 2-172                                                    --                        (recursive)\n",
      "│    │    └─CondRCUBlock: 3-99                                                   --                        (recursive)\n",
      "├─ConditionalSequential: 1-122                                                   --                        (recursive)\n",
      "│    └─ELU: 2-164                                                                --                        --\n",
      "│    └─ELU: 2-165                                                                [1, 64, 28, 28]           --\n",
      "├─ModuleList: 1-123                                                              --                        (recursive)\n",
      "│    └─CondRefineBlock: 2-172                                                    --                        (recursive)\n",
      "│    │    └─CondRCUBlock: 3-99                                                   --                        (recursive)\n",
      "├─ConditionalSequential: 1-122                                                   --                        (recursive)\n",
      "│    └─ELU: 2-167                                                                --                        --\n",
      "│    └─ELU: 2-168                                                                [1, 64, 28, 28]           --\n",
      "├─ModuleList: 1-123                                                              --                        (recursive)\n",
      "│    └─CondRefineBlock: 2-172                                                    --                        (recursive)\n",
      "│    │    └─CondRCUBlock: 3-99                                                   --                        (recursive)\n",
      "├─ConditionalSequential: 1-122                                                   --                        (recursive)\n",
      "│    └─ELU: 2-170                                                                --                        --\n",
      "│    └─ELU: 2-171                                                                [1, 64, 28, 28]           --\n",
      "├─ModuleList: 1-123                                                              --                        (recursive)\n",
      "│    └─CondRefineBlock: 2-172                                                    --                        (recursive)\n",
      "│    │    └─CondRCUBlock: 3-99                                                   --                        (recursive)\n",
      "├─ConditionalSequential: 1-124                                                   [1, 1, 28, 28]            --\n",
      "│    └─ConditionalInstanceNorm2dPlus: 2-173                                      [1, 64, 28, 28]           --\n",
      "│    │    └─InstanceNorm2d: 3-100                                                [1, 64, 28, 28]           --\n",
      "│    │    └─Embedding: 3-101                                                     [1, 192]                  1,920\n",
      "│    └─ELU: 2-174                                                                --                        --\n",
      "│    └─ELU: 2-175                                                                [1, 64, 28, 28]           --\n",
      "│    └─Conv2d: 2-176                                                             --                        577\n",
      "│    └─Conv2d: 2-177                                                             [1, 1, 28, 28]            (recursive)\n",
      "==================================================================================================================================\n",
      "Total params: 24,339,969\n",
      "Trainable params: 24,339,969\n",
      "Non-trainable params: 0\n",
      "Total mult-adds (Units.GIGABYTES): 1.95\n",
      "==================================================================================================================================\n",
      "Input size (MB): 0.00\n",
      "Forward/backward pass size (MB): 18.95\n",
      "Params size (MB): 30.84\n",
      "Estimated Total Size (MB): 49.79\n",
      "==================================================================================================================================\n"
     ]
    }
   ],
   "source": [
    "model = NCSN(shape, L, filters=64)\n",
    "optimizer = torch.optim.Adam(model.parameters(), lr=1e-3)\n",
    "\n",
    "print(summary(model, [(1, *shape[::-1]), (1,)], dtypes=[torch.float, torch.long]))"
   ]
  },
  {
   "cell_type": "code",
   "execution_count": 12,
   "id": "aeb3cd98-737e-4fdd-bfda-466e77b763cc",
   "metadata": {},
   "outputs": [],
   "source": [
    "perturbation = GaussianPerturbation()\n",
    "loss_fn = NCSNLoss(perturbation, sigmas, coeff_func=lambda s: s**2)"
   ]
  },
  {
   "cell_type": "code",
   "execution_count": 13,
   "id": "d0d727c3-f2b9-43e9-aeb7-66a52d2edc5a",
   "metadata": {},
   "outputs": [],
   "source": [
    "if os.path.exists(\"model_mnist.pth\"):\n",
    "    model.load_state_dict(torch.load(\"model_mnist.pth\"))"
   ]
  },
  {
   "cell_type": "code",
   "execution_count": 14,
   "id": "82aa4f33-2a16-4530-ab13-a508c446bfc6",
   "metadata": {},
   "outputs": [],
   "source": [
    "trainer = ScoreNetTrainer(train_loader, model, device)\n",
    "sampler = AnnealedLangevinDynamics(model, sigmas, device)"
   ]
  },
  {
   "cell_type": "code",
   "execution_count": 16,
   "id": "4aad0040-f545-4b05-8edb-e3f9d25d903e",
   "metadata": {},
   "outputs": [],
   "source": [
    "# for e in range(0):\n",
    "#     trainer.train(loss_fn, optimizer, epochs=4, verbose=True, reset=False)\n",
    "    \n",
    "#     img = sample_img(sampler, shape)\n",
    "#     plt.imshow(img, cmap=\"gray\")\n",
    "#     plt.show()\n",
    "# torch.save(model.state_dict(), \"model_mnist.pth\")"
   ]
  },
  {
   "cell_type": "code",
   "execution_count": 17,
   "id": "cea278af-fb89-44f9-84f5-4912b39de1bc",
   "metadata": {},
   "outputs": [],
   "source": [
    "# img = sample_img(sampler, shape)\n",
    "# plt.imshow(img, cmap=\"gray\")\n",
    "# plt.show()"
   ]
  },
  {
   "cell_type": "markdown",
   "id": "900ddf54-6432-45ed-9053-2fde72c457da",
   "metadata": {},
   "source": [
    "## AE / VAE Model"
   ]
  },
  {
   "cell_type": "code",
   "execution_count": 4,
   "id": "b38ec0d1-aac8-4dde-90fe-e9b11c41c7c4",
   "metadata": {},
   "outputs": [],
   "source": [
    "B = 128\n",
    "\n",
    "train_loader, test_loader = get_dataset(\"mnist\", batch_size=B, num_workers=2, pin_memory=False)\n",
    "shape = (28, 28, 1)"
   ]
  },
  {
   "cell_type": "code",
   "execution_count": 5,
   "id": "361ea089-aaee-4ac1-9253-0f11484b75fe",
   "metadata": {},
   "outputs": [
    {
     "data": {
      "application/vnd.jupyter.widget-view+json": {
       "model_id": "44b568315b0d4403884688dc42be1168",
       "version_major": 2,
       "version_minor": 0
      },
      "text/plain": [
       "  0%|          | 0/468 [00:00<?, ?batch/s]"
      ]
     },
     "metadata": {},
     "output_type": "display_data"
    },
    {
     "name": "stdout",
     "output_type": "stream",
     "text": [
      "Epoch 1 (Loss: 5645.9957)\n"
     ]
    },
    {
     "data": {
      "application/vnd.jupyter.widget-view+json": {
       "model_id": "d792db0164d4417b809a1cd4d03298ae",
       "version_major": 2,
       "version_minor": 0
      },
      "text/plain": [
       "  0%|          | 0/468 [00:00<?, ?batch/s]"
      ]
     },
     "metadata": {},
     "output_type": "display_data"
    },
    {
     "name": "stdout",
     "output_type": "stream",
     "text": [
      "Epoch 2 (Loss: 2813.8982)\n"
     ]
    },
    {
     "data": {
      "application/vnd.jupyter.widget-view+json": {
       "model_id": "0486472a8951426387ec89cbf832ad0b",
       "version_major": 2,
       "version_minor": 0
      },
      "text/plain": [
       "  0%|          | 0/468 [00:00<?, ?batch/s]"
      ]
     },
     "metadata": {},
     "output_type": "display_data"
    },
    {
     "name": "stdout",
     "output_type": "stream",
     "text": [
      "Epoch 3 (Loss: 2270.4133)\n"
     ]
    },
    {
     "data": {
      "application/vnd.jupyter.widget-view+json": {
       "model_id": "4dfa2053e1c74ffbb4e2da29408f7a39",
       "version_major": 2,
       "version_minor": 0
      },
      "text/plain": [
       "  0%|          | 0/468 [00:00<?, ?batch/s]"
      ]
     },
     "metadata": {},
     "output_type": "display_data"
    },
    {
     "name": "stdout",
     "output_type": "stream",
     "text": [
      "Epoch 4 (Loss: 1987.7934)\n"
     ]
    },
    {
     "data": {
      "application/vnd.jupyter.widget-view+json": {
       "model_id": "b66db33dd84249d88faecf4c7b806692",
       "version_major": 2,
       "version_minor": 0
      },
      "text/plain": [
       "  0%|          | 0/468 [00:00<?, ?batch/s]"
      ]
     },
     "metadata": {},
     "output_type": "display_data"
    },
    {
     "name": "stdout",
     "output_type": "stream",
     "text": [
      "Epoch 5 (Loss: 1720.5873)\n"
     ]
    },
    {
     "data": {
      "application/vnd.jupyter.widget-view+json": {
       "model_id": "df16bc812ecc471780789797ca47a7f9",
       "version_major": 2,
       "version_minor": 0
      },
      "text/plain": [
       "  0%|          | 0/468 [00:00<?, ?batch/s]"
      ]
     },
     "metadata": {},
     "output_type": "display_data"
    },
    {
     "name": "stdout",
     "output_type": "stream",
     "text": [
      "Epoch 6 (Loss: 1571.6167)\n"
     ]
    },
    {
     "data": {
      "application/vnd.jupyter.widget-view+json": {
       "model_id": "31ecd4b3f3ec477c81c6e441389c2d78",
       "version_major": 2,
       "version_minor": 0
      },
      "text/plain": [
       "  0%|          | 0/468 [00:00<?, ?batch/s]"
      ]
     },
     "metadata": {},
     "output_type": "display_data"
    },
    {
     "name": "stdout",
     "output_type": "stream",
     "text": [
      "Epoch 7 (Loss: 1477.1886)\n"
     ]
    },
    {
     "data": {
      "application/vnd.jupyter.widget-view+json": {
       "model_id": "65888bb6b6af45428246b6ba2bc2216e",
       "version_major": 2,
       "version_minor": 0
      },
      "text/plain": [
       "  0%|          | 0/468 [00:00<?, ?batch/s]"
      ]
     },
     "metadata": {},
     "output_type": "display_data"
    },
    {
     "name": "stdout",
     "output_type": "stream",
     "text": [
      "Epoch 8 (Loss: 1400.2361)\n"
     ]
    },
    {
     "data": {
      "application/vnd.jupyter.widget-view+json": {
       "model_id": "2bfe9688f1894a46bda4bfe3fc2cf77c",
       "version_major": 2,
       "version_minor": 0
      },
      "text/plain": [
       "  0%|          | 0/468 [00:00<?, ?batch/s]"
      ]
     },
     "metadata": {},
     "output_type": "display_data"
    },
    {
     "name": "stdout",
     "output_type": "stream",
     "text": [
      "Epoch 9 (Loss: 1327.9347)\n"
     ]
    },
    {
     "data": {
      "application/vnd.jupyter.widget-view+json": {
       "model_id": "53e9b4e633cb42378ce77e7049002179",
       "version_major": 2,
       "version_minor": 0
      },
      "text/plain": [
       "  0%|          | 0/468 [00:00<?, ?batch/s]"
      ]
     },
     "metadata": {},
     "output_type": "display_data"
    },
    {
     "name": "stdout",
     "output_type": "stream",
     "text": [
      "Epoch 10 (Loss: 1261.3501)\n"
     ]
    },
    {
     "data": {
      "application/vnd.jupyter.widget-view+json": {
       "model_id": "4684053e72a0443696c9b23fc58d11bb",
       "version_major": 2,
       "version_minor": 0
      },
      "text/plain": [
       "  0%|          | 0/468 [00:00<?, ?batch/s]"
      ]
     },
     "metadata": {},
     "output_type": "display_data"
    },
    {
     "name": "stdout",
     "output_type": "stream",
     "text": [
      "Epoch 11 (Loss: 1196.0089)\n"
     ]
    },
    {
     "data": {
      "application/vnd.jupyter.widget-view+json": {
       "model_id": "21b567306a5b454a8430cc116787a777",
       "version_major": 2,
       "version_minor": 0
      },
      "text/plain": [
       "  0%|          | 0/468 [00:00<?, ?batch/s]"
      ]
     },
     "metadata": {},
     "output_type": "display_data"
    },
    {
     "name": "stdout",
     "output_type": "stream",
     "text": [
      "Epoch 12 (Loss: 1153.7944)\n"
     ]
    },
    {
     "data": {
      "application/vnd.jupyter.widget-view+json": {
       "model_id": "bd487d849a544228a99221c53de1ed5a",
       "version_major": 2,
       "version_minor": 0
      },
      "text/plain": [
       "  0%|          | 0/468 [00:00<?, ?batch/s]"
      ]
     },
     "metadata": {},
     "output_type": "display_data"
    },
    {
     "name": "stdout",
     "output_type": "stream",
     "text": [
      "Epoch 13 (Loss: 1118.2181)\n"
     ]
    },
    {
     "data": {
      "application/vnd.jupyter.widget-view+json": {
       "model_id": "848d8fb35d8e473f87781f2bb596ebfe",
       "version_major": 2,
       "version_minor": 0
      },
      "text/plain": [
       "  0%|          | 0/468 [00:00<?, ?batch/s]"
      ]
     },
     "metadata": {},
     "output_type": "display_data"
    },
    {
     "name": "stdout",
     "output_type": "stream",
     "text": [
      "Epoch 14 (Loss: 1079.7053)\n"
     ]
    },
    {
     "data": {
      "application/vnd.jupyter.widget-view+json": {
       "model_id": "85fb267194da420f8d680768c6e2daa7",
       "version_major": 2,
       "version_minor": 0
      },
      "text/plain": [
       "  0%|          | 0/468 [00:00<?, ?batch/s]"
      ]
     },
     "metadata": {},
     "output_type": "display_data"
    },
    {
     "name": "stdout",
     "output_type": "stream",
     "text": [
      "Epoch 15 (Loss: 1056.2791)\n"
     ]
    },
    {
     "data": {
      "application/vnd.jupyter.widget-view+json": {
       "model_id": "812352d8bf984e5bb2e675effc269c66",
       "version_major": 2,
       "version_minor": 0
      },
      "text/plain": [
       "  0%|          | 0/468 [00:00<?, ?batch/s]"
      ]
     },
     "metadata": {},
     "output_type": "display_data"
    },
    {
     "name": "stdout",
     "output_type": "stream",
     "text": [
      "Epoch 16 (Loss: 1036.9582)\n"
     ]
    },
    {
     "data": {
      "application/vnd.jupyter.widget-view+json": {
       "model_id": "1a92ed04c8b04834ba9fdb33d62d0f7d",
       "version_major": 2,
       "version_minor": 0
      },
      "text/plain": [
       "  0%|          | 0/468 [00:00<?, ?batch/s]"
      ]
     },
     "metadata": {},
     "output_type": "display_data"
    },
    {
     "name": "stdout",
     "output_type": "stream",
     "text": [
      "Epoch 17 (Loss: 1013.5342)\n"
     ]
    },
    {
     "data": {
      "application/vnd.jupyter.widget-view+json": {
       "model_id": "0669c53526a4499e87295898fa745359",
       "version_major": 2,
       "version_minor": 0
      },
      "text/plain": [
       "  0%|          | 0/468 [00:00<?, ?batch/s]"
      ]
     },
     "metadata": {},
     "output_type": "display_data"
    },
    {
     "name": "stdout",
     "output_type": "stream",
     "text": [
      "Epoch 18 (Loss: 998.8928)\n"
     ]
    },
    {
     "data": {
      "application/vnd.jupyter.widget-view+json": {
       "model_id": "f83f1725ab1e4e3895e9c65a3c404ba4",
       "version_major": 2,
       "version_minor": 0
      },
      "text/plain": [
       "  0%|          | 0/468 [00:00<?, ?batch/s]"
      ]
     },
     "metadata": {},
     "output_type": "display_data"
    },
    {
     "name": "stdout",
     "output_type": "stream",
     "text": [
      "Epoch 19 (Loss: 980.7021)\n"
     ]
    },
    {
     "data": {
      "application/vnd.jupyter.widget-view+json": {
       "model_id": "39ffecec28a84eb0a5366a1a0c40f5b7",
       "version_major": 2,
       "version_minor": 0
      },
      "text/plain": [
       "  0%|          | 0/468 [00:00<?, ?batch/s]"
      ]
     },
     "metadata": {},
     "output_type": "display_data"
    },
    {
     "name": "stdout",
     "output_type": "stream",
     "text": [
      "Epoch 20 (Loss: 966.6678)\n"
     ]
    },
    {
     "data": {
      "application/vnd.jupyter.widget-view+json": {
       "model_id": "76d492cd0914416a990e84c4d1d89c10",
       "version_major": 2,
       "version_minor": 0
      },
      "text/plain": [
       "  0%|          | 0/468 [00:00<?, ?batch/s]"
      ]
     },
     "metadata": {},
     "output_type": "display_data"
    },
    {
     "name": "stdout",
     "output_type": "stream",
     "text": [
      "Epoch 21 (Loss: 952.7629)\n"
     ]
    },
    {
     "data": {
      "application/vnd.jupyter.widget-view+json": {
       "model_id": "95e507a5372c458fbcde53017b350580",
       "version_major": 2,
       "version_minor": 0
      },
      "text/plain": [
       "  0%|          | 0/468 [00:00<?, ?batch/s]"
      ]
     },
     "metadata": {},
     "output_type": "display_data"
    },
    {
     "name": "stdout",
     "output_type": "stream",
     "text": [
      "Epoch 22 (Loss: 941.8174)\n"
     ]
    },
    {
     "data": {
      "application/vnd.jupyter.widget-view+json": {
       "model_id": "a48e93c5908b4274bb1c1f74b0fa228b",
       "version_major": 2,
       "version_minor": 0
      },
      "text/plain": [
       "  0%|          | 0/468 [00:00<?, ?batch/s]"
      ]
     },
     "metadata": {},
     "output_type": "display_data"
    },
    {
     "name": "stdout",
     "output_type": "stream",
     "text": [
      "Epoch 23 (Loss: 935.6878)\n"
     ]
    },
    {
     "data": {
      "application/vnd.jupyter.widget-view+json": {
       "model_id": "ecf6657d59714b3d95d43ec94ebe15b1",
       "version_major": 2,
       "version_minor": 0
      },
      "text/plain": [
       "  0%|          | 0/468 [00:00<?, ?batch/s]"
      ]
     },
     "metadata": {},
     "output_type": "display_data"
    },
    {
     "name": "stdout",
     "output_type": "stream",
     "text": [
      "Epoch 24 (Loss: 914.1515)\n"
     ]
    },
    {
     "data": {
      "application/vnd.jupyter.widget-view+json": {
       "model_id": "9ef45ef536e34b7bacfa108906b59d49",
       "version_major": 2,
       "version_minor": 0
      },
      "text/plain": [
       "  0%|          | 0/468 [00:00<?, ?batch/s]"
      ]
     },
     "metadata": {},
     "output_type": "display_data"
    },
    {
     "name": "stdout",
     "output_type": "stream",
     "text": [
      "Epoch 25 (Loss: 909.8050)\n"
     ]
    },
    {
     "data": {
      "application/vnd.jupyter.widget-view+json": {
       "model_id": "2fe04ed3e3574d3f91e02c279f42b250",
       "version_major": 2,
       "version_minor": 0
      },
      "text/plain": [
       "  0%|          | 0/468 [00:00<?, ?batch/s]"
      ]
     },
     "metadata": {},
     "output_type": "display_data"
    },
    {
     "name": "stdout",
     "output_type": "stream",
     "text": [
      "Epoch 26 (Loss: 897.2226)\n"
     ]
    },
    {
     "data": {
      "application/vnd.jupyter.widget-view+json": {
       "model_id": "e8bcac35fcd3466aa8e30e7eab816bca",
       "version_major": 2,
       "version_minor": 0
      },
      "text/plain": [
       "  0%|          | 0/468 [00:00<?, ?batch/s]"
      ]
     },
     "metadata": {},
     "output_type": "display_data"
    },
    {
     "name": "stdout",
     "output_type": "stream",
     "text": [
      "Epoch 27 (Loss: 887.0987)\n"
     ]
    },
    {
     "data": {
      "application/vnd.jupyter.widget-view+json": {
       "model_id": "27ef663022e144a5a1e2377e6fa16c61",
       "version_major": 2,
       "version_minor": 0
      },
      "text/plain": [
       "  0%|          | 0/468 [00:00<?, ?batch/s]"
      ]
     },
     "metadata": {},
     "output_type": "display_data"
    },
    {
     "name": "stdout",
     "output_type": "stream",
     "text": [
      "Epoch 28 (Loss: 879.3474)\n"
     ]
    },
    {
     "data": {
      "application/vnd.jupyter.widget-view+json": {
       "model_id": "8d91af4eec3c4b5cbd7dce905fbcff71",
       "version_major": 2,
       "version_minor": 0
      },
      "text/plain": [
       "  0%|          | 0/468 [00:00<?, ?batch/s]"
      ]
     },
     "metadata": {},
     "output_type": "display_data"
    },
    {
     "name": "stdout",
     "output_type": "stream",
     "text": [
      "Epoch 29 (Loss: 866.8812)\n"
     ]
    },
    {
     "data": {
      "application/vnd.jupyter.widget-view+json": {
       "model_id": "4eeb125538504f408d7637cf8577aa9a",
       "version_major": 2,
       "version_minor": 0
      },
      "text/plain": [
       "  0%|          | 0/468 [00:00<?, ?batch/s]"
      ]
     },
     "metadata": {},
     "output_type": "display_data"
    },
    {
     "name": "stdout",
     "output_type": "stream",
     "text": [
      "Epoch 30 (Loss: 856.6711)\n"
     ]
    },
    {
     "data": {
      "application/vnd.jupyter.widget-view+json": {
       "model_id": "d2a0e1c492de45ab90a2129111f605f6",
       "version_major": 2,
       "version_minor": 0
      },
      "text/plain": [
       "  0%|          | 0/468 [00:00<?, ?batch/s]"
      ]
     },
     "metadata": {},
     "output_type": "display_data"
    },
    {
     "name": "stdout",
     "output_type": "stream",
     "text": [
      "Epoch 31 (Loss: 846.9943)\n"
     ]
    },
    {
     "data": {
      "application/vnd.jupyter.widget-view+json": {
       "model_id": "875b4e867e9d4740a70d6c49badccdde",
       "version_major": 2,
       "version_minor": 0
      },
      "text/plain": [
       "  0%|          | 0/468 [00:00<?, ?batch/s]"
      ]
     },
     "metadata": {},
     "output_type": "display_data"
    },
    {
     "name": "stdout",
     "output_type": "stream",
     "text": [
      "Epoch 32 (Loss: 842.9733)\n"
     ]
    },
    {
     "data": {
      "application/vnd.jupyter.widget-view+json": {
       "model_id": "385cc84aac8d4e1986dc13c3dfb8504b",
       "version_major": 2,
       "version_minor": 0
      },
      "text/plain": [
       "  0%|          | 0/468 [00:00<?, ?batch/s]"
      ]
     },
     "metadata": {},
     "output_type": "display_data"
    },
    {
     "name": "stdout",
     "output_type": "stream",
     "text": [
      "Epoch 33 (Loss: 829.4289)\n"
     ]
    },
    {
     "data": {
      "application/vnd.jupyter.widget-view+json": {
       "model_id": "7a92a44ebb924e5eb8874e0bc91f1d21",
       "version_major": 2,
       "version_minor": 0
      },
      "text/plain": [
       "  0%|          | 0/468 [00:00<?, ?batch/s]"
      ]
     },
     "metadata": {},
     "output_type": "display_data"
    },
    {
     "name": "stdout",
     "output_type": "stream",
     "text": [
      "Epoch 34 (Loss: 825.0740)\n"
     ]
    },
    {
     "data": {
      "application/vnd.jupyter.widget-view+json": {
       "model_id": "c8ca3c74d8b647cb8d500a451e4bc46e",
       "version_major": 2,
       "version_minor": 0
      },
      "text/plain": [
       "  0%|          | 0/468 [00:00<?, ?batch/s]"
      ]
     },
     "metadata": {},
     "output_type": "display_data"
    },
    {
     "name": "stdout",
     "output_type": "stream",
     "text": [
      "Epoch 35 (Loss: 814.2837)\n"
     ]
    },
    {
     "data": {
      "application/vnd.jupyter.widget-view+json": {
       "model_id": "0e4d84cde6e04572a3b4678827f96f86",
       "version_major": 2,
       "version_minor": 0
      },
      "text/plain": [
       "  0%|          | 0/468 [00:00<?, ?batch/s]"
      ]
     },
     "metadata": {},
     "output_type": "display_data"
    },
    {
     "name": "stdout",
     "output_type": "stream",
     "text": [
      "Epoch 36 (Loss: 808.7123)\n"
     ]
    },
    {
     "data": {
      "application/vnd.jupyter.widget-view+json": {
       "model_id": "9b7af0e2d86048aa8e405f2b6db24947",
       "version_major": 2,
       "version_minor": 0
      },
      "text/plain": [
       "  0%|          | 0/468 [00:00<?, ?batch/s]"
      ]
     },
     "metadata": {},
     "output_type": "display_data"
    },
    {
     "name": "stdout",
     "output_type": "stream",
     "text": [
      "Epoch 37 (Loss: 798.0527)\n"
     ]
    },
    {
     "data": {
      "application/vnd.jupyter.widget-view+json": {
       "model_id": "d846a57b4f244dad8537419efac3f949",
       "version_major": 2,
       "version_minor": 0
      },
      "text/plain": [
       "  0%|          | 0/468 [00:00<?, ?batch/s]"
      ]
     },
     "metadata": {},
     "output_type": "display_data"
    },
    {
     "name": "stdout",
     "output_type": "stream",
     "text": [
      "Epoch 38 (Loss: 793.5483)\n"
     ]
    },
    {
     "data": {
      "application/vnd.jupyter.widget-view+json": {
       "model_id": "7c54383ffdec48c9bf6ebe633a74f2c3",
       "version_major": 2,
       "version_minor": 0
      },
      "text/plain": [
       "  0%|          | 0/468 [00:00<?, ?batch/s]"
      ]
     },
     "metadata": {},
     "output_type": "display_data"
    },
    {
     "name": "stdout",
     "output_type": "stream",
     "text": [
      "Epoch 39 (Loss: 787.7027)\n"
     ]
    },
    {
     "data": {
      "application/vnd.jupyter.widget-view+json": {
       "model_id": "379a5147fefc41bba589308619fdf6a8",
       "version_major": 2,
       "version_minor": 0
      },
      "text/plain": [
       "  0%|          | 0/468 [00:00<?, ?batch/s]"
      ]
     },
     "metadata": {},
     "output_type": "display_data"
    },
    {
     "name": "stdout",
     "output_type": "stream",
     "text": [
      "Epoch 40 (Loss: 776.6879)\n"
     ]
    },
    {
     "data": {
      "application/vnd.jupyter.widget-view+json": {
       "model_id": "5a2457e6c31f4d868ff699fa4e2ad403",
       "version_major": 2,
       "version_minor": 0
      },
      "text/plain": [
       "  0%|          | 0/468 [00:00<?, ?batch/s]"
      ]
     },
     "metadata": {},
     "output_type": "display_data"
    },
    {
     "name": "stdout",
     "output_type": "stream",
     "text": [
      "Epoch 41 (Loss: 775.7313)\n"
     ]
    },
    {
     "data": {
      "application/vnd.jupyter.widget-view+json": {
       "model_id": "2fe3d942ef2c498188de4dff947f2bc2",
       "version_major": 2,
       "version_minor": 0
      },
      "text/plain": [
       "  0%|          | 0/468 [00:00<?, ?batch/s]"
      ]
     },
     "metadata": {},
     "output_type": "display_data"
    },
    {
     "name": "stdout",
     "output_type": "stream",
     "text": [
      "Epoch 42 (Loss: 770.0432)\n"
     ]
    },
    {
     "data": {
      "application/vnd.jupyter.widget-view+json": {
       "model_id": "1fc36a4e444e4110a348eb53a2b702aa",
       "version_major": 2,
       "version_minor": 0
      },
      "text/plain": [
       "  0%|          | 0/468 [00:00<?, ?batch/s]"
      ]
     },
     "metadata": {},
     "output_type": "display_data"
    },
    {
     "name": "stdout",
     "output_type": "stream",
     "text": [
      "Epoch 43 (Loss: 760.4793)\n"
     ]
    },
    {
     "data": {
      "application/vnd.jupyter.widget-view+json": {
       "model_id": "2334daf4373c448495183b8e5f59b1d6",
       "version_major": 2,
       "version_minor": 0
      },
      "text/plain": [
       "  0%|          | 0/468 [00:00<?, ?batch/s]"
      ]
     },
     "metadata": {},
     "output_type": "display_data"
    },
    {
     "name": "stdout",
     "output_type": "stream",
     "text": [
      "Epoch 44 (Loss: 755.1937)\n"
     ]
    },
    {
     "data": {
      "application/vnd.jupyter.widget-view+json": {
       "model_id": "11ceb7334aa74ac5b272cbd2da61bdcb",
       "version_major": 2,
       "version_minor": 0
      },
      "text/plain": [
       "  0%|          | 0/468 [00:00<?, ?batch/s]"
      ]
     },
     "metadata": {},
     "output_type": "display_data"
    },
    {
     "name": "stdout",
     "output_type": "stream",
     "text": [
      "Epoch 45 (Loss: 751.5720)\n"
     ]
    },
    {
     "data": {
      "application/vnd.jupyter.widget-view+json": {
       "model_id": "a93db54a10f949e1a9b40b21e689c7c3",
       "version_major": 2,
       "version_minor": 0
      },
      "text/plain": [
       "  0%|          | 0/468 [00:00<?, ?batch/s]"
      ]
     },
     "metadata": {},
     "output_type": "display_data"
    },
    {
     "name": "stdout",
     "output_type": "stream",
     "text": [
      "Epoch 46 (Loss: 740.4452)\n"
     ]
    },
    {
     "data": {
      "application/vnd.jupyter.widget-view+json": {
       "model_id": "5c366d11851b4006aecfda96cb2151c4",
       "version_major": 2,
       "version_minor": 0
      },
      "text/plain": [
       "  0%|          | 0/468 [00:00<?, ?batch/s]"
      ]
     },
     "metadata": {},
     "output_type": "display_data"
    },
    {
     "name": "stdout",
     "output_type": "stream",
     "text": [
      "Epoch 47 (Loss: 737.9235)\n"
     ]
    },
    {
     "data": {
      "application/vnd.jupyter.widget-view+json": {
       "model_id": "8de15e59a1c5426bb6332ff43c5b5ce9",
       "version_major": 2,
       "version_minor": 0
      },
      "text/plain": [
       "  0%|          | 0/468 [00:00<?, ?batch/s]"
      ]
     },
     "metadata": {},
     "output_type": "display_data"
    },
    {
     "name": "stdout",
     "output_type": "stream",
     "text": [
      "Epoch 48 (Loss: 738.3684)\n"
     ]
    },
    {
     "data": {
      "application/vnd.jupyter.widget-view+json": {
       "model_id": "593332b1ec934897af2d105bd8c414e6",
       "version_major": 2,
       "version_minor": 0
      },
      "text/plain": [
       "  0%|          | 0/468 [00:00<?, ?batch/s]"
      ]
     },
     "metadata": {},
     "output_type": "display_data"
    },
    {
     "name": "stdout",
     "output_type": "stream",
     "text": [
      "Epoch 49 (Loss: 725.5859)\n"
     ]
    },
    {
     "data": {
      "application/vnd.jupyter.widget-view+json": {
       "model_id": "9c1028237d4c4ff185a20a85a32d480c",
       "version_major": 2,
       "version_minor": 0
      },
      "text/plain": [
       "  0%|          | 0/468 [00:00<?, ?batch/s]"
      ]
     },
     "metadata": {},
     "output_type": "display_data"
    },
    {
     "name": "stdout",
     "output_type": "stream",
     "text": [
      "Epoch 50 (Loss: 720.3727)\n"
     ]
    },
    {
     "data": {
      "application/vnd.jupyter.widget-view+json": {
       "model_id": "262f57fce4fc44a280233f7f2bf5eef8",
       "version_major": 2,
       "version_minor": 0
      },
      "text/plain": [
       "  0%|          | 0/468 [00:00<?, ?batch/s]"
      ]
     },
     "metadata": {},
     "output_type": "display_data"
    },
    {
     "name": "stdout",
     "output_type": "stream",
     "text": [
      "Epoch 51 (Loss: 714.7928)\n"
     ]
    },
    {
     "data": {
      "application/vnd.jupyter.widget-view+json": {
       "model_id": "ef8f0cdda4cd4f8183ec527059daf95e",
       "version_major": 2,
       "version_minor": 0
      },
      "text/plain": [
       "  0%|          | 0/468 [00:00<?, ?batch/s]"
      ]
     },
     "metadata": {},
     "output_type": "display_data"
    },
    {
     "name": "stdout",
     "output_type": "stream",
     "text": [
      "Epoch 52 (Loss: 710.5917)\n"
     ]
    },
    {
     "data": {
      "application/vnd.jupyter.widget-view+json": {
       "model_id": "540b42a5e20a47b2afa9161c1b50e981",
       "version_major": 2,
       "version_minor": 0
      },
      "text/plain": [
       "  0%|          | 0/468 [00:00<?, ?batch/s]"
      ]
     },
     "metadata": {},
     "output_type": "display_data"
    },
    {
     "name": "stdout",
     "output_type": "stream",
     "text": [
      "Epoch 53 (Loss: 704.6545)\n"
     ]
    },
    {
     "data": {
      "application/vnd.jupyter.widget-view+json": {
       "model_id": "462e20cc583140f7bfe590eec81f70b4",
       "version_major": 2,
       "version_minor": 0
      },
      "text/plain": [
       "  0%|          | 0/468 [00:00<?, ?batch/s]"
      ]
     },
     "metadata": {},
     "output_type": "display_data"
    },
    {
     "name": "stdout",
     "output_type": "stream",
     "text": [
      "Epoch 54 (Loss: 696.7644)\n"
     ]
    },
    {
     "data": {
      "application/vnd.jupyter.widget-view+json": {
       "model_id": "ca77fd3e2fda4db49e3b6dd4f21340c5",
       "version_major": 2,
       "version_minor": 0
      },
      "text/plain": [
       "  0%|          | 0/468 [00:00<?, ?batch/s]"
      ]
     },
     "metadata": {},
     "output_type": "display_data"
    },
    {
     "name": "stdout",
     "output_type": "stream",
     "text": [
      "Epoch 55 (Loss: 691.4584)\n"
     ]
    },
    {
     "data": {
      "application/vnd.jupyter.widget-view+json": {
       "model_id": "a7d4be21ae124e3f8310ed32078bad78",
       "version_major": 2,
       "version_minor": 0
      },
      "text/plain": [
       "  0%|          | 0/468 [00:00<?, ?batch/s]"
      ]
     },
     "metadata": {},
     "output_type": "display_data"
    },
    {
     "name": "stdout",
     "output_type": "stream",
     "text": [
      "Epoch 56 (Loss: 684.4173)\n"
     ]
    },
    {
     "data": {
      "application/vnd.jupyter.widget-view+json": {
       "model_id": "48fa199701694e5fbc4b994022f3af06",
       "version_major": 2,
       "version_minor": 0
      },
      "text/plain": [
       "  0%|          | 0/468 [00:00<?, ?batch/s]"
      ]
     },
     "metadata": {},
     "output_type": "display_data"
    },
    {
     "name": "stdout",
     "output_type": "stream",
     "text": [
      "Epoch 57 (Loss: 682.9584)\n"
     ]
    },
    {
     "data": {
      "application/vnd.jupyter.widget-view+json": {
       "model_id": "b76be9f9e37f4cb48c9da4f5b0e1a192",
       "version_major": 2,
       "version_minor": 0
      },
      "text/plain": [
       "  0%|          | 0/468 [00:00<?, ?batch/s]"
      ]
     },
     "metadata": {},
     "output_type": "display_data"
    },
    {
     "name": "stdout",
     "output_type": "stream",
     "text": [
      "Epoch 58 (Loss: 675.2347)\n"
     ]
    },
    {
     "data": {
      "application/vnd.jupyter.widget-view+json": {
       "model_id": "fdd807b849ba46e59c367044e81e875e",
       "version_major": 2,
       "version_minor": 0
      },
      "text/plain": [
       "  0%|          | 0/468 [00:00<?, ?batch/s]"
      ]
     },
     "metadata": {},
     "output_type": "display_data"
    },
    {
     "name": "stdout",
     "output_type": "stream",
     "text": [
      "Epoch 59 (Loss: 670.3909)\n"
     ]
    },
    {
     "data": {
      "application/vnd.jupyter.widget-view+json": {
       "model_id": "92da70dcb9004896be54e0775e087c8e",
       "version_major": 2,
       "version_minor": 0
      },
      "text/plain": [
       "  0%|          | 0/468 [00:00<?, ?batch/s]"
      ]
     },
     "metadata": {},
     "output_type": "display_data"
    },
    {
     "name": "stdout",
     "output_type": "stream",
     "text": [
      "Epoch 60 (Loss: 667.3169)\n"
     ]
    },
    {
     "data": {
      "application/vnd.jupyter.widget-view+json": {
       "model_id": "8c6585b69ad84158ba0b09adfe7731d0",
       "version_major": 2,
       "version_minor": 0
      },
      "text/plain": [
       "  0%|          | 0/468 [00:00<?, ?batch/s]"
      ]
     },
     "metadata": {},
     "output_type": "display_data"
    },
    {
     "name": "stdout",
     "output_type": "stream",
     "text": [
      "Epoch 61 (Loss: 663.4634)\n"
     ]
    },
    {
     "data": {
      "application/vnd.jupyter.widget-view+json": {
       "model_id": "13028b00c8d54d4c9a4fc24e1dcfb72e",
       "version_major": 2,
       "version_minor": 0
      },
      "text/plain": [
       "  0%|          | 0/468 [00:00<?, ?batch/s]"
      ]
     },
     "metadata": {},
     "output_type": "display_data"
    },
    {
     "name": "stdout",
     "output_type": "stream",
     "text": [
      "Epoch 62 (Loss: 655.9482)\n"
     ]
    },
    {
     "data": {
      "application/vnd.jupyter.widget-view+json": {
       "model_id": "a000af36bb7e455882477e9e81261727",
       "version_major": 2,
       "version_minor": 0
      },
      "text/plain": [
       "  0%|          | 0/468 [00:00<?, ?batch/s]"
      ]
     },
     "metadata": {},
     "output_type": "display_data"
    },
    {
     "name": "stdout",
     "output_type": "stream",
     "text": [
      "Epoch 63 (Loss: 654.0506)\n"
     ]
    },
    {
     "data": {
      "application/vnd.jupyter.widget-view+json": {
       "model_id": "e5a241a8b1fa4cb3aafe98e9f86269b7",
       "version_major": 2,
       "version_minor": 0
      },
      "text/plain": [
       "  0%|          | 0/468 [00:00<?, ?batch/s]"
      ]
     },
     "metadata": {},
     "output_type": "display_data"
    },
    {
     "name": "stdout",
     "output_type": "stream",
     "text": [
      "Epoch 64 (Loss: 645.4940)\n"
     ]
    },
    {
     "data": {
      "application/vnd.jupyter.widget-view+json": {
       "model_id": "9c834d7c827c47cbbfc7b1a9da8b5708",
       "version_major": 2,
       "version_minor": 0
      },
      "text/plain": [
       "  0%|          | 0/468 [00:00<?, ?batch/s]"
      ]
     },
     "metadata": {},
     "output_type": "display_data"
    },
    {
     "name": "stdout",
     "output_type": "stream",
     "text": [
      "Epoch 65 (Loss: 645.4574)\n"
     ]
    },
    {
     "data": {
      "application/vnd.jupyter.widget-view+json": {
       "model_id": "ea679a3f2aeb41c3b65ac7aaf0aa3508",
       "version_major": 2,
       "version_minor": 0
      },
      "text/plain": [
       "  0%|          | 0/468 [00:00<?, ?batch/s]"
      ]
     },
     "metadata": {},
     "output_type": "display_data"
    },
    {
     "name": "stdout",
     "output_type": "stream",
     "text": [
      "Epoch 66 (Loss: 640.7675)\n"
     ]
    },
    {
     "data": {
      "application/vnd.jupyter.widget-view+json": {
       "model_id": "aaea1e9e6df542d3b3fdec690cb23a76",
       "version_major": 2,
       "version_minor": 0
      },
      "text/plain": [
       "  0%|          | 0/468 [00:00<?, ?batch/s]"
      ]
     },
     "metadata": {},
     "output_type": "display_data"
    },
    {
     "name": "stdout",
     "output_type": "stream",
     "text": [
      "Epoch 67 (Loss: 641.3150)\n"
     ]
    },
    {
     "data": {
      "application/vnd.jupyter.widget-view+json": {
       "model_id": "05cc92b5b0464d83998c859c59d3366c",
       "version_major": 2,
       "version_minor": 0
      },
      "text/plain": [
       "  0%|          | 0/468 [00:00<?, ?batch/s]"
      ]
     },
     "metadata": {},
     "output_type": "display_data"
    },
    {
     "name": "stdout",
     "output_type": "stream",
     "text": [
      "Epoch 68 (Loss: 635.2743)\n"
     ]
    },
    {
     "data": {
      "application/vnd.jupyter.widget-view+json": {
       "model_id": "06ecde8d354b49b7afdf8ae62b5370b8",
       "version_major": 2,
       "version_minor": 0
      },
      "text/plain": [
       "  0%|          | 0/468 [00:00<?, ?batch/s]"
      ]
     },
     "metadata": {},
     "output_type": "display_data"
    },
    {
     "name": "stdout",
     "output_type": "stream",
     "text": [
      "Epoch 69 (Loss: 629.1984)\n"
     ]
    },
    {
     "data": {
      "application/vnd.jupyter.widget-view+json": {
       "model_id": "c17059530fd94c07827f72c472f99adb",
       "version_major": 2,
       "version_minor": 0
      },
      "text/plain": [
       "  0%|          | 0/468 [00:00<?, ?batch/s]"
      ]
     },
     "metadata": {},
     "output_type": "display_data"
    },
    {
     "name": "stdout",
     "output_type": "stream",
     "text": [
      "Epoch 70 (Loss: 627.7140)\n"
     ]
    },
    {
     "data": {
      "application/vnd.jupyter.widget-view+json": {
       "model_id": "7abfd9f9432f46ae96b56b64b85953b1",
       "version_major": 2,
       "version_minor": 0
      },
      "text/plain": [
       "  0%|          | 0/468 [00:00<?, ?batch/s]"
      ]
     },
     "metadata": {},
     "output_type": "display_data"
    },
    {
     "name": "stdout",
     "output_type": "stream",
     "text": [
      "Epoch 71 (Loss: 628.4798)\n"
     ]
    },
    {
     "data": {
      "application/vnd.jupyter.widget-view+json": {
       "model_id": "b081d9a01f6a4d5b97d880de268c091d",
       "version_major": 2,
       "version_minor": 0
      },
      "text/plain": [
       "  0%|          | 0/468 [00:00<?, ?batch/s]"
      ]
     },
     "metadata": {},
     "output_type": "display_data"
    },
    {
     "name": "stdout",
     "output_type": "stream",
     "text": [
      "Epoch 72 (Loss: 618.7023)\n"
     ]
    },
    {
     "data": {
      "application/vnd.jupyter.widget-view+json": {
       "model_id": "e96e663808754459912c6b41b106b7e6",
       "version_major": 2,
       "version_minor": 0
      },
      "text/plain": [
       "  0%|          | 0/468 [00:00<?, ?batch/s]"
      ]
     },
     "metadata": {},
     "output_type": "display_data"
    },
    {
     "name": "stdout",
     "output_type": "stream",
     "text": [
      "Epoch 73 (Loss: 618.1511)\n"
     ]
    },
    {
     "data": {
      "application/vnd.jupyter.widget-view+json": {
       "model_id": "053f697d50b7481aa3c77fa8fa155bc9",
       "version_major": 2,
       "version_minor": 0
      },
      "text/plain": [
       "  0%|          | 0/468 [00:00<?, ?batch/s]"
      ]
     },
     "metadata": {},
     "output_type": "display_data"
    },
    {
     "name": "stdout",
     "output_type": "stream",
     "text": [
      "Epoch 74 (Loss: 614.7151)\n"
     ]
    },
    {
     "data": {
      "application/vnd.jupyter.widget-view+json": {
       "model_id": "6340e8cd0566409eb53cc6563ccde8c6",
       "version_major": 2,
       "version_minor": 0
      },
      "text/plain": [
       "  0%|          | 0/468 [00:00<?, ?batch/s]"
      ]
     },
     "metadata": {},
     "output_type": "display_data"
    },
    {
     "name": "stdout",
     "output_type": "stream",
     "text": [
      "Epoch 75 (Loss: 613.3850)\n"
     ]
    },
    {
     "data": {
      "application/vnd.jupyter.widget-view+json": {
       "model_id": "bf6baa8b4faa4a04bc744082b7e549e3",
       "version_major": 2,
       "version_minor": 0
      },
      "text/plain": [
       "  0%|          | 0/468 [00:00<?, ?batch/s]"
      ]
     },
     "metadata": {},
     "output_type": "display_data"
    },
    {
     "name": "stdout",
     "output_type": "stream",
     "text": [
      "Epoch 76 (Loss: 604.6944)\n"
     ]
    },
    {
     "data": {
      "application/vnd.jupyter.widget-view+json": {
       "model_id": "0c7058e095d34cce809a5f477a1e1eb3",
       "version_major": 2,
       "version_minor": 0
      },
      "text/plain": [
       "  0%|          | 0/468 [00:00<?, ?batch/s]"
      ]
     },
     "metadata": {},
     "output_type": "display_data"
    },
    {
     "name": "stdout",
     "output_type": "stream",
     "text": [
      "Epoch 77 (Loss: 607.1670)\n"
     ]
    },
    {
     "data": {
      "application/vnd.jupyter.widget-view+json": {
       "model_id": "f9ed75ce529b4c5d94c5328c655d3e94",
       "version_major": 2,
       "version_minor": 0
      },
      "text/plain": [
       "  0%|          | 0/468 [00:00<?, ?batch/s]"
      ]
     },
     "metadata": {},
     "output_type": "display_data"
    },
    {
     "name": "stdout",
     "output_type": "stream",
     "text": [
      "Epoch 78 (Loss: 604.5928)\n"
     ]
    },
    {
     "data": {
      "application/vnd.jupyter.widget-view+json": {
       "model_id": "ec10425849c94f34861915ead1d8bd41",
       "version_major": 2,
       "version_minor": 0
      },
      "text/plain": [
       "  0%|          | 0/468 [00:00<?, ?batch/s]"
      ]
     },
     "metadata": {},
     "output_type": "display_data"
    },
    {
     "name": "stdout",
     "output_type": "stream",
     "text": [
      "Epoch 79 (Loss: 602.2579)\n"
     ]
    },
    {
     "data": {
      "application/vnd.jupyter.widget-view+json": {
       "model_id": "cd69a1935a21483c9c39d80e3efd5f6f",
       "version_major": 2,
       "version_minor": 0
      },
      "text/plain": [
       "  0%|          | 0/468 [00:00<?, ?batch/s]"
      ]
     },
     "metadata": {},
     "output_type": "display_data"
    },
    {
     "name": "stdout",
     "output_type": "stream",
     "text": [
      "Epoch 80 (Loss: 598.1322)\n"
     ]
    },
    {
     "data": {
      "application/vnd.jupyter.widget-view+json": {
       "model_id": "8ba372bef61d45cbba7ebbb63afd1fc2",
       "version_major": 2,
       "version_minor": 0
      },
      "text/plain": [
       "  0%|          | 0/468 [00:00<?, ?batch/s]"
      ]
     },
     "metadata": {},
     "output_type": "display_data"
    },
    {
     "name": "stdout",
     "output_type": "stream",
     "text": [
      "Epoch 81 (Loss: 596.7520)\n"
     ]
    },
    {
     "data": {
      "application/vnd.jupyter.widget-view+json": {
       "model_id": "4a6b57697aff4802bb47b934cac0711e",
       "version_major": 2,
       "version_minor": 0
      },
      "text/plain": [
       "  0%|          | 0/468 [00:00<?, ?batch/s]"
      ]
     },
     "metadata": {},
     "output_type": "display_data"
    },
    {
     "name": "stdout",
     "output_type": "stream",
     "text": [
      "Epoch 82 (Loss: 592.7421)\n"
     ]
    },
    {
     "data": {
      "application/vnd.jupyter.widget-view+json": {
       "model_id": "f1a19cbc2d164da8b266d6a0544332ed",
       "version_major": 2,
       "version_minor": 0
      },
      "text/plain": [
       "  0%|          | 0/468 [00:00<?, ?batch/s]"
      ]
     },
     "metadata": {},
     "output_type": "display_data"
    },
    {
     "name": "stdout",
     "output_type": "stream",
     "text": [
      "Epoch 83 (Loss: 592.2869)\n"
     ]
    },
    {
     "data": {
      "application/vnd.jupyter.widget-view+json": {
       "model_id": "9739211e07894a7b8d9b9aef2832e584",
       "version_major": 2,
       "version_minor": 0
      },
      "text/plain": [
       "  0%|          | 0/468 [00:00<?, ?batch/s]"
      ]
     },
     "metadata": {},
     "output_type": "display_data"
    },
    {
     "name": "stdout",
     "output_type": "stream",
     "text": [
      "Epoch 84 (Loss: 587.4357)\n"
     ]
    },
    {
     "data": {
      "application/vnd.jupyter.widget-view+json": {
       "model_id": "99cd9bc956064732b1fec2e0aa045b92",
       "version_major": 2,
       "version_minor": 0
      },
      "text/plain": [
       "  0%|          | 0/468 [00:00<?, ?batch/s]"
      ]
     },
     "metadata": {},
     "output_type": "display_data"
    },
    {
     "name": "stdout",
     "output_type": "stream",
     "text": [
      "Epoch 85 (Loss: 589.0230)\n"
     ]
    },
    {
     "data": {
      "application/vnd.jupyter.widget-view+json": {
       "model_id": "29d7379c9af249b8b2199342e324eb4c",
       "version_major": 2,
       "version_minor": 0
      },
      "text/plain": [
       "  0%|          | 0/468 [00:00<?, ?batch/s]"
      ]
     },
     "metadata": {},
     "output_type": "display_data"
    },
    {
     "name": "stdout",
     "output_type": "stream",
     "text": [
      "Epoch 86 (Loss: 586.9138)\n"
     ]
    },
    {
     "data": {
      "application/vnd.jupyter.widget-view+json": {
       "model_id": "535a131c0aa44732bc4f3034ca0782de",
       "version_major": 2,
       "version_minor": 0
      },
      "text/plain": [
       "  0%|          | 0/468 [00:00<?, ?batch/s]"
      ]
     },
     "metadata": {},
     "output_type": "display_data"
    },
    {
     "name": "stdout",
     "output_type": "stream",
     "text": [
      "Epoch 87 (Loss: 582.1121)\n"
     ]
    },
    {
     "data": {
      "application/vnd.jupyter.widget-view+json": {
       "model_id": "cef64068ec134a3a873dc527ef69de2c",
       "version_major": 2,
       "version_minor": 0
      },
      "text/plain": [
       "  0%|          | 0/468 [00:00<?, ?batch/s]"
      ]
     },
     "metadata": {},
     "output_type": "display_data"
    },
    {
     "name": "stdout",
     "output_type": "stream",
     "text": [
      "Epoch 88 (Loss: 579.2195)\n"
     ]
    },
    {
     "data": {
      "application/vnd.jupyter.widget-view+json": {
       "model_id": "6c0c75cb050d40199a70f1197b0d2deb",
       "version_major": 2,
       "version_minor": 0
      },
      "text/plain": [
       "  0%|          | 0/468 [00:00<?, ?batch/s]"
      ]
     },
     "metadata": {},
     "output_type": "display_data"
    },
    {
     "name": "stdout",
     "output_type": "stream",
     "text": [
      "Epoch 89 (Loss: 578.7356)\n"
     ]
    },
    {
     "data": {
      "application/vnd.jupyter.widget-view+json": {
       "model_id": "4c4f3201704c47c59931f7014ab2a2d5",
       "version_major": 2,
       "version_minor": 0
      },
      "text/plain": [
       "  0%|          | 0/468 [00:00<?, ?batch/s]"
      ]
     },
     "metadata": {},
     "output_type": "display_data"
    },
    {
     "name": "stdout",
     "output_type": "stream",
     "text": [
      "Epoch 90 (Loss: 579.2198)\n"
     ]
    },
    {
     "data": {
      "application/vnd.jupyter.widget-view+json": {
       "model_id": "e11ceead1ffb4e7085888cdf4832bc30",
       "version_major": 2,
       "version_minor": 0
      },
      "text/plain": [
       "  0%|          | 0/468 [00:00<?, ?batch/s]"
      ]
     },
     "metadata": {},
     "output_type": "display_data"
    },
    {
     "name": "stdout",
     "output_type": "stream",
     "text": [
      "Epoch 91 (Loss: 569.7987)\n"
     ]
    },
    {
     "data": {
      "application/vnd.jupyter.widget-view+json": {
       "model_id": "a1c8b0ac584644e6b9545570d8f81bcb",
       "version_major": 2,
       "version_minor": 0
      },
      "text/plain": [
       "  0%|          | 0/468 [00:00<?, ?batch/s]"
      ]
     },
     "metadata": {},
     "output_type": "display_data"
    },
    {
     "name": "stdout",
     "output_type": "stream",
     "text": [
      "Epoch 92 (Loss: 573.7634)\n"
     ]
    },
    {
     "data": {
      "application/vnd.jupyter.widget-view+json": {
       "model_id": "372cdca509a54134a88f285f5cb996ae",
       "version_major": 2,
       "version_minor": 0
      },
      "text/plain": [
       "  0%|          | 0/468 [00:00<?, ?batch/s]"
      ]
     },
     "metadata": {},
     "output_type": "display_data"
    },
    {
     "name": "stdout",
     "output_type": "stream",
     "text": [
      "Epoch 93 (Loss: 567.7083)\n"
     ]
    },
    {
     "data": {
      "application/vnd.jupyter.widget-view+json": {
       "model_id": "c37cb5cd5eb8420aad6040f97e4e9cb7",
       "version_major": 2,
       "version_minor": 0
      },
      "text/plain": [
       "  0%|          | 0/468 [00:00<?, ?batch/s]"
      ]
     },
     "metadata": {},
     "output_type": "display_data"
    },
    {
     "name": "stdout",
     "output_type": "stream",
     "text": [
      "Epoch 94 (Loss: 569.8968)\n"
     ]
    },
    {
     "data": {
      "application/vnd.jupyter.widget-view+json": {
       "model_id": "ac52b34d1e9b4f7184ba22a211466591",
       "version_major": 2,
       "version_minor": 0
      },
      "text/plain": [
       "  0%|          | 0/468 [00:00<?, ?batch/s]"
      ]
     },
     "metadata": {},
     "output_type": "display_data"
    },
    {
     "name": "stdout",
     "output_type": "stream",
     "text": [
      "Epoch 95 (Loss: 570.0705)\n"
     ]
    },
    {
     "data": {
      "application/vnd.jupyter.widget-view+json": {
       "model_id": "98221c327475447197dff4707548694d",
       "version_major": 2,
       "version_minor": 0
      },
      "text/plain": [
       "  0%|          | 0/468 [00:00<?, ?batch/s]"
      ]
     },
     "metadata": {},
     "output_type": "display_data"
    },
    {
     "name": "stdout",
     "output_type": "stream",
     "text": [
      "Epoch 96 (Loss: 561.8034)\n"
     ]
    },
    {
     "data": {
      "application/vnd.jupyter.widget-view+json": {
       "model_id": "185fe3b1b86e4c2598306021e52c4418",
       "version_major": 2,
       "version_minor": 0
      },
      "text/plain": [
       "  0%|          | 0/468 [00:00<?, ?batch/s]"
      ]
     },
     "metadata": {},
     "output_type": "display_data"
    },
    {
     "name": "stdout",
     "output_type": "stream",
     "text": [
      "Epoch 97 (Loss: 563.9237)\n"
     ]
    },
    {
     "data": {
      "application/vnd.jupyter.widget-view+json": {
       "model_id": "c067006a1383456e83cdc7f61c44b0b0",
       "version_major": 2,
       "version_minor": 0
      },
      "text/plain": [
       "  0%|          | 0/468 [00:00<?, ?batch/s]"
      ]
     },
     "metadata": {},
     "output_type": "display_data"
    },
    {
     "name": "stdout",
     "output_type": "stream",
     "text": [
      "Epoch 98 (Loss: 558.8026)\n"
     ]
    },
    {
     "data": {
      "application/vnd.jupyter.widget-view+json": {
       "model_id": "94ef8d3436bf45db9899b45e145fcb32",
       "version_major": 2,
       "version_minor": 0
      },
      "text/plain": [
       "  0%|          | 0/468 [00:00<?, ?batch/s]"
      ]
     },
     "metadata": {},
     "output_type": "display_data"
    },
    {
     "name": "stdout",
     "output_type": "stream",
     "text": [
      "Epoch 99 (Loss: 560.2593)\n"
     ]
    },
    {
     "data": {
      "application/vnd.jupyter.widget-view+json": {
       "model_id": "4969b9510f414274a9991dd6d20fdbe4",
       "version_major": 2,
       "version_minor": 0
      },
      "text/plain": [
       "  0%|          | 0/468 [00:00<?, ?batch/s]"
      ]
     },
     "metadata": {},
     "output_type": "display_data"
    },
    {
     "name": "stdout",
     "output_type": "stream",
     "text": [
      "Epoch 100 (Loss: 556.3569)\n"
     ]
    },
    {
     "data": {
      "application/vnd.jupyter.widget-view+json": {
       "model_id": "7dc0276fdf4d4b5bbb7cf59963e73950",
       "version_major": 2,
       "version_minor": 0
      },
      "text/plain": [
       "  0%|          | 0/468 [00:00<?, ?batch/s]"
      ]
     },
     "metadata": {},
     "output_type": "display_data"
    },
    {
     "name": "stdout",
     "output_type": "stream",
     "text": [
      "Epoch 101 (Loss: 553.7955)\n"
     ]
    },
    {
     "data": {
      "application/vnd.jupyter.widget-view+json": {
       "model_id": "f1092de095c64cda9c93f2b91127fc61",
       "version_major": 2,
       "version_minor": 0
      },
      "text/plain": [
       "  0%|          | 0/468 [00:00<?, ?batch/s]"
      ]
     },
     "metadata": {},
     "output_type": "display_data"
    },
    {
     "name": "stdout",
     "output_type": "stream",
     "text": [
      "Epoch 102 (Loss: 551.0075)\n"
     ]
    },
    {
     "data": {
      "application/vnd.jupyter.widget-view+json": {
       "model_id": "a4f82bd74e234464bb1174e1c8a47fba",
       "version_major": 2,
       "version_minor": 0
      },
      "text/plain": [
       "  0%|          | 0/468 [00:00<?, ?batch/s]"
      ]
     },
     "metadata": {},
     "output_type": "display_data"
    },
    {
     "name": "stdout",
     "output_type": "stream",
     "text": [
      "Epoch 103 (Loss: 552.5088)\n"
     ]
    },
    {
     "data": {
      "application/vnd.jupyter.widget-view+json": {
       "model_id": "d408dfd60e864505b31b7d1e7de2e152",
       "version_major": 2,
       "version_minor": 0
      },
      "text/plain": [
       "  0%|          | 0/468 [00:00<?, ?batch/s]"
      ]
     },
     "metadata": {},
     "output_type": "display_data"
    },
    {
     "name": "stdout",
     "output_type": "stream",
     "text": [
      "Epoch 104 (Loss: 548.5896)\n"
     ]
    },
    {
     "data": {
      "application/vnd.jupyter.widget-view+json": {
       "model_id": "aef1e7b2b0994126b157af38655078b6",
       "version_major": 2,
       "version_minor": 0
      },
      "text/plain": [
       "  0%|          | 0/468 [00:00<?, ?batch/s]"
      ]
     },
     "metadata": {},
     "output_type": "display_data"
    },
    {
     "name": "stdout",
     "output_type": "stream",
     "text": [
      "Epoch 105 (Loss: 551.1736)\n"
     ]
    },
    {
     "data": {
      "application/vnd.jupyter.widget-view+json": {
       "model_id": "eb31e6dc60f143afb5320ad6a3fe4554",
       "version_major": 2,
       "version_minor": 0
      },
      "text/plain": [
       "  0%|          | 0/468 [00:00<?, ?batch/s]"
      ]
     },
     "metadata": {},
     "output_type": "display_data"
    },
    {
     "name": "stdout",
     "output_type": "stream",
     "text": [
      "Epoch 106 (Loss: 546.2782)\n"
     ]
    },
    {
     "data": {
      "application/vnd.jupyter.widget-view+json": {
       "model_id": "9d44538b67da4c55a754543bf97b89ea",
       "version_major": 2,
       "version_minor": 0
      },
      "text/plain": [
       "  0%|          | 0/468 [00:00<?, ?batch/s]"
      ]
     },
     "metadata": {},
     "output_type": "display_data"
    },
    {
     "name": "stdout",
     "output_type": "stream",
     "text": [
      "Epoch 107 (Loss: 545.5561)\n"
     ]
    },
    {
     "data": {
      "application/vnd.jupyter.widget-view+json": {
       "model_id": "58113312ea3a442e8c78192ad80bc100",
       "version_major": 2,
       "version_minor": 0
      },
      "text/plain": [
       "  0%|          | 0/468 [00:00<?, ?batch/s]"
      ]
     },
     "metadata": {},
     "output_type": "display_data"
    },
    {
     "name": "stdout",
     "output_type": "stream",
     "text": [
      "Epoch 108 (Loss: 543.5453)\n"
     ]
    },
    {
     "data": {
      "application/vnd.jupyter.widget-view+json": {
       "model_id": "649654ab169441a09231fdcdc9605a7a",
       "version_major": 2,
       "version_minor": 0
      },
      "text/plain": [
       "  0%|          | 0/468 [00:00<?, ?batch/s]"
      ]
     },
     "metadata": {},
     "output_type": "display_data"
    },
    {
     "name": "stdout",
     "output_type": "stream",
     "text": [
      "Epoch 109 (Loss: 539.0296)\n"
     ]
    },
    {
     "data": {
      "application/vnd.jupyter.widget-view+json": {
       "model_id": "c39955ee536a495aaa6e27973a1cec3e",
       "version_major": 2,
       "version_minor": 0
      },
      "text/plain": [
       "  0%|          | 0/468 [00:00<?, ?batch/s]"
      ]
     },
     "metadata": {},
     "output_type": "display_data"
    },
    {
     "name": "stdout",
     "output_type": "stream",
     "text": [
      "Epoch 110 (Loss: 542.0549)\n"
     ]
    },
    {
     "data": {
      "application/vnd.jupyter.widget-view+json": {
       "model_id": "7050d3c075f7426d861cf437e4ef7e2d",
       "version_major": 2,
       "version_minor": 0
      },
      "text/plain": [
       "  0%|          | 0/468 [00:00<?, ?batch/s]"
      ]
     },
     "metadata": {},
     "output_type": "display_data"
    },
    {
     "name": "stdout",
     "output_type": "stream",
     "text": [
      "Epoch 111 (Loss: 540.1446)\n"
     ]
    },
    {
     "data": {
      "application/vnd.jupyter.widget-view+json": {
       "model_id": "15c9d6957d704dcf9a29fcee97da478e",
       "version_major": 2,
       "version_minor": 0
      },
      "text/plain": [
       "  0%|          | 0/468 [00:00<?, ?batch/s]"
      ]
     },
     "metadata": {},
     "output_type": "display_data"
    },
    {
     "name": "stdout",
     "output_type": "stream",
     "text": [
      "Epoch 112 (Loss: 535.1466)\n"
     ]
    },
    {
     "data": {
      "application/vnd.jupyter.widget-view+json": {
       "model_id": "426ed4c67a5b4907960872b680e1cfde",
       "version_major": 2,
       "version_minor": 0
      },
      "text/plain": [
       "  0%|          | 0/468 [00:00<?, ?batch/s]"
      ]
     },
     "metadata": {},
     "output_type": "display_data"
    },
    {
     "name": "stdout",
     "output_type": "stream",
     "text": [
      "Epoch 113 (Loss: 532.4666)\n"
     ]
    },
    {
     "data": {
      "application/vnd.jupyter.widget-view+json": {
       "model_id": "c93cbdfcedd54756a92fed714e2e7702",
       "version_major": 2,
       "version_minor": 0
      },
      "text/plain": [
       "  0%|          | 0/468 [00:00<?, ?batch/s]"
      ]
     },
     "metadata": {},
     "output_type": "display_data"
    },
    {
     "name": "stdout",
     "output_type": "stream",
     "text": [
      "Epoch 114 (Loss: 535.0990)\n"
     ]
    },
    {
     "data": {
      "application/vnd.jupyter.widget-view+json": {
       "model_id": "3b97b26ce3e24906884be866d7335643",
       "version_major": 2,
       "version_minor": 0
      },
      "text/plain": [
       "  0%|          | 0/468 [00:00<?, ?batch/s]"
      ]
     },
     "metadata": {},
     "output_type": "display_data"
    },
    {
     "name": "stdout",
     "output_type": "stream",
     "text": [
      "Epoch 115 (Loss: 535.4160)\n"
     ]
    },
    {
     "data": {
      "application/vnd.jupyter.widget-view+json": {
       "model_id": "7abe838077474ee2b7d8262c88408337",
       "version_major": 2,
       "version_minor": 0
      },
      "text/plain": [
       "  0%|          | 0/468 [00:00<?, ?batch/s]"
      ]
     },
     "metadata": {},
     "output_type": "display_data"
    },
    {
     "name": "stdout",
     "output_type": "stream",
     "text": [
      "Epoch 116 (Loss: 531.3419)\n"
     ]
    },
    {
     "data": {
      "application/vnd.jupyter.widget-view+json": {
       "model_id": "80aff050e6e544afa896df6f37d3cf75",
       "version_major": 2,
       "version_minor": 0
      },
      "text/plain": [
       "  0%|          | 0/468 [00:00<?, ?batch/s]"
      ]
     },
     "metadata": {},
     "output_type": "display_data"
    },
    {
     "name": "stdout",
     "output_type": "stream",
     "text": [
      "Epoch 117 (Loss: 529.4895)\n"
     ]
    },
    {
     "data": {
      "application/vnd.jupyter.widget-view+json": {
       "model_id": "ad502a7207254baf9d4aff7f7b842957",
       "version_major": 2,
       "version_minor": 0
      },
      "text/plain": [
       "  0%|          | 0/468 [00:00<?, ?batch/s]"
      ]
     },
     "metadata": {},
     "output_type": "display_data"
    },
    {
     "name": "stdout",
     "output_type": "stream",
     "text": [
      "Epoch 118 (Loss: 528.1442)\n"
     ]
    },
    {
     "data": {
      "application/vnd.jupyter.widget-view+json": {
       "model_id": "a9ed42b9c9b14626b949323aceb7f9f7",
       "version_major": 2,
       "version_minor": 0
      },
      "text/plain": [
       "  0%|          | 0/468 [00:00<?, ?batch/s]"
      ]
     },
     "metadata": {},
     "output_type": "display_data"
    },
    {
     "name": "stdout",
     "output_type": "stream",
     "text": [
      "Epoch 119 (Loss: 524.8001)\n"
     ]
    },
    {
     "data": {
      "application/vnd.jupyter.widget-view+json": {
       "model_id": "db03a2e789d3400e9919c33cc931475b",
       "version_major": 2,
       "version_minor": 0
      },
      "text/plain": [
       "  0%|          | 0/468 [00:00<?, ?batch/s]"
      ]
     },
     "metadata": {},
     "output_type": "display_data"
    },
    {
     "name": "stdout",
     "output_type": "stream",
     "text": [
      "Epoch 120 (Loss: 526.3596)\n"
     ]
    },
    {
     "data": {
      "text/plain": [
       "tensor([5645.9956, 2813.8982, 2270.4133, 1987.7935, 1720.5873, 1571.6167,\n",
       "        1477.1886, 1400.2361, 1327.9347, 1261.3501, 1196.0089, 1153.7944,\n",
       "        1118.2181, 1079.7053, 1056.2791, 1036.9583, 1013.5342,  998.8928,\n",
       "         980.7021,  966.6678,  952.7629,  941.8174,  935.6877,  914.1516,\n",
       "         909.8050,  897.2226,  887.0987,  879.3474,  866.8812,  856.6711,\n",
       "         846.9943,  842.9733,  829.4289,  825.0740,  814.2838,  808.7123,\n",
       "         798.0527,  793.5483,  787.7027,  776.6879,  775.7313,  770.0432,\n",
       "         760.4792,  755.1937,  751.5720,  740.4453,  737.9235,  738.3684,\n",
       "         725.5859,  720.3727,  714.7928,  710.5917,  704.6545,  696.7643,\n",
       "         691.4584,  684.4173,  682.9584,  675.2347,  670.3909,  667.3168,\n",
       "         663.4634,  655.9482,  654.0506,  645.4940,  645.4574,  640.7675,\n",
       "         641.3150,  635.2743,  629.1984,  627.7141,  628.4799,  618.7023,\n",
       "         618.1511,  614.7150,  613.3850,  604.6944,  607.1670,  604.5928,\n",
       "         602.2579,  598.1323,  596.7520,  592.7421,  592.2869,  587.4357,\n",
       "         589.0229,  586.9138,  582.1121,  579.2195,  578.7356,  579.2198,\n",
       "         569.7987,  573.7634,  567.7083,  569.8968,  570.0705,  561.8034,\n",
       "         563.9236,  558.8026,  560.2593,  556.3569,  553.7955,  551.0074,\n",
       "         552.5089,  548.5897,  551.1736,  546.2783,  545.5562,  543.5453,\n",
       "         539.0295,  542.0549,  540.1446,  535.1466,  532.4666,  535.0990,\n",
       "         535.4160,  531.3419,  529.4895,  528.1442,  524.8001,  526.3596],\n",
       "       device='mps:0')"
      ]
     },
     "execution_count": 5,
     "metadata": {},
     "output_type": "execute_result"
    }
   ],
   "source": [
    "latent_dim = 12\n",
    "\n",
    "encoder = Encoder(shape[::-1], latent_dim, 1, conv_layers=5, mlp_layers=[256, 128, 64])\n",
    "decoder = Decoder(encoder.conv_shape, shape[2], latent_dim, convT_layers=5, mlp_layers=[64, 128, 256])\n",
    "model = nn.ModuleDict({'enc': encoder, 'dec': decoder})\n",
    "\n",
    "optimizer = torch.optim.AdamW(model.parameters(), lr=1e-3, weight_decay=1e-4)\n",
    "# loss = BetaVAELoss(0)\n",
    "loss = nn.MSELoss(reduction=\"sum\")\n",
    "\n",
    "# trainer = VAETrainer(train_loader, encoder, decoder, device)\n",
    "trainer = AETrainer(train_loader, encoder, decoder, device)\n",
    "\n",
    "trainer.train(loss, optimizer, epochs=120, verbose=True)"
   ]
  },
  {
   "cell_type": "code",
   "execution_count": 6,
   "id": "3b4d02bd-2c78-4c69-9854-f9fb0510a78b",
   "metadata": {},
   "outputs": [
    {
     "name": "stdout",
     "output_type": "stream",
     "text": [
      "tensor([1.0000, 0.5995, 0.3594, 0.2154, 0.1292, 0.0774, 0.0464, 0.0278, 0.0167,\n",
      "        0.0100], device='mps:0')\n"
     ]
    }
   ],
   "source": [
    "sigma0 = 1\n",
    "sigmaL = 0.01\n",
    "L = 10\n",
    "\n",
    "sigmas = torch.exp(torch.linspace(np.log(sigma0), np.log(sigmaL), L)).to(device)\n",
    "print(sigmas)"
   ]
  },
  {
   "cell_type": "code",
   "execution_count": 7,
   "id": "731c97b3-3ed2-4e18-be81-cf9dfe5954d5",
   "metadata": {},
   "outputs": [],
   "source": [
    "score_vae_net = ScoreVAENet(latent_dim, L)\n",
    "optimizer = torch.optim.AdamW(score_vae_net.parameters(), lr=1e-3, weight_decay=1e-4)"
   ]
  },
  {
   "cell_type": "code",
   "execution_count": 8,
   "id": "5f5164d2-ebd2-4c06-950c-b2e71f9857c2",
   "metadata": {},
   "outputs": [],
   "source": [
    "perturbation = GaussianPerturbation()\n",
    "loss_fn = NCSNLoss(perturbation, sigmas, coeff_func=lambda s: s**2)\n",
    "\n",
    "# trainer = ScoreNetVAETrainer(train_loader, score_vae_net, encoder, device=device)\n",
    "trainer = ScoreNetAETrainer(train_loader, score_vae_net, encoder, device=device)\n",
    "\n",
    "sampler = AnnealedLangevinDynamics(score_vae_net, sigmas, device)"
   ]
  },
  {
   "cell_type": "code",
   "execution_count": 9,
   "id": "ae1fdc17-aece-4259-936d-1a74e683f815",
   "metadata": {},
   "outputs": [
    {
     "data": {
      "application/vnd.jupyter.widget-view+json": {
       "model_id": "a027aa96207346be994c8e4c4346123e",
       "version_major": 2,
       "version_minor": 0
      },
      "text/plain": [
       "  0%|          | 0/468 [00:00<?, ?batch/s]"
      ]
     },
     "metadata": {},
     "output_type": "display_data"
    },
    {
     "name": "stdout",
     "output_type": "stream",
     "text": [
      "Epoch 1 (Loss: 5.6120)\n"
     ]
    },
    {
     "data": {
      "application/vnd.jupyter.widget-view+json": {
       "model_id": "fd8638c0411b4a7cb3f37a2bd14dac6b",
       "version_major": 2,
       "version_minor": 0
      },
      "text/plain": [
       "  0%|          | 0/468 [00:00<?, ?batch/s]"
      ]
     },
     "metadata": {},
     "output_type": "display_data"
    },
    {
     "name": "stdout",
     "output_type": "stream",
     "text": [
      "Epoch 2 (Loss: 5.3673)\n"
     ]
    },
    {
     "data": {
      "application/vnd.jupyter.widget-view+json": {
       "model_id": "901b779376cc45fb8ea85d89118a59e5",
       "version_major": 2,
       "version_minor": 0
      },
      "text/plain": [
       "  0%|          | 0/468 [00:00<?, ?batch/s]"
      ]
     },
     "metadata": {},
     "output_type": "display_data"
    },
    {
     "name": "stdout",
     "output_type": "stream",
     "text": [
      "Epoch 3 (Loss: 5.2990)\n"
     ]
    },
    {
     "data": {
      "application/vnd.jupyter.widget-view+json": {
       "model_id": "82e4b9ad643248c28fd70967972b2017",
       "version_major": 2,
       "version_minor": 0
      },
      "text/plain": [
       "  0%|          | 0/468 [00:00<?, ?batch/s]"
      ]
     },
     "metadata": {},
     "output_type": "display_data"
    },
    {
     "name": "stdout",
     "output_type": "stream",
     "text": [
      "Epoch 4 (Loss: 5.2815)\n"
     ]
    },
    {
     "data": {
      "application/vnd.jupyter.widget-view+json": {
       "model_id": "ffbf3c6bce2b46b7a48df546bda49170",
       "version_major": 2,
       "version_minor": 0
      },
      "text/plain": [
       "  0%|          | 0/468 [00:00<?, ?batch/s]"
      ]
     },
     "metadata": {},
     "output_type": "display_data"
    },
    {
     "name": "stdout",
     "output_type": "stream",
     "text": [
      "Epoch 5 (Loss: 5.2666)\n"
     ]
    },
    {
     "data": {
      "application/vnd.jupyter.widget-view+json": {
       "model_id": "1c13f388e84c4a4ea8080227110eef4a",
       "version_major": 2,
       "version_minor": 0
      },
      "text/plain": [
       "  0%|          | 0/468 [00:00<?, ?batch/s]"
      ]
     },
     "metadata": {},
     "output_type": "display_data"
    },
    {
     "name": "stdout",
     "output_type": "stream",
     "text": [
      "Epoch 6 (Loss: 5.2643)\n"
     ]
    },
    {
     "data": {
      "application/vnd.jupyter.widget-view+json": {
       "model_id": "5e3a2b6e5de84fd192c5bdf2e1114186",
       "version_major": 2,
       "version_minor": 0
      },
      "text/plain": [
       "  0%|          | 0/468 [00:00<?, ?batch/s]"
      ]
     },
     "metadata": {},
     "output_type": "display_data"
    },
    {
     "name": "stdout",
     "output_type": "stream",
     "text": [
      "Epoch 7 (Loss: 5.2609)\n"
     ]
    },
    {
     "data": {
      "application/vnd.jupyter.widget-view+json": {
       "model_id": "a9f4dbe35f554bbeaa9e1dcd27a5e977",
       "version_major": 2,
       "version_minor": 0
      },
      "text/plain": [
       "  0%|          | 0/468 [00:00<?, ?batch/s]"
      ]
     },
     "metadata": {},
     "output_type": "display_data"
    },
    {
     "name": "stdout",
     "output_type": "stream",
     "text": [
      "Epoch 8 (Loss: 5.2634)\n"
     ]
    },
    {
     "data": {
      "application/vnd.jupyter.widget-view+json": {
       "model_id": "8f07cd65a43c4d499f5b42bc2c5a510a",
       "version_major": 2,
       "version_minor": 0
      },
      "text/plain": [
       "  0%|          | 0/468 [00:00<?, ?batch/s]"
      ]
     },
     "metadata": {},
     "output_type": "display_data"
    },
    {
     "name": "stdout",
     "output_type": "stream",
     "text": [
      "Epoch 9 (Loss: 5.2222)\n"
     ]
    },
    {
     "data": {
      "application/vnd.jupyter.widget-view+json": {
       "model_id": "e610f56733b3429c8dc9b75fa7f50717",
       "version_major": 2,
       "version_minor": 0
      },
      "text/plain": [
       "  0%|          | 0/468 [00:00<?, ?batch/s]"
      ]
     },
     "metadata": {},
     "output_type": "display_data"
    },
    {
     "name": "stdout",
     "output_type": "stream",
     "text": [
      "Epoch 10 (Loss: 5.2336)\n"
     ]
    },
    {
     "data": {
      "application/vnd.jupyter.widget-view+json": {
       "model_id": "8d442a4516014f058d9c914f8a91a812",
       "version_major": 2,
       "version_minor": 0
      },
      "text/plain": [
       "  0%|          | 0/468 [00:00<?, ?batch/s]"
      ]
     },
     "metadata": {},
     "output_type": "display_data"
    },
    {
     "name": "stdout",
     "output_type": "stream",
     "text": [
      "Epoch 11 (Loss: 5.2299)\n"
     ]
    },
    {
     "data": {
      "application/vnd.jupyter.widget-view+json": {
       "model_id": "81cde60905954fb2838c8d3a4dfa8c96",
       "version_major": 2,
       "version_minor": 0
      },
      "text/plain": [
       "  0%|          | 0/468 [00:00<?, ?batch/s]"
      ]
     },
     "metadata": {},
     "output_type": "display_data"
    },
    {
     "name": "stdout",
     "output_type": "stream",
     "text": [
      "Epoch 12 (Loss: 5.2312)\n"
     ]
    },
    {
     "data": {
      "text/plain": [
       "tensor([5.6120, 5.3673, 5.2990, 5.2815, 5.2666, 5.2643, 5.2609, 5.2634, 5.2222,\n",
       "        5.2336, 5.2299, 5.2312], device='mps:0')"
      ]
     },
     "execution_count": 9,
     "metadata": {},
     "output_type": "execute_result"
    }
   ],
   "source": [
    "trainer.train(loss_fn, optimizer, epochs=12, verbose=True, reset=False)"
   ]
  },
  {
   "cell_type": "code",
   "execution_count": 10,
   "id": "efc71bcc-09c3-4fc4-a0bc-520bc5a34d3d",
   "metadata": {},
   "outputs": [],
   "source": [
    "N = 10\n",
    "\n",
    "with torch.no_grad():\n",
    "    z = sampler.sample((N, latent_dim), epsilon=2e-5)\n",
    "    # z = torch.randn_like(z)\n",
    "    \n",
    "    imgs = decoder(z).permute(0, 2, 3, 1).cpu().numpy()"
   ]
  },
  {
   "cell_type": "code",
   "execution_count": 14,
   "id": "586e9b79-b912-4bab-ad48-aa89719bd5a7",
   "metadata": {},
   "outputs": [
    {
     "data": {
      "image/png": "[encoded data removed]",
      "text/plain": [
       "<Figure size 640x480 with 1 Axes>"
      ]
     },
     "metadata": {},
     "output_type": "display_data"
    }
   ],
   "source": [
    "img = imgs[7]\n",
    "plt.imshow(img, cmap=\"gray\")\n",
    "plt.show()"
   ]
  }
 ],
 "metadata": {
  "kernelspec": {
   "display_name": "Python 3 (ipykernel)",
   "language": "python",
   "name": "python3"
  },
  "language_info": {
   "codemirror_mode": {
    "name": "ipython",
    "version": 3
   },
   "file_extension": ".py",
   "mimetype": "text/x-python",
   "name": "python",
   "nbconvert_exporter": "python",
   "pygments_lexer": "ipython3",
   "version": "3.12.9"
  }
 },
 "nbformat": 4,
 "nbformat_minor": 5
}
