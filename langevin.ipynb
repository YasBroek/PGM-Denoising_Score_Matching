{
 "cells": [
  {
   "cell_type": "code",
   "execution_count": 1,
   "id": "8a0b2595-d423-4bdc-b6c4-7e7e63bf2112",
   "metadata": {},
   "outputs": [],
   "source": [
    "import numpy as np\n",
    "\n",
    "import torch\n",
    "from torch import nn\n",
    "from torchinfo import summary\n",
    "\n",
    "from matplotlib import pyplot as plt\n",
    "\n",
    "from tqdm.notebook import tqdm\n",
    "\n",
    "from datasets import get_dataset\n",
    "from models import NCSN\n",
    "from losses import NCSNLoss, GaussianPerturbation\n",
    "from train import Trainer\n",
    "from samplers import AnnealedLangevinDynamics"
   ]
  },
  {
   "cell_type": "code",
   "execution_count": 2,
   "id": "b3c2a2e9-a576-40f8-ac0a-ea06f3db2fd6",
   "metadata": {},
   "outputs": [
    {
     "name": "stdout",
     "output_type": "stream",
     "text": [
      "mps\n"
     ]
    }
   ],
   "source": [
    "if torch.cuda.is_available():\n",
    "    device = torch.device(\"cuda\")\n",
    "elif torch.backends.mps.is_available():\n",
    "    device = torch.device(\"mps\")\n",
    "else:\n",
    "    device = torch.device(\"cpu\")\n",
    "\n",
    "print(device)"
   ]
  },
  {
   "cell_type": "code",
   "execution_count": 3,
   "id": "9a4402d4-7e9b-4182-bceb-2dbd39933c86",
   "metadata": {},
   "outputs": [
    {
     "name": "stdout",
     "output_type": "stream",
     "text": [
      "tensor([0.9923, 0.5954, 0.3572, 0.2143, 0.1286, 0.0772, 0.0463, 0.0278, 0.0167,\n",
      "        0.0100], device='mps:0')\n"
     ]
    }
   ],
   "source": [
    "sigma0 = 0.01\n",
    "r = 5 / 3\n",
    "L = 10\n",
    "\n",
    "sigmas = torch.as_tensor([sigma0 * r ** (L - i - 1) for i in range(L)], device=device)\n",
    "\n",
    "print(sigmas)"
   ]
  },
  {
   "cell_type": "code",
   "execution_count": 4,
   "id": "90c69cd4-4cd4-46ea-86ed-0d699cb2d3db",
   "metadata": {},
   "outputs": [],
   "source": [
    "B = 64\n",
    "\n",
    "train_loader, test_loader = get_dataset(\"mnist\", batch_size=B, num_workers=4, pin_memory=False)\n",
    "shape = (28, 28, 1)"
   ]
  },
  {
   "cell_type": "code",
   "execution_count": 5,
   "id": "88f4df58-b166-4523-853d-3c5a45d2b599",
   "metadata": {
    "scrolled": true
   },
   "outputs": [
    {
     "name": "stdout",
     "output_type": "stream",
     "text": [
      "==================================================================================================================================\n",
      "Layer (type:depth-idx)                                                           Output Shape              Param #\n",
      "==================================================================================================================================\n",
      "NCSN                                                                             [1, 1, 28, 28]            --\n",
      "├─Conv2d: 1-1                                                                    [1, 64, 28, 28]           640\n",
      "├─ConditionalSequential: 1-2                                                     [1, 128, 14, 14]          2,075,584\n",
      "│    └─ConditionalResidualBlock: 2-1                                             [1, 64, 28, 28]           75,776\n",
      "│    │    └─ConditionalInstanceNorm2dPlus: 3-1                                   [1, 64, 28, 28]           1,920\n",
      "├─ConditionalSequential: 1-122                                                   --                        (recursive)\n",
      "│    └─ELU: 2-2                                                                  [1, 64, 28, 28]           --\n",
      "├─ConditionalSequential: 1-34                                                    --                        (recursive)\n",
      "│    └─ConditionalResidualBlock: 2-5                                             --                        (recursive)\n",
      "│    │    └─Conv2d: 3-2                                                          [1, 64, 28, 28]           36,928\n",
      "│    │    └─ConditionalInstanceNorm2dPlus: 3-3                                   [1, 64, 28, 28]           1,920\n",
      "├─ConditionalSequential: 1-122                                                   --                        (recursive)\n",
      "│    └─ELU: 2-4                                                                  [1, 64, 28, 28]           --\n",
      "├─ConditionalSequential: 1-34                                                    --                        (recursive)\n",
      "│    └─ConditionalResidualBlock: 2-5                                             --                        (recursive)\n",
      "│    │    └─Conv2d: 3-4                                                          [1, 64, 28, 28]           36,928\n",
      "│    │    └─Identity: 3-5                                                        [1, 64, 28, 28]           --\n",
      "│    └─ConditionalResidualBlock: 2-6                                             [1, 64, 28, 28]           75,776\n",
      "│    │    └─ConditionalInstanceNorm2dPlus: 3-6                                   [1, 64, 28, 28]           1,920\n",
      "├─ConditionalSequential: 1-122                                                   --                        (recursive)\n",
      "│    └─ELU: 2-7                                                                  [1, 64, 28, 28]           --\n",
      "├─ConditionalSequential: 1-34                                                    --                        (recursive)\n",
      "│    └─ConditionalResidualBlock: 2-10                                            --                        (recursive)\n",
      "│    │    └─Conv2d: 3-7                                                          [1, 64, 28, 28]           36,928\n",
      "│    │    └─ConditionalInstanceNorm2dPlus: 3-8                                   [1, 64, 28, 28]           1,920\n",
      "├─ConditionalSequential: 1-122                                                   --                        (recursive)\n",
      "│    └─ELU: 2-9                                                                  [1, 64, 28, 28]           --\n",
      "├─ConditionalSequential: 1-34                                                    --                        (recursive)\n",
      "│    └─ConditionalResidualBlock: 2-10                                            --                        (recursive)\n",
      "│    │    └─Conv2d: 3-9                                                          [1, 64, 28, 28]           36,928\n",
      "│    │    └─Identity: 3-10                                                       [1, 64, 28, 28]           --\n",
      "│    └─ConditionalResidualBlock: 2-11                                            [1, 128, 14, 14]          186,560\n",
      "│    │    └─ConditionalInstanceNorm2dPlus: 3-11                                  [1, 64, 28, 28]           1,920\n",
      "├─ConditionalSequential: 1-122                                                   --                        (recursive)\n",
      "│    └─ELU: 2-12                                                                 [1, 64, 28, 28]           --\n",
      "├─ConditionalSequential: 1-34                                                    --                        (recursive)\n",
      "│    └─ConditionalResidualBlock: 2-15                                            --                        (recursive)\n",
      "│    │    └─Conv2d: 3-12                                                         [1, 64, 28, 28]           36,928\n",
      "│    │    └─ConditionalInstanceNorm2dPlus: 3-13                                  [1, 64, 28, 28]           1,920\n",
      "├─ConditionalSequential: 1-122                                                   --                        (recursive)\n",
      "│    └─ELU: 2-14                                                                 [1, 64, 28, 28]           --\n",
      "├─ConditionalSequential: 1-34                                                    --                        (recursive)\n",
      "│    └─ConditionalResidualBlock: 2-15                                            --                        (recursive)\n",
      "│    │    └─ConvMeanPool: 3-14                                                   [1, 128, 14, 14]          73,856\n",
      "│    │    └─ConvMeanPool: 3-15                                                   [1, 128, 14, 14]          73,856\n",
      "│    └─ConditionalResidualBlock: 2-16                                            [1, 128, 14, 14]          299,008\n",
      "│    │    └─ConditionalInstanceNorm2dPlus: 3-16                                  [1, 128, 14, 14]          3,840\n",
      "├─ConditionalSequential: 1-122                                                   --                        (recursive)\n",
      "│    └─ELU: 2-17                                                                 [1, 128, 14, 14]          --\n",
      "├─ConditionalSequential: 1-34                                                    --                        (recursive)\n",
      "│    └─ConditionalResidualBlock: 2-20                                            --                        (recursive)\n",
      "│    │    └─Conv2d: 3-17                                                         [1, 128, 14, 14]          147,584\n",
      "│    │    └─ConditionalInstanceNorm2dPlus: 3-18                                  [1, 128, 14, 14]          3,840\n",
      "├─ConditionalSequential: 1-122                                                   --                        (recursive)\n",
      "│    └─ELU: 2-19                                                                 [1, 128, 14, 14]          --\n",
      "├─ConditionalSequential: 1-34                                                    --                        (recursive)\n",
      "│    └─ConditionalResidualBlock: 2-20                                            --                        (recursive)\n",
      "│    │    └─Conv2d: 3-19                                                         [1, 128, 14, 14]          147,584\n",
      "│    │    └─Identity: 3-20                                                       [1, 128, 14, 14]          --\n",
      "│    └─ConditionalResidualBlock: 2-21                                            [1, 128, 14, 14]          446,592\n",
      "│    │    └─ConditionalInstanceNorm2dPlus: 3-21                                  [1, 128, 14, 14]          3,840\n",
      "├─ConditionalSequential: 1-122                                                   --                        (recursive)\n",
      "│    └─ELU: 2-22                                                                 [1, 128, 14, 14]          --\n",
      "├─ConditionalSequential: 1-34                                                    --                        (recursive)\n",
      "│    └─ConditionalResidualBlock: 2-25                                            --                        (recursive)\n",
      "│    │    └─Conv2d: 3-22                                                         [1, 128, 14, 14]          147,584\n",
      "│    │    └─ConditionalInstanceNorm2dPlus: 3-23                                  [1, 128, 14, 14]          3,840\n",
      "├─ConditionalSequential: 1-122                                                   --                        (recursive)\n",
      "│    └─ELU: 2-24                                                                 [1, 128, 14, 14]          --\n",
      "├─ConditionalSequential: 1-34                                                    --                        (recursive)\n",
      "│    └─ConditionalResidualBlock: 2-25                                            --                        (recursive)\n",
      "│    │    └─Conv2d: 3-24                                                         [1, 128, 14, 14]          147,584\n",
      "│    │    └─Conv2d: 3-25                                                         [1, 128, 14, 14]          147,584\n",
      "│    └─ConditionalResidualBlock: 2-26                                            [1, 128, 14, 14]          299,008\n",
      "│    │    └─ConditionalInstanceNorm2dPlus: 3-26                                  [1, 128, 14, 14]          3,840\n",
      "├─ConditionalSequential: 1-122                                                   --                        (recursive)\n",
      "│    └─ELU: 2-27                                                                 [1, 128, 14, 14]          --\n",
      "├─ConditionalSequential: 1-34                                                    --                        (recursive)\n",
      "│    └─ConditionalResidualBlock: 2-30                                            --                        (recursive)\n",
      "│    │    └─Conv2d: 3-27                                                         [1, 128, 14, 14]          147,584\n",
      "│    │    └─ConditionalInstanceNorm2dPlus: 3-28                                  [1, 128, 14, 14]          3,840\n",
      "├─ConditionalSequential: 1-122                                                   --                        (recursive)\n",
      "│    └─ELU: 2-29                                                                 [1, 128, 14, 14]          --\n",
      "├─ConditionalSequential: 1-34                                                    --                        (recursive)\n",
      "│    └─ConditionalResidualBlock: 2-30                                            --                        (recursive)\n",
      "│    │    └─Conv2d: 3-29                                                         [1, 128, 14, 14]          147,584\n",
      "│    │    └─Identity: 3-30                                                       [1, 128, 14, 14]          --\n",
      "│    └─ConditionalResidualBlock: 2-31                                            [1, 128, 14, 14]          446,592\n",
      "│    │    └─ConditionalInstanceNorm2dPlus: 3-31                                  [1, 128, 14, 14]          3,840\n",
      "├─ConditionalSequential: 1-122                                                   --                        (recursive)\n",
      "│    └─ELU: 2-32                                                                 [1, 128, 14, 14]          --\n",
      "├─ConditionalSequential: 1-34                                                    --                        (recursive)\n",
      "│    └─ConditionalResidualBlock: 2-35                                            --                        (recursive)\n",
      "│    │    └─Conv2d: 3-32                                                         [1, 128, 14, 14]          147,584\n",
      "│    │    └─ConditionalInstanceNorm2dPlus: 3-33                                  [1, 128, 14, 14]          3,840\n",
      "├─ConditionalSequential: 1-122                                                   --                        (recursive)\n",
      "│    └─ELU: 2-34                                                                 [1, 128, 14, 14]          --\n",
      "├─ConditionalSequential: 1-34                                                    --                        (recursive)\n",
      "│    └─ConditionalResidualBlock: 2-35                                            --                        (recursive)\n",
      "│    │    └─Conv2d: 3-34                                                         [1, 128, 14, 14]          147,584\n",
      "│    │    └─Conv2d: 3-35                                                         [1, 128, 14, 14]          147,584\n",
      "│    └─ConditionalResidualBlock: 2-36                                            [1, 128, 14, 14]          299,008\n",
      "│    │    └─ConditionalInstanceNorm2dPlus: 3-36                                  [1, 128, 14, 14]          3,840\n",
      "├─ConditionalSequential: 1-122                                                   --                        (recursive)\n",
      "│    └─ELU: 2-37                                                                 [1, 128, 14, 14]          --\n",
      "├─ConditionalSequential: 1-34                                                    --                        (recursive)\n",
      "│    └─ConditionalResidualBlock: 2-40                                            --                        (recursive)\n",
      "│    │    └─Conv2d: 3-37                                                         [1, 128, 14, 14]          147,584\n",
      "│    │    └─ConditionalInstanceNorm2dPlus: 3-38                                  [1, 128, 14, 14]          3,840\n",
      "├─ConditionalSequential: 1-122                                                   --                        (recursive)\n",
      "│    └─ELU: 2-39                                                                 [1, 128, 14, 14]          --\n",
      "├─ConditionalSequential: 1-34                                                    --                        (recursive)\n",
      "│    └─ConditionalResidualBlock: 2-40                                            --                        (recursive)\n",
      "│    │    └─Conv2d: 3-39                                                         [1, 128, 14, 14]          147,584\n",
      "│    │    └─Identity: 3-40                                                       [1, 128, 14, 14]          --\n",
      "├─ModuleList: 1-123                                                              --                        (recursive)\n",
      "│    └─CondRefineBlock: 2-41                                                     [1, 128, 14, 14]          605,696\n",
      "│    │    └─ModuleList: 3-45                                                     --                        (recursive)\n",
      "├─ConditionalSequential: 1-122                                                   --                        (recursive)\n",
      "│    └─ELU: 2-42                                                                 --                        --\n",
      "│    └─ELU: 2-43                                                                 [1, 128, 14, 14]          --\n",
      "├─ModuleList: 1-123                                                              --                        (recursive)\n",
      "│    └─CondRefineBlock: 2-61                                                     --                        (recursive)\n",
      "│    │    └─ModuleList: 3-45                                                     --                        (recursive)\n",
      "├─ConditionalSequential: 1-122                                                   --                        (recursive)\n",
      "│    └─ELU: 2-45                                                                 --                        --\n",
      "│    └─ELU: 2-46                                                                 [1, 128, 14, 14]          --\n",
      "├─ModuleList: 1-123                                                              --                        (recursive)\n",
      "│    └─CondRefineBlock: 2-61                                                     --                        (recursive)\n",
      "│    │    └─ModuleList: 3-45                                                     --                        (recursive)\n",
      "├─ConditionalSequential: 1-122                                                   --                        (recursive)\n",
      "│    └─ELU: 2-48                                                                 --                        --\n",
      "│    └─ELU: 2-49                                                                 [1, 128, 14, 14]          --\n",
      "├─ModuleList: 1-123                                                              --                        (recursive)\n",
      "│    └─CondRefineBlock: 2-61                                                     --                        (recursive)\n",
      "│    │    └─ModuleList: 3-45                                                     --                        (recursive)\n",
      "├─ConditionalSequential: 1-122                                                   --                        (recursive)\n",
      "│    └─ELU: 2-51                                                                 --                        --\n",
      "│    └─ELU: 2-52                                                                 [1, 128, 14, 14]          --\n",
      "├─ModuleList: 1-123                                                              --                        (recursive)\n",
      "│    └─CondRefineBlock: 2-61                                                     --                        (recursive)\n",
      "│    │    └─ModuleList: 3-45                                                     --                        (recursive)\n",
      "│    │    └─CondCRPBlock: 3-46                                                   [1, 128, 14, 14]          302,848\n",
      "├─ConditionalSequential: 1-122                                                   --                        (recursive)\n",
      "│    └─ELU: 2-54                                                                 [1, 128, 14, 14]          --\n",
      "├─ModuleList: 1-123                                                              --                        (recursive)\n",
      "│    └─CondRefineBlock: 2-61                                                     --                        (recursive)\n",
      "│    │    └─CondCRPBlock: 3-47                                                   --                        (recursive)\n",
      "│    │    └─CondRCUBlock: 3-48                                                   [1, 128, 14, 14]          302,848\n",
      "├─ConditionalSequential: 1-122                                                   --                        (recursive)\n",
      "│    └─ELU: 2-56                                                                 --                        --\n",
      "│    └─ELU: 2-57                                                                 [1, 128, 14, 14]          --\n",
      "├─ModuleList: 1-123                                                              --                        (recursive)\n",
      "│    └─CondRefineBlock: 2-61                                                     --                        (recursive)\n",
      "│    │    └─CondRCUBlock: 3-50                                                   --                        (recursive)\n",
      "├─ConditionalSequential: 1-122                                                   --                        (recursive)\n",
      "│    └─ELU: 2-59                                                                 --                        --\n",
      "│    └─ELU: 2-60                                                                 [1, 128, 14, 14]          --\n",
      "├─ModuleList: 1-123                                                              --                        (recursive)\n",
      "│    └─CondRefineBlock: 2-61                                                     --                        (recursive)\n",
      "│    │    └─CondRCUBlock: 3-50                                                   --                        (recursive)\n",
      "│    └─CondRefineBlock: 2-62                                                     [1, 128, 14, 14]          1,514,240\n",
      "│    │    └─ModuleList: 3-59                                                     --                        (recursive)\n",
      "├─ConditionalSequential: 1-122                                                   --                        (recursive)\n",
      "│    └─ELU: 2-63                                                                 --                        --\n",
      "│    └─ELU: 2-64                                                                 [1, 128, 14, 14]          --\n",
      "├─ModuleList: 1-123                                                              --                        (recursive)\n",
      "│    └─CondRefineBlock: 2-94                                                     --                        (recursive)\n",
      "│    │    └─ModuleList: 3-59                                                     --                        (recursive)\n",
      "├─ConditionalSequential: 1-122                                                   --                        (recursive)\n",
      "│    └─ELU: 2-66                                                                 --                        --\n",
      "│    └─ELU: 2-67                                                                 [1, 128, 14, 14]          --\n",
      "├─ModuleList: 1-123                                                              --                        (recursive)\n",
      "│    └─CondRefineBlock: 2-94                                                     --                        (recursive)\n",
      "│    │    └─ModuleList: 3-59                                                     --                        (recursive)\n",
      "├─ConditionalSequential: 1-122                                                   --                        (recursive)\n",
      "│    └─ELU: 2-69                                                                 --                        --\n",
      "│    └─ELU: 2-70                                                                 [1, 128, 14, 14]          --\n",
      "├─ModuleList: 1-123                                                              --                        (recursive)\n",
      "│    └─CondRefineBlock: 2-94                                                     --                        (recursive)\n",
      "│    │    └─ModuleList: 3-59                                                     --                        (recursive)\n",
      "├─ConditionalSequential: 1-122                                                   --                        (recursive)\n",
      "│    └─ELU: 2-72                                                                 --                        --\n",
      "│    └─ELU: 2-73                                                                 [1, 128, 14, 14]          --\n",
      "├─ModuleList: 1-123                                                              --                        (recursive)\n",
      "│    └─CondRefineBlock: 2-94                                                     --                        (recursive)\n",
      "│    │    └─ModuleList: 3-59                                                     --                        (recursive)\n",
      "├─ConditionalSequential: 1-122                                                   --                        (recursive)\n",
      "│    └─ELU: 2-75                                                                 --                        --\n",
      "│    └─ELU: 2-76                                                                 [1, 128, 14, 14]          --\n",
      "├─ModuleList: 1-123                                                              --                        (recursive)\n",
      "│    └─CondRefineBlock: 2-94                                                     --                        (recursive)\n",
      "│    │    └─ModuleList: 3-59                                                     --                        (recursive)\n",
      "├─ConditionalSequential: 1-122                                                   --                        (recursive)\n",
      "│    └─ELU: 2-78                                                                 --                        --\n",
      "│    └─ELU: 2-79                                                                 [1, 128, 14, 14]          --\n",
      "├─ModuleList: 1-123                                                              --                        (recursive)\n",
      "│    └─CondRefineBlock: 2-94                                                     --                        (recursive)\n",
      "│    │    └─ModuleList: 3-59                                                     --                        (recursive)\n",
      "├─ConditionalSequential: 1-122                                                   --                        (recursive)\n",
      "│    └─ELU: 2-81                                                                 --                        --\n",
      "│    └─ELU: 2-82                                                                 [1, 128, 14, 14]          --\n",
      "├─ModuleList: 1-123                                                              --                        (recursive)\n",
      "│    └─CondRefineBlock: 2-94                                                     --                        (recursive)\n",
      "│    │    └─ModuleList: 3-59                                                     --                        (recursive)\n",
      "├─ConditionalSequential: 1-122                                                   --                        (recursive)\n",
      "│    └─ELU: 2-84                                                                 --                        --\n",
      "│    └─ELU: 2-85                                                                 [1, 128, 14, 14]          --\n",
      "├─ModuleList: 1-123                                                              --                        (recursive)\n",
      "│    └─CondRefineBlock: 2-94                                                     --                        (recursive)\n",
      "│    │    └─ModuleList: 3-59                                                     --                        (recursive)\n",
      "│    │    └─CondMSFBlock: 3-60                                                   [1, 128, 14, 14]          302,848\n",
      "│    │    └─CondCRPBlock: 3-61                                                   [1, 128, 14, 14]          302,848\n",
      "├─ConditionalSequential: 1-122                                                   --                        (recursive)\n",
      "│    └─ELU: 2-87                                                                 [1, 128, 14, 14]          --\n",
      "├─ModuleList: 1-123                                                              --                        (recursive)\n",
      "│    └─CondRefineBlock: 2-94                                                     --                        (recursive)\n",
      "│    │    └─CondCRPBlock: 3-62                                                   --                        (recursive)\n",
      "│    │    └─CondRCUBlock: 3-63                                                   [1, 128, 14, 14]          302,848\n",
      "├─ConditionalSequential: 1-122                                                   --                        (recursive)\n",
      "│    └─ELU: 2-89                                                                 --                        --\n",
      "│    └─ELU: 2-90                                                                 [1, 128, 14, 14]          --\n",
      "├─ModuleList: 1-123                                                              --                        (recursive)\n",
      "│    └─CondRefineBlock: 2-94                                                     --                        (recursive)\n",
      "│    │    └─CondRCUBlock: 3-65                                                   --                        (recursive)\n",
      "├─ConditionalSequential: 1-122                                                   --                        (recursive)\n",
      "│    └─ELU: 2-92                                                                 --                        --\n",
      "│    └─ELU: 2-93                                                                 [1, 128, 14, 14]          --\n",
      "├─ModuleList: 1-123                                                              --                        (recursive)\n",
      "│    └─CondRefineBlock: 2-94                                                     --                        (recursive)\n",
      "│    │    └─CondRCUBlock: 3-65                                                   --                        (recursive)\n",
      "│    └─CondRefineBlock: 2-95                                                     [1, 64, 14, 14]           916,352\n",
      "│    │    └─ModuleList: 3-74                                                     --                        (recursive)\n",
      "├─ConditionalSequential: 1-122                                                   --                        (recursive)\n",
      "│    └─ELU: 2-96                                                                 --                        --\n",
      "│    └─ELU: 2-97                                                                 [1, 128, 14, 14]          --\n",
      "├─ModuleList: 1-123                                                              --                        (recursive)\n",
      "│    └─CondRefineBlock: 2-127                                                    --                        (recursive)\n",
      "│    │    └─ModuleList: 3-74                                                     --                        (recursive)\n",
      "├─ConditionalSequential: 1-122                                                   --                        (recursive)\n",
      "│    └─ELU: 2-99                                                                 --                        --\n",
      "│    └─ELU: 2-100                                                                [1, 128, 14, 14]          --\n",
      "├─ModuleList: 1-123                                                              --                        (recursive)\n",
      "│    └─CondRefineBlock: 2-127                                                    --                        (recursive)\n",
      "│    │    └─ModuleList: 3-74                                                     --                        (recursive)\n",
      "├─ConditionalSequential: 1-122                                                   --                        (recursive)\n",
      "│    └─ELU: 2-102                                                                --                        --\n",
      "│    └─ELU: 2-103                                                                [1, 128, 14, 14]          --\n",
      "├─ModuleList: 1-123                                                              --                        (recursive)\n",
      "│    └─CondRefineBlock: 2-127                                                    --                        (recursive)\n",
      "│    │    └─ModuleList: 3-74                                                     --                        (recursive)\n",
      "├─ConditionalSequential: 1-122                                                   --                        (recursive)\n",
      "│    └─ELU: 2-105                                                                --                        --\n",
      "│    └─ELU: 2-106                                                                [1, 128, 14, 14]          --\n",
      "├─ModuleList: 1-123                                                              --                        (recursive)\n",
      "│    └─CondRefineBlock: 2-127                                                    --                        (recursive)\n",
      "│    │    └─ModuleList: 3-74                                                     --                        (recursive)\n",
      "├─ConditionalSequential: 1-122                                                   --                        (recursive)\n",
      "│    └─ELU: 2-108                                                                --                        --\n",
      "│    └─ELU: 2-109                                                                [1, 128, 14, 14]          --\n",
      "├─ModuleList: 1-123                                                              --                        (recursive)\n",
      "│    └─CondRefineBlock: 2-127                                                    --                        (recursive)\n",
      "│    │    └─ModuleList: 3-74                                                     --                        (recursive)\n",
      "├─ConditionalSequential: 1-122                                                   --                        (recursive)\n",
      "│    └─ELU: 2-111                                                                --                        --\n",
      "│    └─ELU: 2-112                                                                [1, 128, 14, 14]          --\n",
      "├─ModuleList: 1-123                                                              --                        (recursive)\n",
      "│    └─CondRefineBlock: 2-127                                                    --                        (recursive)\n",
      "│    │    └─ModuleList: 3-74                                                     --                        (recursive)\n",
      "├─ConditionalSequential: 1-122                                                   --                        (recursive)\n",
      "│    └─ELU: 2-114                                                                --                        --\n",
      "│    └─ELU: 2-115                                                                [1, 128, 14, 14]          --\n",
      "├─ModuleList: 1-123                                                              --                        (recursive)\n",
      "│    └─CondRefineBlock: 2-127                                                    --                        (recursive)\n",
      "│    │    └─ModuleList: 3-74                                                     --                        (recursive)\n",
      "├─ConditionalSequential: 1-122                                                   --                        (recursive)\n",
      "│    └─ELU: 2-117                                                                --                        --\n",
      "│    └─ELU: 2-118                                                                [1, 128, 14, 14]          --\n",
      "├─ModuleList: 1-123                                                              --                        (recursive)\n",
      "│    └─CondRefineBlock: 2-127                                                    --                        (recursive)\n",
      "│    │    └─ModuleList: 3-74                                                     --                        (recursive)\n",
      "│    │    └─CondMSFBlock: 3-75                                                   [1, 64, 14, 14]           155,264\n",
      "│    │    └─CondCRPBlock: 3-76                                                   [1, 64, 14, 14]           77,696\n",
      "├─ConditionalSequential: 1-122                                                   --                        (recursive)\n",
      "│    └─ELU: 2-120                                                                [1, 64, 14, 14]           --\n",
      "├─ModuleList: 1-123                                                              --                        (recursive)\n",
      "│    └─CondRefineBlock: 2-127                                                    --                        (recursive)\n",
      "│    │    └─CondCRPBlock: 3-77                                                   --                        (recursive)\n",
      "│    │    └─CondRCUBlock: 3-78                                                   [1, 64, 14, 14]           77,696\n",
      "├─ConditionalSequential: 1-122                                                   --                        (recursive)\n",
      "│    └─ELU: 2-122                                                                --                        --\n",
      "│    └─ELU: 2-123                                                                [1, 64, 14, 14]           --\n",
      "├─ModuleList: 1-123                                                              --                        (recursive)\n",
      "│    └─CondRefineBlock: 2-127                                                    --                        (recursive)\n",
      "│    │    └─CondRCUBlock: 3-80                                                   --                        (recursive)\n",
      "├─ConditionalSequential: 1-122                                                   --                        (recursive)\n",
      "│    └─ELU: 2-125                                                                --                        --\n",
      "│    └─ELU: 2-126                                                                [1, 64, 14, 14]           --\n",
      "├─ModuleList: 1-123                                                              --                        (recursive)\n",
      "│    └─CondRefineBlock: 2-127                                                    --                        (recursive)\n",
      "│    │    └─CondRCUBlock: 3-80                                                   --                        (recursive)\n",
      "│    └─CondRefineBlock: 2-128                                                    [1, 64, 28, 28]           543,872\n",
      "│    │    └─ModuleList: 3-89                                                     --                        (recursive)\n",
      "├─ConditionalSequential: 1-122                                                   --                        (recursive)\n",
      "│    └─ELU: 2-129                                                                --                        --\n",
      "│    └─ELU: 2-130                                                                [1, 64, 28, 28]           --\n",
      "├─ModuleList: 1-123                                                              --                        (recursive)\n",
      "│    └─CondRefineBlock: 2-172                                                    --                        (recursive)\n",
      "│    │    └─ModuleList: 3-89                                                     --                        (recursive)\n",
      "├─ConditionalSequential: 1-122                                                   --                        (recursive)\n",
      "│    └─ELU: 2-132                                                                --                        --\n",
      "│    └─ELU: 2-133                                                                [1, 64, 28, 28]           --\n",
      "├─ModuleList: 1-123                                                              --                        (recursive)\n",
      "│    └─CondRefineBlock: 2-172                                                    --                        (recursive)\n",
      "│    │    └─ModuleList: 3-89                                                     --                        (recursive)\n",
      "├─ConditionalSequential: 1-122                                                   --                        (recursive)\n",
      "│    └─ELU: 2-135                                                                --                        --\n",
      "│    └─ELU: 2-136                                                                [1, 64, 28, 28]           --\n",
      "├─ModuleList: 1-123                                                              --                        (recursive)\n",
      "│    └─CondRefineBlock: 2-172                                                    --                        (recursive)\n",
      "│    │    └─ModuleList: 3-89                                                     --                        (recursive)\n",
      "├─ConditionalSequential: 1-122                                                   --                        (recursive)\n",
      "│    └─ELU: 2-138                                                                --                        --\n",
      "│    └─ELU: 2-139                                                                [1, 64, 28, 28]           --\n",
      "├─ModuleList: 1-123                                                              --                        (recursive)\n",
      "│    └─CondRefineBlock: 2-172                                                    --                        (recursive)\n",
      "│    │    └─ModuleList: 3-89                                                     --                        (recursive)\n",
      "├─ConditionalSequential: 1-122                                                   --                        (recursive)\n",
      "│    └─ELU: 2-141                                                                --                        --\n",
      "│    └─ELU: 2-142                                                                [1, 64, 14, 14]           --\n",
      "├─ModuleList: 1-123                                                              --                        (recursive)\n",
      "│    └─CondRefineBlock: 2-172                                                    --                        (recursive)\n",
      "│    │    └─ModuleList: 3-89                                                     --                        (recursive)\n",
      "├─ConditionalSequential: 1-122                                                   --                        (recursive)\n",
      "│    └─ELU: 2-144                                                                --                        --\n",
      "│    └─ELU: 2-145                                                                [1, 64, 14, 14]           --\n",
      "├─ModuleList: 1-123                                                              --                        (recursive)\n",
      "│    └─CondRefineBlock: 2-172                                                    --                        (recursive)\n",
      "│    │    └─ModuleList: 3-89                                                     --                        (recursive)\n",
      "├─ConditionalSequential: 1-122                                                   --                        (recursive)\n",
      "│    └─ELU: 2-147                                                                --                        --\n",
      "│    └─ELU: 2-148                                                                [1, 64, 14, 14]           --\n",
      "├─ModuleList: 1-123                                                              --                        (recursive)\n",
      "│    └─CondRefineBlock: 2-172                                                    --                        (recursive)\n",
      "│    │    └─ModuleList: 3-89                                                     --                        (recursive)\n",
      "├─ConditionalSequential: 1-122                                                   --                        (recursive)\n",
      "│    └─ELU: 2-150                                                                --                        --\n",
      "│    └─ELU: 2-151                                                                [1, 64, 14, 14]           --\n",
      "├─ModuleList: 1-123                                                              --                        (recursive)\n",
      "│    └─CondRefineBlock: 2-172                                                    --                        (recursive)\n",
      "│    │    └─ModuleList: 3-89                                                     --                        (recursive)\n",
      "│    │    └─CondMSFBlock: 3-90                                                   [1, 64, 28, 28]           77,696\n",
      "│    │    └─CondCRPBlock: 3-91                                                   [1, 64, 28, 28]           77,696\n",
      "├─ConditionalSequential: 1-122                                                   --                        (recursive)\n",
      "│    └─ELU: 2-153                                                                [1, 64, 28, 28]           --\n",
      "├─ModuleList: 1-123                                                              --                        (recursive)\n",
      "│    └─CondRefineBlock: 2-172                                                    --                        (recursive)\n",
      "│    │    └─CondCRPBlock: 3-92                                                   --                        (recursive)\n",
      "│    │    └─CondRCUBlock: 3-93                                                   [1, 64, 28, 28]           233,088\n",
      "├─ConditionalSequential: 1-122                                                   --                        (recursive)\n",
      "│    └─ELU: 2-155                                                                --                        --\n",
      "│    └─ELU: 2-156                                                                [1, 64, 28, 28]           --\n",
      "├─ModuleList: 1-123                                                              --                        (recursive)\n",
      "│    └─CondRefineBlock: 2-172                                                    --                        (recursive)\n",
      "│    │    └─CondRCUBlock: 3-99                                                   --                        (recursive)\n",
      "├─ConditionalSequential: 1-122                                                   --                        (recursive)\n",
      "│    └─ELU: 2-158                                                                --                        --\n",
      "│    └─ELU: 2-159                                                                [1, 64, 28, 28]           --\n",
      "├─ModuleList: 1-123                                                              --                        (recursive)\n",
      "│    └─CondRefineBlock: 2-172                                                    --                        (recursive)\n",
      "│    │    └─CondRCUBlock: 3-99                                                   --                        (recursive)\n",
      "├─ConditionalSequential: 1-122                                                   --                        (recursive)\n",
      "│    └─ELU: 2-161                                                                --                        --\n",
      "│    └─ELU: 2-162                                                                [1, 64, 28, 28]           --\n",
      "├─ModuleList: 1-123                                                              --                        (recursive)\n",
      "│    └─CondRefineBlock: 2-172                                                    --                        (recursive)\n",
      "│    │    └─CondRCUBlock: 3-99                                                   --                        (recursive)\n",
      "├─ConditionalSequential: 1-122                                                   --                        (recursive)\n",
      "│    └─ELU: 2-164                                                                --                        --\n",
      "│    └─ELU: 2-165                                                                [1, 64, 28, 28]           --\n",
      "├─ModuleList: 1-123                                                              --                        (recursive)\n",
      "│    └─CondRefineBlock: 2-172                                                    --                        (recursive)\n",
      "│    │    └─CondRCUBlock: 3-99                                                   --                        (recursive)\n",
      "├─ConditionalSequential: 1-122                                                   --                        (recursive)\n",
      "│    └─ELU: 2-167                                                                --                        --\n",
      "│    └─ELU: 2-168                                                                [1, 64, 28, 28]           --\n",
      "├─ModuleList: 1-123                                                              --                        (recursive)\n",
      "│    └─CondRefineBlock: 2-172                                                    --                        (recursive)\n",
      "│    │    └─CondRCUBlock: 3-99                                                   --                        (recursive)\n",
      "├─ConditionalSequential: 1-122                                                   --                        (recursive)\n",
      "│    └─ELU: 2-170                                                                --                        --\n",
      "│    └─ELU: 2-171                                                                [1, 64, 28, 28]           --\n",
      "├─ModuleList: 1-123                                                              --                        (recursive)\n",
      "│    └─CondRefineBlock: 2-172                                                    --                        (recursive)\n",
      "│    │    └─CondRCUBlock: 3-99                                                   --                        (recursive)\n",
      "├─ConditionalSequential: 1-124                                                   [1, 1, 28, 28]            --\n",
      "│    └─ConditionalInstanceNorm2dPlus: 2-173                                      [1, 64, 28, 28]           --\n",
      "│    │    └─InstanceNorm2d: 3-100                                                [1, 64, 28, 28]           --\n",
      "│    │    └─Embedding: 3-101                                                     [1, 192]                  1,920\n",
      "│    └─ELU: 2-174                                                                --                        --\n",
      "│    └─ELU: 2-175                                                                [1, 64, 28, 28]           --\n",
      "│    └─Conv2d: 2-176                                                             --                        577\n",
      "│    └─Conv2d: 2-177                                                             [1, 1, 28, 28]            (recursive)\n",
      "==================================================================================================================================\n",
      "Total params: 24,339,969\n",
      "Trainable params: 24,339,969\n",
      "Non-trainable params: 0\n",
      "Total mult-adds (Units.GIGABYTES): 1.95\n",
      "==================================================================================================================================\n",
      "Input size (MB): 0.00\n",
      "Forward/backward pass size (MB): 18.95\n",
      "Params size (MB): 30.84\n",
      "Estimated Total Size (MB): 49.79\n",
      "==================================================================================================================================\n"
     ]
    }
   ],
   "source": [
    "model = NCSN(shape, L, filters=64)\n",
    "optimizer = torch.optim.Adam(model.parameters(), lr=1e-3)\n",
    "\n",
    "print(summary(model, [(1, *shape[::-1]), (1,)], dtypes=[torch.float, torch.long]))"
   ]
  },
  {
   "cell_type": "code",
   "execution_count": 6,
   "id": "aeb3cd98-737e-4fdd-bfda-466e77b763cc",
   "metadata": {},
   "outputs": [],
   "source": [
    "perturbation = GaussianPerturbation()\n",
    "loss_fn = NCSNLoss(perturbation, sigmas, coeff_func=lambda s: s**2, K=1)"
   ]
  },
  {
   "cell_type": "code",
   "execution_count": 7,
   "id": "4aad0040-f545-4b05-8edb-e3f9d25d903e",
   "metadata": {},
   "outputs": [
    {
     "data": {
      "application/vnd.jupyter.widget-view+json": {
       "model_id": "214109bf052f4b8fbb0dd5777362d662",
       "version_major": 2,
       "version_minor": 0
      },
      "text/plain": [
       "  0%|          | 0/93 [00:00<?, ?batch/s]"
      ]
     },
     "metadata": {},
     "output_type": "display_data"
    },
    {
     "name": "stdout",
     "output_type": "stream",
     "text": [
      "Epoch 1 (Loss: 0.4022)\n"
     ]
    },
    {
     "data": {
      "application/vnd.jupyter.widget-view+json": {
       "model_id": "478e9e9b604644ad9f1dd78fbe4c7660",
       "version_major": 2,
       "version_minor": 0
      },
      "text/plain": [
       "  0%|          | 0/93 [00:00<?, ?batch/s]"
      ]
     },
     "metadata": {},
     "output_type": "display_data"
    },
    {
     "name": "stdout",
     "output_type": "stream",
     "text": [
      "Epoch 2 (Loss: 0.3187)\n"
     ]
    },
    {
     "data": {
      "application/vnd.jupyter.widget-view+json": {
       "model_id": "a3d3ae6596cd445c9a62822adf7e06b3",
       "version_major": 2,
       "version_minor": 0
      },
      "text/plain": [
       "  0%|          | 0/93 [00:00<?, ?batch/s]"
      ]
     },
     "metadata": {},
     "output_type": "display_data"
    },
    {
     "name": "stdout",
     "output_type": "stream",
     "text": [
      "Epoch 3 (Loss: 0.3047)\n"
     ]
    },
    {
     "data": {
      "application/vnd.jupyter.widget-view+json": {
       "model_id": "5180f8a287cd449f836dc1cb43a29868",
       "version_major": 2,
       "version_minor": 0
      },
      "text/plain": [
       "  0%|          | 0/93 [00:00<?, ?batch/s]"
      ]
     },
     "metadata": {},
     "output_type": "display_data"
    },
    {
     "name": "stdout",
     "output_type": "stream",
     "text": [
      "Epoch 4 (Loss: 0.2500)\n"
     ]
    },
    {
     "data": {
      "application/vnd.jupyter.widget-view+json": {
       "model_id": "9a41468e3cb748efa180d6a35b5c69fd",
       "version_major": 2,
       "version_minor": 0
      },
      "text/plain": [
       "  0%|          | 0/93 [00:00<?, ?batch/s]"
      ]
     },
     "metadata": {},
     "output_type": "display_data"
    },
    {
     "name": "stdout",
     "output_type": "stream",
     "text": [
      "Epoch 5 (Loss: 0.2736)\n"
     ]
    },
    {
     "data": {
      "application/vnd.jupyter.widget-view+json": {
       "model_id": "a9138b5a9c904abfbf4e1716e45add8d",
       "version_major": 2,
       "version_minor": 0
      },
      "text/plain": [
       "  0%|          | 0/93 [00:00<?, ?batch/s]"
      ]
     },
     "metadata": {},
     "output_type": "display_data"
    },
    {
     "name": "stdout",
     "output_type": "stream",
     "text": [
      "Epoch 6 (Loss: 0.2322)\n"
     ]
    },
    {
     "data": {
      "application/vnd.jupyter.widget-view+json": {
       "model_id": "9dc0438c542845a1967bdb6b2a1c111c",
       "version_major": 2,
       "version_minor": 0
      },
      "text/plain": [
       "  0%|          | 0/93 [00:00<?, ?batch/s]"
      ]
     },
     "metadata": {},
     "output_type": "display_data"
    },
    {
     "name": "stdout",
     "output_type": "stream",
     "text": [
      "Epoch 7 (Loss: 0.1858)\n"
     ]
    },
    {
     "data": {
      "application/vnd.jupyter.widget-view+json": {
       "model_id": "c3156143ec6947d9ba673d72fe26e0be",
       "version_major": 2,
       "version_minor": 0
      },
      "text/plain": [
       "  0%|          | 0/93 [00:00<?, ?batch/s]"
      ]
     },
     "metadata": {},
     "output_type": "display_data"
    },
    {
     "name": "stdout",
     "output_type": "stream",
     "text": [
      "Epoch 8 (Loss: 0.2044)\n"
     ]
    },
    {
     "data": {
      "application/vnd.jupyter.widget-view+json": {
       "model_id": "21bff6e40f324c1da0026d4fbfffe685",
       "version_major": 2,
       "version_minor": 0
      },
      "text/plain": [
       "  0%|          | 0/93 [00:00<?, ?batch/s]"
      ]
     },
     "metadata": {},
     "output_type": "display_data"
    },
    {
     "name": "stdout",
     "output_type": "stream",
     "text": [
      "Epoch 9 (Loss: 0.1888)\n"
     ]
    },
    {
     "data": {
      "application/vnd.jupyter.widget-view+json": {
       "model_id": "04ef01b463b94963897e6cd9b8c9ad33",
       "version_major": 2,
       "version_minor": 0
      },
      "text/plain": [
       "  0%|          | 0/93 [00:00<?, ?batch/s]"
      ]
     },
     "metadata": {},
     "output_type": "display_data"
    },
    {
     "name": "stdout",
     "output_type": "stream",
     "text": [
      "Epoch 10 (Loss: 0.1746)\n"
     ]
    },
    {
     "data": {
      "application/vnd.jupyter.widget-view+json": {
       "model_id": "2f1e0697cc2840f6a39ee2e8a1a29c1a",
       "version_major": 2,
       "version_minor": 0
      },
      "text/plain": [
       "  0%|          | 0/93 [00:00<?, ?batch/s]"
      ]
     },
     "metadata": {},
     "output_type": "display_data"
    },
    {
     "name": "stdout",
     "output_type": "stream",
     "text": [
      "Epoch 11 (Loss: 0.1677)\n"
     ]
    },
    {
     "data": {
      "application/vnd.jupyter.widget-view+json": {
       "model_id": "be9931b79383456aa58372055feda986",
       "version_major": 2,
       "version_minor": 0
      },
      "text/plain": [
       "  0%|          | 0/93 [00:00<?, ?batch/s]"
      ]
     },
     "metadata": {},
     "output_type": "display_data"
    },
    {
     "name": "stdout",
     "output_type": "stream",
     "text": [
      "Epoch 12 (Loss: 0.1250)\n"
     ]
    },
    {
     "data": {
      "application/vnd.jupyter.widget-view+json": {
       "model_id": "b37ec9f9f3844d0fb11688b97f4e2d79",
       "version_major": 2,
       "version_minor": 0
      },
      "text/plain": [
       "  0%|          | 0/93 [00:00<?, ?batch/s]"
      ]
     },
     "metadata": {},
     "output_type": "display_data"
    },
    {
     "name": "stdout",
     "output_type": "stream",
     "text": [
      "Epoch 13 (Loss: 0.1757)\n"
     ]
    },
    {
     "data": {
      "application/vnd.jupyter.widget-view+json": {
       "model_id": "9340c67b19124c2eac126c3fafa777f5",
       "version_major": 2,
       "version_minor": 0
      },
      "text/plain": [
       "  0%|          | 0/93 [00:00<?, ?batch/s]"
      ]
     },
     "metadata": {},
     "output_type": "display_data"
    },
    {
     "name": "stdout",
     "output_type": "stream",
     "text": [
      "Epoch 14 (Loss: 0.1586)\n"
     ]
    },
    {
     "data": {
      "application/vnd.jupyter.widget-view+json": {
       "model_id": "88102e4736ec489799c860b388e436f6",
       "version_major": 2,
       "version_minor": 0
      },
      "text/plain": [
       "  0%|          | 0/93 [00:00<?, ?batch/s]"
      ]
     },
     "metadata": {},
     "output_type": "display_data"
    },
    {
     "name": "stdout",
     "output_type": "stream",
     "text": [
      "Epoch 15 (Loss: 0.1695)\n"
     ]
    },
    {
     "data": {
      "application/vnd.jupyter.widget-view+json": {
       "model_id": "457901afefe9451594e5ee3957081751",
       "version_major": 2,
       "version_minor": 0
      },
      "text/plain": [
       "  0%|          | 0/93 [00:00<?, ?batch/s]"
      ]
     },
     "metadata": {},
     "output_type": "display_data"
    },
    {
     "name": "stdout",
     "output_type": "stream",
     "text": [
      "Epoch 16 (Loss: 0.1433)\n"
     ]
    },
    {
     "data": {
      "application/vnd.jupyter.widget-view+json": {
       "model_id": "602685fc4af8418cb93c357c8adfa030",
       "version_major": 2,
       "version_minor": 0
      },
      "text/plain": [
       "  0%|          | 0/93 [00:00<?, ?batch/s]"
      ]
     },
     "metadata": {},
     "output_type": "display_data"
    },
    {
     "name": "stdout",
     "output_type": "stream",
     "text": [
      "Epoch 17 (Loss: 0.1280)\n"
     ]
    },
    {
     "data": {
      "application/vnd.jupyter.widget-view+json": {
       "model_id": "36da45b20aac498bba0823519573caed",
       "version_major": 2,
       "version_minor": 0
      },
      "text/plain": [
       "  0%|          | 0/93 [00:00<?, ?batch/s]"
      ]
     },
     "metadata": {},
     "output_type": "display_data"
    },
    {
     "name": "stdout",
     "output_type": "stream",
     "text": [
      "Epoch 18 (Loss: 0.1306)\n"
     ]
    },
    {
     "data": {
      "application/vnd.jupyter.widget-view+json": {
       "model_id": "7aae0d5666374353ab72187efe832185",
       "version_major": 2,
       "version_minor": 0
      },
      "text/plain": [
       "  0%|          | 0/93 [00:00<?, ?batch/s]"
      ]
     },
     "metadata": {},
     "output_type": "display_data"
    },
    {
     "name": "stdout",
     "output_type": "stream",
     "text": [
      "Epoch 19 (Loss: 0.1299)\n"
     ]
    },
    {
     "data": {
      "application/vnd.jupyter.widget-view+json": {
       "model_id": "9d0fb494cc9c4bdbb651b1fee77b630d",
       "version_major": 2,
       "version_minor": 0
      },
      "text/plain": [
       "  0%|          | 0/93 [00:00<?, ?batch/s]"
      ]
     },
     "metadata": {},
     "output_type": "display_data"
    },
    {
     "name": "stdout",
     "output_type": "stream",
     "text": [
      "Epoch 20 (Loss: 0.1143)\n"
     ]
    },
    {
     "data": {
      "application/vnd.jupyter.widget-view+json": {
       "model_id": "97e69e6824084c99b46ffc2068252adb",
       "version_major": 2,
       "version_minor": 0
      },
      "text/plain": [
       "  0%|          | 0/93 [00:00<?, ?batch/s]"
      ]
     },
     "metadata": {},
     "output_type": "display_data"
    },
    {
     "name": "stdout",
     "output_type": "stream",
     "text": [
      "Epoch 21 (Loss: 0.1507)\n"
     ]
    },
    {
     "data": {
      "application/vnd.jupyter.widget-view+json": {
       "model_id": "02316f14d48b457681a0f7c626bae1e0",
       "version_major": 2,
       "version_minor": 0
      },
      "text/plain": [
       "  0%|          | 0/93 [00:00<?, ?batch/s]"
      ]
     },
     "metadata": {},
     "output_type": "display_data"
    },
    {
     "name": "stdout",
     "output_type": "stream",
     "text": [
      "Epoch 22 (Loss: 0.1176)\n"
     ]
    },
    {
     "data": {
      "application/vnd.jupyter.widget-view+json": {
       "model_id": "0d39f2730db643ed86a11ea7f5e3465e",
       "version_major": 2,
       "version_minor": 0
      },
      "text/plain": [
       "  0%|          | 0/93 [00:00<?, ?batch/s]"
      ]
     },
     "metadata": {},
     "output_type": "display_data"
    },
    {
     "name": "stdout",
     "output_type": "stream",
     "text": [
      "Epoch 23 (Loss: 0.1144)\n"
     ]
    },
    {
     "data": {
      "application/vnd.jupyter.widget-view+json": {
       "model_id": "3387e6acc2b940ed84a046ce43d3c7e6",
       "version_major": 2,
       "version_minor": 0
      },
      "text/plain": [
       "  0%|          | 0/93 [00:00<?, ?batch/s]"
      ]
     },
     "metadata": {},
     "output_type": "display_data"
    },
    {
     "name": "stdout",
     "output_type": "stream",
     "text": [
      "Epoch 24 (Loss: 0.1218)\n"
     ]
    },
    {
     "data": {
      "application/vnd.jupyter.widget-view+json": {
       "model_id": "b890e17649af4946b21dc6492b9465d8",
       "version_major": 2,
       "version_minor": 0
      },
      "text/plain": [
       "  0%|          | 0/93 [00:00<?, ?batch/s]"
      ]
     },
     "metadata": {},
     "output_type": "display_data"
    },
    {
     "name": "stdout",
     "output_type": "stream",
     "text": [
      "Epoch 25 (Loss: 0.1019)\n"
     ]
    },
    {
     "data": {
      "application/vnd.jupyter.widget-view+json": {
       "model_id": "cd5665153ee243feb71c228303c2a2f2",
       "version_major": 2,
       "version_minor": 0
      },
      "text/plain": [
       "  0%|          | 0/93 [00:00<?, ?batch/s]"
      ]
     },
     "metadata": {},
     "output_type": "display_data"
    },
    {
     "name": "stdout",
     "output_type": "stream",
     "text": [
      "Epoch 26 (Loss: 0.1241)\n"
     ]
    },
    {
     "data": {
      "application/vnd.jupyter.widget-view+json": {
       "model_id": "89e8ebd671a849db8e50b344196a17de",
       "version_major": 2,
       "version_minor": 0
      },
      "text/plain": [
       "  0%|          | 0/93 [00:00<?, ?batch/s]"
      ]
     },
     "metadata": {},
     "output_type": "display_data"
    },
    {
     "name": "stdout",
     "output_type": "stream",
     "text": [
      "Epoch 27 (Loss: 0.1648)\n"
     ]
    },
    {
     "data": {
      "application/vnd.jupyter.widget-view+json": {
       "model_id": "7af79c360dd045ef80570efe4e1a9f9d",
       "version_major": 2,
       "version_minor": 0
      },
      "text/plain": [
       "  0%|          | 0/93 [00:00<?, ?batch/s]"
      ]
     },
     "metadata": {},
     "output_type": "display_data"
    },
    {
     "name": "stdout",
     "output_type": "stream",
     "text": [
      "Epoch 28 (Loss: 0.1529)\n"
     ]
    },
    {
     "data": {
      "application/vnd.jupyter.widget-view+json": {
       "model_id": "31575986f96940f8a567fea0f444cfac",
       "version_major": 2,
       "version_minor": 0
      },
      "text/plain": [
       "  0%|          | 0/93 [00:00<?, ?batch/s]"
      ]
     },
     "metadata": {},
     "output_type": "display_data"
    },
    {
     "name": "stdout",
     "output_type": "stream",
     "text": [
      "Epoch 29 (Loss: 0.0856)\n"
     ]
    },
    {
     "data": {
      "application/vnd.jupyter.widget-view+json": {
       "model_id": "77e274f73e924d328afaee2233917a36",
       "version_major": 2,
       "version_minor": 0
      },
      "text/plain": [
       "  0%|          | 0/93 [00:00<?, ?batch/s]"
      ]
     },
     "metadata": {},
     "output_type": "display_data"
    },
    {
     "name": "stdout",
     "output_type": "stream",
     "text": [
      "Epoch 30 (Loss: 0.0739)\n"
     ]
    },
    {
     "data": {
      "application/vnd.jupyter.widget-view+json": {
       "model_id": "528d66a15ecc46819ff393da37f523e8",
       "version_major": 2,
       "version_minor": 0
      },
      "text/plain": [
       "  0%|          | 0/93 [00:00<?, ?batch/s]"
      ]
     },
     "metadata": {},
     "output_type": "display_data"
    },
    {
     "name": "stdout",
     "output_type": "stream",
     "text": [
      "Epoch 31 (Loss: 0.0828)\n"
     ]
    },
    {
     "data": {
      "application/vnd.jupyter.widget-view+json": {
       "model_id": "402dd2e06aea482bab1009c15ca5fb1d",
       "version_major": 2,
       "version_minor": 0
      },
      "text/plain": [
       "  0%|          | 0/93 [00:00<?, ?batch/s]"
      ]
     },
     "metadata": {},
     "output_type": "display_data"
    },
    {
     "name": "stdout",
     "output_type": "stream",
     "text": [
      "Epoch 32 (Loss: 0.1076)\n"
     ]
    },
    {
     "data": {
      "application/vnd.jupyter.widget-view+json": {
       "model_id": "32d7f5ff4bee4f2395c02be45430cedd",
       "version_major": 2,
       "version_minor": 0
      },
      "text/plain": [
       "  0%|          | 0/93 [00:00<?, ?batch/s]"
      ]
     },
     "metadata": {},
     "output_type": "display_data"
    },
    {
     "name": "stdout",
     "output_type": "stream",
     "text": [
      "Epoch 33 (Loss: 0.0983)\n"
     ]
    },
    {
     "data": {
      "application/vnd.jupyter.widget-view+json": {
       "model_id": "cbfe983876744711bbfb6c09e45775b4",
       "version_major": 2,
       "version_minor": 0
      },
      "text/plain": [
       "  0%|          | 0/93 [00:00<?, ?batch/s]"
      ]
     },
     "metadata": {},
     "output_type": "display_data"
    },
    {
     "name": "stdout",
     "output_type": "stream",
     "text": [
      "Epoch 34 (Loss: 0.0984)\n"
     ]
    },
    {
     "data": {
      "application/vnd.jupyter.widget-view+json": {
       "model_id": "3863ff7b4c2448ccbe03ca2aabf9d1b5",
       "version_major": 2,
       "version_minor": 0
      },
      "text/plain": [
       "  0%|          | 0/93 [00:00<?, ?batch/s]"
      ]
     },
     "metadata": {},
     "output_type": "display_data"
    },
    {
     "name": "stdout",
     "output_type": "stream",
     "text": [
      "Epoch 35 (Loss: 0.0859)\n"
     ]
    },
    {
     "data": {
      "application/vnd.jupyter.widget-view+json": {
       "model_id": "ab256f130686400196f56266d2efc46e",
       "version_major": 2,
       "version_minor": 0
      },
      "text/plain": [
       "  0%|          | 0/93 [00:00<?, ?batch/s]"
      ]
     },
     "metadata": {},
     "output_type": "display_data"
    },
    {
     "name": "stdout",
     "output_type": "stream",
     "text": [
      "Epoch 36 (Loss: 0.0967)\n"
     ]
    },
    {
     "data": {
      "application/vnd.jupyter.widget-view+json": {
       "model_id": "159646da9c6c48018bde13ad87cb2ecc",
       "version_major": 2,
       "version_minor": 0
      },
      "text/plain": [
       "  0%|          | 0/93 [00:00<?, ?batch/s]"
      ]
     },
     "metadata": {},
     "output_type": "display_data"
    },
    {
     "name": "stdout",
     "output_type": "stream",
     "text": [
      "Epoch 37 (Loss: 0.1004)\n"
     ]
    },
    {
     "data": {
      "application/vnd.jupyter.widget-view+json": {
       "model_id": "86d09a53e44343ddaf323de6cf3e73fa",
       "version_major": 2,
       "version_minor": 0
      },
      "text/plain": [
       "  0%|          | 0/93 [00:00<?, ?batch/s]"
      ]
     },
     "metadata": {},
     "output_type": "display_data"
    },
    {
     "name": "stdout",
     "output_type": "stream",
     "text": [
      "Epoch 38 (Loss: 0.0782)\n"
     ]
    },
    {
     "data": {
      "application/vnd.jupyter.widget-view+json": {
       "model_id": "55cab656b7984b9498b199296a2da503",
       "version_major": 2,
       "version_minor": 0
      },
      "text/plain": [
       "  0%|          | 0/93 [00:00<?, ?batch/s]"
      ]
     },
     "metadata": {},
     "output_type": "display_data"
    },
    {
     "name": "stdout",
     "output_type": "stream",
     "text": [
      "Epoch 39 (Loss: 0.0964)\n"
     ]
    },
    {
     "data": {
      "application/vnd.jupyter.widget-view+json": {
       "model_id": "64221eaa4d0f4dcb878513c99e72810c",
       "version_major": 2,
       "version_minor": 0
      },
      "text/plain": [
       "  0%|          | 0/93 [00:00<?, ?batch/s]"
      ]
     },
     "metadata": {},
     "output_type": "display_data"
    },
    {
     "name": "stdout",
     "output_type": "stream",
     "text": [
      "Epoch 40 (Loss: 0.0797)\n"
     ]
    },
    {
     "data": {
      "application/vnd.jupyter.widget-view+json": {
       "model_id": "4e2ed1c045ba43898dbc70209df5c0ac",
       "version_major": 2,
       "version_minor": 0
      },
      "text/plain": [
       "  0%|          | 0/93 [00:00<?, ?batch/s]"
      ]
     },
     "metadata": {},
     "output_type": "display_data"
    },
    {
     "name": "stdout",
     "output_type": "stream",
     "text": [
      "Epoch 41 (Loss: 0.0725)\n"
     ]
    },
    {
     "data": {
      "application/vnd.jupyter.widget-view+json": {
       "model_id": "af807c54f048452484de858de24768ee",
       "version_major": 2,
       "version_minor": 0
      },
      "text/plain": [
       "  0%|          | 0/93 [00:00<?, ?batch/s]"
      ]
     },
     "metadata": {},
     "output_type": "display_data"
    },
    {
     "name": "stdout",
     "output_type": "stream",
     "text": [
      "Epoch 42 (Loss: 0.0733)\n"
     ]
    },
    {
     "data": {
      "application/vnd.jupyter.widget-view+json": {
       "model_id": "5b203b47fb8944ee97c0f18e20c2c877",
       "version_major": 2,
       "version_minor": 0
      },
      "text/plain": [
       "  0%|          | 0/93 [00:00<?, ?batch/s]"
      ]
     },
     "metadata": {},
     "output_type": "display_data"
    },
    {
     "name": "stdout",
     "output_type": "stream",
     "text": [
      "Epoch 43 (Loss: 0.0909)\n"
     ]
    },
    {
     "data": {
      "application/vnd.jupyter.widget-view+json": {
       "model_id": "d6edc8d406f34cf486c36c16abdc8cc3",
       "version_major": 2,
       "version_minor": 0
      },
      "text/plain": [
       "  0%|          | 0/93 [00:00<?, ?batch/s]"
      ]
     },
     "metadata": {},
     "output_type": "display_data"
    },
    {
     "name": "stdout",
     "output_type": "stream",
     "text": [
      "Epoch 44 (Loss: 0.0894)\n"
     ]
    },
    {
     "data": {
      "application/vnd.jupyter.widget-view+json": {
       "model_id": "6359f4c144ef47d0be59c7fcd41c5751",
       "version_major": 2,
       "version_minor": 0
      },
      "text/plain": [
       "  0%|          | 0/93 [00:00<?, ?batch/s]"
      ]
     },
     "metadata": {},
     "output_type": "display_data"
    },
    {
     "name": "stdout",
     "output_type": "stream",
     "text": [
      "Epoch 45 (Loss: 0.0969)\n"
     ]
    },
    {
     "data": {
      "application/vnd.jupyter.widget-view+json": {
       "model_id": "d4926381eac3452e980f5e4191e75953",
       "version_major": 2,
       "version_minor": 0
      },
      "text/plain": [
       "  0%|          | 0/93 [00:00<?, ?batch/s]"
      ]
     },
     "metadata": {},
     "output_type": "display_data"
    },
    {
     "name": "stdout",
     "output_type": "stream",
     "text": [
      "Epoch 46 (Loss: 0.0682)\n"
     ]
    },
    {
     "data": {
      "application/vnd.jupyter.widget-view+json": {
       "model_id": "3a533a2c954b4e95889dc7fc585480a4",
       "version_major": 2,
       "version_minor": 0
      },
      "text/plain": [
       "  0%|          | 0/93 [00:00<?, ?batch/s]"
      ]
     },
     "metadata": {},
     "output_type": "display_data"
    },
    {
     "name": "stdout",
     "output_type": "stream",
     "text": [
      "Epoch 47 (Loss: 0.0700)\n"
     ]
    },
    {
     "data": {
      "application/vnd.jupyter.widget-view+json": {
       "model_id": "9edb4c0a8aa544adbfaab8c63d50074c",
       "version_major": 2,
       "version_minor": 0
      },
      "text/plain": [
       "  0%|          | 0/93 [00:00<?, ?batch/s]"
      ]
     },
     "metadata": {},
     "output_type": "display_data"
    },
    {
     "name": "stdout",
     "output_type": "stream",
     "text": [
      "Epoch 48 (Loss: 0.0761)\n"
     ]
    },
    {
     "data": {
      "application/vnd.jupyter.widget-view+json": {
       "model_id": "aba5bca58ded40fdac4a72dbd0e5c0cb",
       "version_major": 2,
       "version_minor": 0
      },
      "text/plain": [
       "  0%|          | 0/93 [00:00<?, ?batch/s]"
      ]
     },
     "metadata": {},
     "output_type": "display_data"
    },
    {
     "name": "stdout",
     "output_type": "stream",
     "text": [
      "Epoch 49 (Loss: 0.0772)\n"
     ]
    },
    {
     "data": {
      "application/vnd.jupyter.widget-view+json": {
       "model_id": "305fbccf83cb4c83855b3b94dec8f0b7",
       "version_major": 2,
       "version_minor": 0
      },
      "text/plain": [
       "  0%|          | 0/93 [00:00<?, ?batch/s]"
      ]
     },
     "metadata": {},
     "output_type": "display_data"
    },
    {
     "name": "stdout",
     "output_type": "stream",
     "text": [
      "Epoch 50 (Loss: 0.0793)\n"
     ]
    },
    {
     "data": {
      "application/vnd.jupyter.widget-view+json": {
       "model_id": "1a5afff274ed4a16aadfffffa6636420",
       "version_major": 2,
       "version_minor": 0
      },
      "text/plain": [
       "  0%|          | 0/93 [00:00<?, ?batch/s]"
      ]
     },
     "metadata": {},
     "output_type": "display_data"
    },
    {
     "name": "stdout",
     "output_type": "stream",
     "text": [
      "Epoch 51 (Loss: 0.0687)\n"
     ]
    },
    {
     "data": {
      "application/vnd.jupyter.widget-view+json": {
       "model_id": "3697dffffb6a4787a33911d874beb36b",
       "version_major": 2,
       "version_minor": 0
      },
      "text/plain": [
       "  0%|          | 0/93 [00:00<?, ?batch/s]"
      ]
     },
     "metadata": {},
     "output_type": "display_data"
    },
    {
     "name": "stdout",
     "output_type": "stream",
     "text": [
      "Epoch 52 (Loss: 0.0709)\n"
     ]
    },
    {
     "data": {
      "application/vnd.jupyter.widget-view+json": {
       "model_id": "932ae45cfcd34675bff7aad685f61aa6",
       "version_major": 2,
       "version_minor": 0
      },
      "text/plain": [
       "  0%|          | 0/93 [00:00<?, ?batch/s]"
      ]
     },
     "metadata": {},
     "output_type": "display_data"
    },
    {
     "name": "stdout",
     "output_type": "stream",
     "text": [
      "Epoch 53 (Loss: 0.0643)\n"
     ]
    },
    {
     "data": {
      "application/vnd.jupyter.widget-view+json": {
       "model_id": "f08c257535344f9bb8968c84130bb54c",
       "version_major": 2,
       "version_minor": 0
      },
      "text/plain": [
       "  0%|          | 0/93 [00:00<?, ?batch/s]"
      ]
     },
     "metadata": {},
     "output_type": "display_data"
    },
    {
     "name": "stdout",
     "output_type": "stream",
     "text": [
      "Epoch 54 (Loss: 0.0928)\n"
     ]
    },
    {
     "data": {
      "application/vnd.jupyter.widget-view+json": {
       "model_id": "b27496d5620745bfa42f4614f8ff2fa1",
       "version_major": 2,
       "version_minor": 0
      },
      "text/plain": [
       "  0%|          | 0/93 [00:00<?, ?batch/s]"
      ]
     },
     "metadata": {},
     "output_type": "display_data"
    },
    {
     "name": "stdout",
     "output_type": "stream",
     "text": [
      "Epoch 55 (Loss: 0.0856)\n"
     ]
    },
    {
     "data": {
      "application/vnd.jupyter.widget-view+json": {
       "model_id": "05a821649819422c9366c1ee64901fdc",
       "version_major": 2,
       "version_minor": 0
      },
      "text/plain": [
       "  0%|          | 0/93 [00:00<?, ?batch/s]"
      ]
     },
     "metadata": {},
     "output_type": "display_data"
    },
    {
     "name": "stdout",
     "output_type": "stream",
     "text": [
      "Epoch 56 (Loss: 0.0846)\n"
     ]
    },
    {
     "data": {
      "application/vnd.jupyter.widget-view+json": {
       "model_id": "d78c54619d864246ab861c4b1c1d32d6",
       "version_major": 2,
       "version_minor": 0
      },
      "text/plain": [
       "  0%|          | 0/93 [00:00<?, ?batch/s]"
      ]
     },
     "metadata": {},
     "output_type": "display_data"
    },
    {
     "name": "stdout",
     "output_type": "stream",
     "text": [
      "Epoch 57 (Loss: 0.0635)\n"
     ]
    },
    {
     "data": {
      "application/vnd.jupyter.widget-view+json": {
       "model_id": "e0c20c20a16c4db9a47da345e1905b0f",
       "version_major": 2,
       "version_minor": 0
      },
      "text/plain": [
       "  0%|          | 0/93 [00:00<?, ?batch/s]"
      ]
     },
     "metadata": {},
     "output_type": "display_data"
    },
    {
     "name": "stdout",
     "output_type": "stream",
     "text": [
      "Epoch 58 (Loss: 0.0722)\n"
     ]
    },
    {
     "data": {
      "application/vnd.jupyter.widget-view+json": {
       "model_id": "c74079838d8c46e6ba7631bfc51380b4",
       "version_major": 2,
       "version_minor": 0
      },
      "text/plain": [
       "  0%|          | 0/93 [00:00<?, ?batch/s]"
      ]
     },
     "metadata": {},
     "output_type": "display_data"
    },
    {
     "name": "stdout",
     "output_type": "stream",
     "text": [
      "Epoch 59 (Loss: 0.0863)\n"
     ]
    },
    {
     "data": {
      "application/vnd.jupyter.widget-view+json": {
       "model_id": "d76cc18dd09545f8b44282bb2fd76dfe",
       "version_major": 2,
       "version_minor": 0
      },
      "text/plain": [
       "  0%|          | 0/93 [00:00<?, ?batch/s]"
      ]
     },
     "metadata": {},
     "output_type": "display_data"
    },
    {
     "name": "stdout",
     "output_type": "stream",
     "text": [
      "Epoch 60 (Loss: 0.0766)\n"
     ]
    },
    {
     "data": {
      "application/vnd.jupyter.widget-view+json": {
       "model_id": "7d3e12d0f1034ee48f1dd5245f653819",
       "version_major": 2,
       "version_minor": 0
      },
      "text/plain": [
       "  0%|          | 0/93 [00:00<?, ?batch/s]"
      ]
     },
     "metadata": {},
     "output_type": "display_data"
    },
    {
     "name": "stdout",
     "output_type": "stream",
     "text": [
      "Epoch 61 (Loss: 0.0700)\n"
     ]
    },
    {
     "data": {
      "application/vnd.jupyter.widget-view+json": {
       "model_id": "780395cbfc34403b9809ef426dbc0ec1",
       "version_major": 2,
       "version_minor": 0
      },
      "text/plain": [
       "  0%|          | 0/93 [00:00<?, ?batch/s]"
      ]
     },
     "metadata": {},
     "output_type": "display_data"
    },
    {
     "name": "stdout",
     "output_type": "stream",
     "text": [
      "Epoch 62 (Loss: 0.0741)\n"
     ]
    },
    {
     "data": {
      "application/vnd.jupyter.widget-view+json": {
       "model_id": "254c51cf4a29454192501ab761536aad",
       "version_major": 2,
       "version_minor": 0
      },
      "text/plain": [
       "  0%|          | 0/93 [00:00<?, ?batch/s]"
      ]
     },
     "metadata": {},
     "output_type": "display_data"
    },
    {
     "name": "stdout",
     "output_type": "stream",
     "text": [
      "Epoch 63 (Loss: 0.0639)\n"
     ]
    },
    {
     "data": {
      "application/vnd.jupyter.widget-view+json": {
       "model_id": "994b646d322a42b7b6163551a50269a9",
       "version_major": 2,
       "version_minor": 0
      },
      "text/plain": [
       "  0%|          | 0/93 [00:00<?, ?batch/s]"
      ]
     },
     "metadata": {},
     "output_type": "display_data"
    },
    {
     "name": "stdout",
     "output_type": "stream",
     "text": [
      "Epoch 64 (Loss: 0.0702)\n"
     ]
    },
    {
     "data": {
      "application/vnd.jupyter.widget-view+json": {
       "model_id": "864f02d77c35432da0afc7a44e1ac3be",
       "version_major": 2,
       "version_minor": 0
      },
      "text/plain": [
       "  0%|          | 0/93 [00:00<?, ?batch/s]"
      ]
     },
     "metadata": {},
     "output_type": "display_data"
    },
    {
     "name": "stdout",
     "output_type": "stream",
     "text": [
      "Epoch 65 (Loss: 0.0702)\n"
     ]
    },
    {
     "data": {
      "application/vnd.jupyter.widget-view+json": {
       "model_id": "482ec9cc4c104b18969b29203e36cb0e",
       "version_major": 2,
       "version_minor": 0
      },
      "text/plain": [
       "  0%|          | 0/93 [00:00<?, ?batch/s]"
      ]
     },
     "metadata": {},
     "output_type": "display_data"
    },
    {
     "name": "stdout",
     "output_type": "stream",
     "text": [
      "Epoch 66 (Loss: 0.0691)\n"
     ]
    },
    {
     "data": {
      "application/vnd.jupyter.widget-view+json": {
       "model_id": "c6215e51e761479ab48852392285a89e",
       "version_major": 2,
       "version_minor": 0
      },
      "text/plain": [
       "  0%|          | 0/93 [00:00<?, ?batch/s]"
      ]
     },
     "metadata": {},
     "output_type": "display_data"
    },
    {
     "name": "stdout",
     "output_type": "stream",
     "text": [
      "Epoch 67 (Loss: 0.0585)\n"
     ]
    },
    {
     "data": {
      "application/vnd.jupyter.widget-view+json": {
       "model_id": "cd6dd07f59434bc4983eb24dd2aa898f",
       "version_major": 2,
       "version_minor": 0
      },
      "text/plain": [
       "  0%|          | 0/93 [00:00<?, ?batch/s]"
      ]
     },
     "metadata": {},
     "output_type": "display_data"
    },
    {
     "name": "stdout",
     "output_type": "stream",
     "text": [
      "Epoch 68 (Loss: 0.0605)\n"
     ]
    },
    {
     "data": {
      "application/vnd.jupyter.widget-view+json": {
       "model_id": "9333d1aae240448fa5ce7436a186663b",
       "version_major": 2,
       "version_minor": 0
      },
      "text/plain": [
       "  0%|          | 0/93 [00:00<?, ?batch/s]"
      ]
     },
     "metadata": {},
     "output_type": "display_data"
    },
    {
     "name": "stdout",
     "output_type": "stream",
     "text": [
      "Epoch 69 (Loss: 0.0864)\n"
     ]
    },
    {
     "data": {
      "application/vnd.jupyter.widget-view+json": {
       "model_id": "4122a0254e884f8398e39b06a2241158",
       "version_major": 2,
       "version_minor": 0
      },
      "text/plain": [
       "  0%|          | 0/93 [00:00<?, ?batch/s]"
      ]
     },
     "metadata": {},
     "output_type": "display_data"
    },
    {
     "name": "stdout",
     "output_type": "stream",
     "text": [
      "Epoch 70 (Loss: 0.0690)\n"
     ]
    },
    {
     "data": {
      "application/vnd.jupyter.widget-view+json": {
       "model_id": "389de9c6e9944ea7b3a18e57e5bcd809",
       "version_major": 2,
       "version_minor": 0
      },
      "text/plain": [
       "  0%|          | 0/93 [00:00<?, ?batch/s]"
      ]
     },
     "metadata": {},
     "output_type": "display_data"
    },
    {
     "name": "stdout",
     "output_type": "stream",
     "text": [
      "Epoch 71 (Loss: 0.0665)\n"
     ]
    },
    {
     "data": {
      "application/vnd.jupyter.widget-view+json": {
       "model_id": "02efb3bba02643cb9265ce0875d4ccb0",
       "version_major": 2,
       "version_minor": 0
      },
      "text/plain": [
       "  0%|          | 0/93 [00:00<?, ?batch/s]"
      ]
     },
     "metadata": {},
     "output_type": "display_data"
    },
    {
     "name": "stdout",
     "output_type": "stream",
     "text": [
      "Epoch 72 (Loss: 0.0680)\n"
     ]
    },
    {
     "data": {
      "application/vnd.jupyter.widget-view+json": {
       "model_id": "3a5e2009bba44c0fa122d8fe2bcb3fad",
       "version_major": 2,
       "version_minor": 0
      },
      "text/plain": [
       "  0%|          | 0/93 [00:00<?, ?batch/s]"
      ]
     },
     "metadata": {},
     "output_type": "display_data"
    },
    {
     "name": "stdout",
     "output_type": "stream",
     "text": [
      "Epoch 73 (Loss: 0.0680)\n"
     ]
    },
    {
     "data": {
      "application/vnd.jupyter.widget-view+json": {
       "model_id": "fad2c089a64a4e3ab45df7ef12b7cbc0",
       "version_major": 2,
       "version_minor": 0
      },
      "text/plain": [
       "  0%|          | 0/93 [00:00<?, ?batch/s]"
      ]
     },
     "metadata": {},
     "output_type": "display_data"
    },
    {
     "name": "stdout",
     "output_type": "stream",
     "text": [
      "Epoch 74 (Loss: 0.0543)\n"
     ]
    },
    {
     "data": {
      "application/vnd.jupyter.widget-view+json": {
       "model_id": "d5febf09e49e44cfa5d54cba6a8fe2c5",
       "version_major": 2,
       "version_minor": 0
      },
      "text/plain": [
       "  0%|          | 0/93 [00:00<?, ?batch/s]"
      ]
     },
     "metadata": {},
     "output_type": "display_data"
    },
    {
     "name": "stdout",
     "output_type": "stream",
     "text": [
      "Epoch 75 (Loss: 0.0672)\n"
     ]
    },
    {
     "data": {
      "application/vnd.jupyter.widget-view+json": {
       "model_id": "38a335afcace454ba7041975cf1a8a4e",
       "version_major": 2,
       "version_minor": 0
      },
      "text/plain": [
       "  0%|          | 0/93 [00:00<?, ?batch/s]"
      ]
     },
     "metadata": {},
     "output_type": "display_data"
    },
    {
     "name": "stdout",
     "output_type": "stream",
     "text": [
      "Epoch 76 (Loss: 0.0671)\n"
     ]
    },
    {
     "data": {
      "application/vnd.jupyter.widget-view+json": {
       "model_id": "bbedf71b874d40fb84ec545e1ab37c8d",
       "version_major": 2,
       "version_minor": 0
      },
      "text/plain": [
       "  0%|          | 0/93 [00:00<?, ?batch/s]"
      ]
     },
     "metadata": {},
     "output_type": "display_data"
    },
    {
     "name": "stdout",
     "output_type": "stream",
     "text": [
      "Epoch 77 (Loss: 0.0678)\n"
     ]
    },
    {
     "data": {
      "application/vnd.jupyter.widget-view+json": {
       "model_id": "f10b607e60c74009a4bbb0ab4a7d1706",
       "version_major": 2,
       "version_minor": 0
      },
      "text/plain": [
       "  0%|          | 0/93 [00:00<?, ?batch/s]"
      ]
     },
     "metadata": {},
     "output_type": "display_data"
    },
    {
     "name": "stdout",
     "output_type": "stream",
     "text": [
      "Epoch 78 (Loss: 0.0647)\n"
     ]
    },
    {
     "data": {
      "application/vnd.jupyter.widget-view+json": {
       "model_id": "c84d1d4f7c1b4b7b9578b21550eb7de2",
       "version_major": 2,
       "version_minor": 0
      },
      "text/plain": [
       "  0%|          | 0/93 [00:00<?, ?batch/s]"
      ]
     },
     "metadata": {},
     "output_type": "display_data"
    },
    {
     "name": "stdout",
     "output_type": "stream",
     "text": [
      "Epoch 79 (Loss: 0.0607)\n"
     ]
    },
    {
     "data": {
      "application/vnd.jupyter.widget-view+json": {
       "model_id": "1f448054768440d88d2d8ce662e6bb4e",
       "version_major": 2,
       "version_minor": 0
      },
      "text/plain": [
       "  0%|          | 0/93 [00:00<?, ?batch/s]"
      ]
     },
     "metadata": {},
     "output_type": "display_data"
    },
    {
     "name": "stdout",
     "output_type": "stream",
     "text": [
      "Epoch 80 (Loss: 0.0702)\n"
     ]
    },
    {
     "data": {
      "application/vnd.jupyter.widget-view+json": {
       "model_id": "5bb8e9a630e24c6ba5b82215ebdec9c5",
       "version_major": 2,
       "version_minor": 0
      },
      "text/plain": [
       "  0%|          | 0/93 [00:00<?, ?batch/s]"
      ]
     },
     "metadata": {},
     "output_type": "display_data"
    },
    {
     "name": "stdout",
     "output_type": "stream",
     "text": [
      "Epoch 81 (Loss: 0.0588)\n"
     ]
    },
    {
     "data": {
      "application/vnd.jupyter.widget-view+json": {
       "model_id": "2addfebd4143491fb711cf81ab1d9a89",
       "version_major": 2,
       "version_minor": 0
      },
      "text/plain": [
       "  0%|          | 0/93 [00:00<?, ?batch/s]"
      ]
     },
     "metadata": {},
     "output_type": "display_data"
    },
    {
     "name": "stdout",
     "output_type": "stream",
     "text": [
      "Epoch 82 (Loss: 0.0606)\n"
     ]
    },
    {
     "data": {
      "application/vnd.jupyter.widget-view+json": {
       "model_id": "3a49163d07844a4fa77fb6a940ac90e3",
       "version_major": 2,
       "version_minor": 0
      },
      "text/plain": [
       "  0%|          | 0/93 [00:00<?, ?batch/s]"
      ]
     },
     "metadata": {},
     "output_type": "display_data"
    },
    {
     "name": "stdout",
     "output_type": "stream",
     "text": [
      "Epoch 83 (Loss: 0.0683)\n"
     ]
    },
    {
     "data": {
      "application/vnd.jupyter.widget-view+json": {
       "model_id": "b124cedb7c8f49d6964db42f845f8859",
       "version_major": 2,
       "version_minor": 0
      },
      "text/plain": [
       "  0%|          | 0/93 [00:00<?, ?batch/s]"
      ]
     },
     "metadata": {},
     "output_type": "display_data"
    },
    {
     "name": "stdout",
     "output_type": "stream",
     "text": [
      "Epoch 84 (Loss: 0.0603)\n"
     ]
    },
    {
     "data": {
      "application/vnd.jupyter.widget-view+json": {
       "model_id": "5bd44efff5f644f78aa99246a6f38b19",
       "version_major": 2,
       "version_minor": 0
      },
      "text/plain": [
       "  0%|          | 0/93 [00:00<?, ?batch/s]"
      ]
     },
     "metadata": {},
     "output_type": "display_data"
    },
    {
     "name": "stdout",
     "output_type": "stream",
     "text": [
      "Epoch 85 (Loss: 0.0655)\n"
     ]
    },
    {
     "data": {
      "application/vnd.jupyter.widget-view+json": {
       "model_id": "579a19d8ffca46bebd2921175f460dcb",
       "version_major": 2,
       "version_minor": 0
      },
      "text/plain": [
       "  0%|          | 0/93 [00:00<?, ?batch/s]"
      ]
     },
     "metadata": {},
     "output_type": "display_data"
    },
    {
     "name": "stdout",
     "output_type": "stream",
     "text": [
      "Epoch 86 (Loss: 0.0619)\n"
     ]
    },
    {
     "data": {
      "application/vnd.jupyter.widget-view+json": {
       "model_id": "6566300132604497a038c9f2985822bb",
       "version_major": 2,
       "version_minor": 0
      },
      "text/plain": [
       "  0%|          | 0/93 [00:00<?, ?batch/s]"
      ]
     },
     "metadata": {},
     "output_type": "display_data"
    },
    {
     "name": "stdout",
     "output_type": "stream",
     "text": [
      "Epoch 87 (Loss: 0.0603)\n"
     ]
    },
    {
     "data": {
      "application/vnd.jupyter.widget-view+json": {
       "model_id": "89dde6daabbb4a35a5929ce8201ddfbc",
       "version_major": 2,
       "version_minor": 0
      },
      "text/plain": [
       "  0%|          | 0/93 [00:00<?, ?batch/s]"
      ]
     },
     "metadata": {},
     "output_type": "display_data"
    },
    {
     "name": "stdout",
     "output_type": "stream",
     "text": [
      "Epoch 88 (Loss: 0.0517)\n"
     ]
    },
    {
     "data": {
      "application/vnd.jupyter.widget-view+json": {
       "model_id": "f2bbbea8eaa8421e809bd7a46d7c56f1",
       "version_major": 2,
       "version_minor": 0
      },
      "text/plain": [
       "  0%|          | 0/93 [00:00<?, ?batch/s]"
      ]
     },
     "metadata": {},
     "output_type": "display_data"
    },
    {
     "name": "stdout",
     "output_type": "stream",
     "text": [
      "Epoch 89 (Loss: 0.0629)\n"
     ]
    },
    {
     "data": {
      "application/vnd.jupyter.widget-view+json": {
       "model_id": "d15b03efe8154626842804ff8c34b7cb",
       "version_major": 2,
       "version_minor": 0
      },
      "text/plain": [
       "  0%|          | 0/93 [00:00<?, ?batch/s]"
      ]
     },
     "metadata": {},
     "output_type": "display_data"
    },
    {
     "name": "stdout",
     "output_type": "stream",
     "text": [
      "Epoch 90 (Loss: 0.0556)\n"
     ]
    },
    {
     "data": {
      "application/vnd.jupyter.widget-view+json": {
       "model_id": "e7eee798a3804eeea01cf91627e33be7",
       "version_major": 2,
       "version_minor": 0
      },
      "text/plain": [
       "  0%|          | 0/93 [00:00<?, ?batch/s]"
      ]
     },
     "metadata": {},
     "output_type": "display_data"
    },
    {
     "name": "stdout",
     "output_type": "stream",
     "text": [
      "Epoch 91 (Loss: 0.0664)\n"
     ]
    },
    {
     "data": {
      "application/vnd.jupyter.widget-view+json": {
       "model_id": "945f01593d924e90a165d0e93e695707",
       "version_major": 2,
       "version_minor": 0
      },
      "text/plain": [
       "  0%|          | 0/93 [00:00<?, ?batch/s]"
      ]
     },
     "metadata": {},
     "output_type": "display_data"
    },
    {
     "name": "stdout",
     "output_type": "stream",
     "text": [
      "Epoch 92 (Loss: 0.0610)\n"
     ]
    },
    {
     "data": {
      "application/vnd.jupyter.widget-view+json": {
       "model_id": "d99e96ae1af64a5ab51574bc810a58e1",
       "version_major": 2,
       "version_minor": 0
      },
      "text/plain": [
       "  0%|          | 0/93 [00:00<?, ?batch/s]"
      ]
     },
     "metadata": {},
     "output_type": "display_data"
    },
    {
     "name": "stdout",
     "output_type": "stream",
     "text": [
      "Epoch 93 (Loss: 0.0594)\n"
     ]
    },
    {
     "data": {
      "application/vnd.jupyter.widget-view+json": {
       "model_id": "3484c81b05f34d46b26068d25c5477d4",
       "version_major": 2,
       "version_minor": 0
      },
      "text/plain": [
       "  0%|          | 0/93 [00:00<?, ?batch/s]"
      ]
     },
     "metadata": {},
     "output_type": "display_data"
    },
    {
     "name": "stdout",
     "output_type": "stream",
     "text": [
      "Epoch 94 (Loss: 0.0577)\n"
     ]
    },
    {
     "data": {
      "application/vnd.jupyter.widget-view+json": {
       "model_id": "53744e21b15e451c85999370578a6864",
       "version_major": 2,
       "version_minor": 0
      },
      "text/plain": [
       "  0%|          | 0/93 [00:00<?, ?batch/s]"
      ]
     },
     "metadata": {},
     "output_type": "display_data"
    },
    {
     "name": "stdout",
     "output_type": "stream",
     "text": [
      "Epoch 95 (Loss: 0.0633)\n"
     ]
    },
    {
     "data": {
      "application/vnd.jupyter.widget-view+json": {
       "model_id": "5442a4ef010b4594ab35f00243fbab2f",
       "version_major": 2,
       "version_minor": 0
      },
      "text/plain": [
       "  0%|          | 0/93 [00:00<?, ?batch/s]"
      ]
     },
     "metadata": {},
     "output_type": "display_data"
    },
    {
     "name": "stdout",
     "output_type": "stream",
     "text": [
      "Epoch 96 (Loss: 0.0605)\n"
     ]
    },
    {
     "data": {
      "application/vnd.jupyter.widget-view+json": {
       "model_id": "86d1bcb5f5d1411aa6861774caf2d09b",
       "version_major": 2,
       "version_minor": 0
      },
      "text/plain": [
       "  0%|          | 0/93 [00:00<?, ?batch/s]"
      ]
     },
     "metadata": {},
     "output_type": "display_data"
    },
    {
     "name": "stdout",
     "output_type": "stream",
     "text": [
      "Epoch 97 (Loss: 0.0751)\n"
     ]
    },
    {
     "data": {
      "application/vnd.jupyter.widget-view+json": {
       "model_id": "1039477a19b34ba3b055d0f8ba8e1321",
       "version_major": 2,
       "version_minor": 0
      },
      "text/plain": [
       "  0%|          | 0/93 [00:00<?, ?batch/s]"
      ]
     },
     "metadata": {},
     "output_type": "display_data"
    },
    {
     "name": "stdout",
     "output_type": "stream",
     "text": [
      "Epoch 98 (Loss: 0.0745)\n"
     ]
    },
    {
     "data": {
      "application/vnd.jupyter.widget-view+json": {
       "model_id": "0cef648125b44d8885ca43d200d10a12",
       "version_major": 2,
       "version_minor": 0
      },
      "text/plain": [
       "  0%|          | 0/93 [00:00<?, ?batch/s]"
      ]
     },
     "metadata": {},
     "output_type": "display_data"
    },
    {
     "name": "stdout",
     "output_type": "stream",
     "text": [
      "Epoch 99 (Loss: 0.0592)\n"
     ]
    },
    {
     "data": {
      "application/vnd.jupyter.widget-view+json": {
       "model_id": "a11c4dd19bc9493c87e35e9ce7ccdfdc",
       "version_major": 2,
       "version_minor": 0
      },
      "text/plain": [
       "  0%|          | 0/93 [00:00<?, ?batch/s]"
      ]
     },
     "metadata": {},
     "output_type": "display_data"
    },
    {
     "name": "stdout",
     "output_type": "stream",
     "text": [
      "Epoch 100 (Loss: 0.0609)\n"
     ]
    },
    {
     "data": {
      "application/vnd.jupyter.widget-view+json": {
       "model_id": "0a203d49c98148798b42f33a10228244",
       "version_major": 2,
       "version_minor": 0
      },
      "text/plain": [
       "  0%|          | 0/93 [00:00<?, ?batch/s]"
      ]
     },
     "metadata": {},
     "output_type": "display_data"
    },
    {
     "name": "stdout",
     "output_type": "stream",
     "text": [
      "Epoch 101 (Loss: 0.0510)\n"
     ]
    },
    {
     "data": {
      "application/vnd.jupyter.widget-view+json": {
       "model_id": "2b02a51043be47c1834ffd2a6c1e2fe9",
       "version_major": 2,
       "version_minor": 0
      },
      "text/plain": [
       "  0%|          | 0/93 [00:00<?, ?batch/s]"
      ]
     },
     "metadata": {},
     "output_type": "display_data"
    },
    {
     "name": "stdout",
     "output_type": "stream",
     "text": [
      "Epoch 102 (Loss: 0.0545)\n"
     ]
    },
    {
     "data": {
      "application/vnd.jupyter.widget-view+json": {
       "model_id": "8920d4ebe4d44ac181532f8b6fb13156",
       "version_major": 2,
       "version_minor": 0
      },
      "text/plain": [
       "  0%|          | 0/93 [00:00<?, ?batch/s]"
      ]
     },
     "metadata": {},
     "output_type": "display_data"
    },
    {
     "name": "stdout",
     "output_type": "stream",
     "text": [
      "Epoch 103 (Loss: 0.0579)\n"
     ]
    },
    {
     "data": {
      "application/vnd.jupyter.widget-view+json": {
       "model_id": "762d23678db5459eae1024caa5dbcf69",
       "version_major": 2,
       "version_minor": 0
      },
      "text/plain": [
       "  0%|          | 0/93 [00:00<?, ?batch/s]"
      ]
     },
     "metadata": {},
     "output_type": "display_data"
    },
    {
     "name": "stdout",
     "output_type": "stream",
     "text": [
      "Epoch 104 (Loss: 0.0562)\n"
     ]
    },
    {
     "data": {
      "application/vnd.jupyter.widget-view+json": {
       "model_id": "cdb2435036e145e78daf02269103365b",
       "version_major": 2,
       "version_minor": 0
      },
      "text/plain": [
       "  0%|          | 0/93 [00:00<?, ?batch/s]"
      ]
     },
     "metadata": {},
     "output_type": "display_data"
    },
    {
     "name": "stdout",
     "output_type": "stream",
     "text": [
      "Epoch 105 (Loss: 0.0582)\n"
     ]
    },
    {
     "data": {
      "application/vnd.jupyter.widget-view+json": {
       "model_id": "f41c53fbd2a14b3cb7219e3bd7784596",
       "version_major": 2,
       "version_minor": 0
      },
      "text/plain": [
       "  0%|          | 0/93 [00:00<?, ?batch/s]"
      ]
     },
     "metadata": {},
     "output_type": "display_data"
    },
    {
     "name": "stdout",
     "output_type": "stream",
     "text": [
      "Epoch 106 (Loss: 0.0545)\n"
     ]
    },
    {
     "data": {
      "application/vnd.jupyter.widget-view+json": {
       "model_id": "ce3b11cea5664203807dc95d2bef4b6e",
       "version_major": 2,
       "version_minor": 0
      },
      "text/plain": [
       "  0%|          | 0/93 [00:00<?, ?batch/s]"
      ]
     },
     "metadata": {},
     "output_type": "display_data"
    },
    {
     "name": "stdout",
     "output_type": "stream",
     "text": [
      "Epoch 107 (Loss: 0.0580)\n"
     ]
    },
    {
     "data": {
      "application/vnd.jupyter.widget-view+json": {
       "model_id": "0f6b9ee4fef44fb89316b105773f80cd",
       "version_major": 2,
       "version_minor": 0
      },
      "text/plain": [
       "  0%|          | 0/93 [00:00<?, ?batch/s]"
      ]
     },
     "metadata": {},
     "output_type": "display_data"
    },
    {
     "name": "stdout",
     "output_type": "stream",
     "text": [
      "Epoch 108 (Loss: 0.0517)\n"
     ]
    },
    {
     "data": {
      "application/vnd.jupyter.widget-view+json": {
       "model_id": "12c0bf218cd245b19df59f405894e26a",
       "version_major": 2,
       "version_minor": 0
      },
      "text/plain": [
       "  0%|          | 0/93 [00:00<?, ?batch/s]"
      ]
     },
     "metadata": {},
     "output_type": "display_data"
    },
    {
     "name": "stdout",
     "output_type": "stream",
     "text": [
      "Epoch 109 (Loss: 0.0532)\n"
     ]
    },
    {
     "data": {
      "application/vnd.jupyter.widget-view+json": {
       "model_id": "4140653020054e0bb3a538105af17f62",
       "version_major": 2,
       "version_minor": 0
      },
      "text/plain": [
       "  0%|          | 0/93 [00:00<?, ?batch/s]"
      ]
     },
     "metadata": {},
     "output_type": "display_data"
    },
    {
     "name": "stdout",
     "output_type": "stream",
     "text": [
      "Epoch 110 (Loss: 0.0551)\n"
     ]
    },
    {
     "data": {
      "application/vnd.jupyter.widget-view+json": {
       "model_id": "56ebf1d858114296b3ec666bd9461835",
       "version_major": 2,
       "version_minor": 0
      },
      "text/plain": [
       "  0%|          | 0/93 [00:00<?, ?batch/s]"
      ]
     },
     "metadata": {},
     "output_type": "display_data"
    },
    {
     "name": "stdout",
     "output_type": "stream",
     "text": [
      "Epoch 111 (Loss: 0.0668)\n"
     ]
    },
    {
     "data": {
      "application/vnd.jupyter.widget-view+json": {
       "model_id": "56d22cc45890494ba8257d5e842d9f93",
       "version_major": 2,
       "version_minor": 0
      },
      "text/plain": [
       "  0%|          | 0/93 [00:00<?, ?batch/s]"
      ]
     },
     "metadata": {},
     "output_type": "display_data"
    },
    {
     "name": "stdout",
     "output_type": "stream",
     "text": [
      "Epoch 112 (Loss: 0.0556)\n"
     ]
    },
    {
     "data": {
      "application/vnd.jupyter.widget-view+json": {
       "model_id": "fbe9bf823ae64016a1fff08ff1b9a32a",
       "version_major": 2,
       "version_minor": 0
      },
      "text/plain": [
       "  0%|          | 0/93 [00:00<?, ?batch/s]"
      ]
     },
     "metadata": {},
     "output_type": "display_data"
    },
    {
     "name": "stdout",
     "output_type": "stream",
     "text": [
      "Epoch 113 (Loss: 0.0742)\n"
     ]
    },
    {
     "data": {
      "application/vnd.jupyter.widget-view+json": {
       "model_id": "a67e2ee58bb844b2ad2e97d1afed0753",
       "version_major": 2,
       "version_minor": 0
      },
      "text/plain": [
       "  0%|          | 0/93 [00:00<?, ?batch/s]"
      ]
     },
     "metadata": {},
     "output_type": "display_data"
    },
    {
     "name": "stdout",
     "output_type": "stream",
     "text": [
      "Epoch 114 (Loss: 0.0780)\n"
     ]
    },
    {
     "data": {
      "application/vnd.jupyter.widget-view+json": {
       "model_id": "241480e372374348b49537a6ceb49a9b",
       "version_major": 2,
       "version_minor": 0
      },
      "text/plain": [
       "  0%|          | 0/93 [00:00<?, ?batch/s]"
      ]
     },
     "metadata": {},
     "output_type": "display_data"
    },
    {
     "name": "stdout",
     "output_type": "stream",
     "text": [
      "Epoch 115 (Loss: 0.0572)\n"
     ]
    },
    {
     "data": {
      "application/vnd.jupyter.widget-view+json": {
       "model_id": "9f3e391ef5304e5c883a26b80a8c3d64",
       "version_major": 2,
       "version_minor": 0
      },
      "text/plain": [
       "  0%|          | 0/93 [00:00<?, ?batch/s]"
      ]
     },
     "metadata": {},
     "output_type": "display_data"
    },
    {
     "name": "stdout",
     "output_type": "stream",
     "text": [
      "Epoch 116 (Loss: 0.0610)\n"
     ]
    },
    {
     "data": {
      "application/vnd.jupyter.widget-view+json": {
       "model_id": "2225988b3a264eeaa234f5bd818527a8",
       "version_major": 2,
       "version_minor": 0
      },
      "text/plain": [
       "  0%|          | 0/93 [00:00<?, ?batch/s]"
      ]
     },
     "metadata": {},
     "output_type": "display_data"
    },
    {
     "name": "stdout",
     "output_type": "stream",
     "text": [
      "Epoch 117 (Loss: 0.0597)\n"
     ]
    },
    {
     "data": {
      "application/vnd.jupyter.widget-view+json": {
       "model_id": "42b4949bd46b41679c5df70d0c9e95ad",
       "version_major": 2,
       "version_minor": 0
      },
      "text/plain": [
       "  0%|          | 0/93 [00:00<?, ?batch/s]"
      ]
     },
     "metadata": {},
     "output_type": "display_data"
    },
    {
     "name": "stdout",
     "output_type": "stream",
     "text": [
      "Epoch 118 (Loss: 0.0529)\n"
     ]
    },
    {
     "data": {
      "application/vnd.jupyter.widget-view+json": {
       "model_id": "002a603e191e400cad64c0f8c3f3103f",
       "version_major": 2,
       "version_minor": 0
      },
      "text/plain": [
       "  0%|          | 0/93 [00:00<?, ?batch/s]"
      ]
     },
     "metadata": {},
     "output_type": "display_data"
    },
    {
     "name": "stdout",
     "output_type": "stream",
     "text": [
      "Epoch 119 (Loss: 0.0543)\n"
     ]
    },
    {
     "data": {
      "application/vnd.jupyter.widget-view+json": {
       "model_id": "f0790aaad9404271b9b2003ccbf7b1e2",
       "version_major": 2,
       "version_minor": 0
      },
      "text/plain": [
       "  0%|          | 0/93 [00:00<?, ?batch/s]"
      ]
     },
     "metadata": {},
     "output_type": "display_data"
    },
    {
     "name": "stdout",
     "output_type": "stream",
     "text": [
      "Epoch 120 (Loss: 0.0544)\n"
     ]
    },
    {
     "data": {
      "text/plain": [
       "tensor([0.4022, 0.3187, 0.3047, 0.2500, 0.2736, 0.2322, 0.1858, 0.2044, 0.1888,\n",
       "        0.1746, 0.1677, 0.1250, 0.1757, 0.1586, 0.1695, 0.1433, 0.1280, 0.1306,\n",
       "        0.1299, 0.1143, 0.1507, 0.1176, 0.1144, 0.1218, 0.1019, 0.1241, 0.1648,\n",
       "        0.1529, 0.0856, 0.0739, 0.0828, 0.1076, 0.0983, 0.0984, 0.0859, 0.0967,\n",
       "        0.1004, 0.0782, 0.0964, 0.0797, 0.0725, 0.0733, 0.0909, 0.0894, 0.0969,\n",
       "        0.0682, 0.0700, 0.0761, 0.0772, 0.0793, 0.0687, 0.0709, 0.0643, 0.0928,\n",
       "        0.0856, 0.0846, 0.0635, 0.0722, 0.0863, 0.0766, 0.0700, 0.0741, 0.0639,\n",
       "        0.0702, 0.0702, 0.0691, 0.0585, 0.0605, 0.0864, 0.0690, 0.0665, 0.0680,\n",
       "        0.0680, 0.0543, 0.0672, 0.0671, 0.0678, 0.0647, 0.0607, 0.0702, 0.0588,\n",
       "        0.0606, 0.0683, 0.0603, 0.0655, 0.0619, 0.0603, 0.0517, 0.0629, 0.0556,\n",
       "        0.0664, 0.0610, 0.0594, 0.0577, 0.0633, 0.0605, 0.0751, 0.0745, 0.0592,\n",
       "        0.0609, 0.0510, 0.0545, 0.0579, 0.0562, 0.0582, 0.0545, 0.0580, 0.0517,\n",
       "        0.0532, 0.0551, 0.0668, 0.0556, 0.0742, 0.0780, 0.0572, 0.0610, 0.0597,\n",
       "        0.0529, 0.0543, 0.0544], device='mps:0', grad_fn=<StackBackward0>)"
      ]
     },
     "execution_count": 7,
     "metadata": {},
     "output_type": "execute_result"
    }
   ],
   "source": [
    "trainer = Trainer(train_loader, model, device)\n",
    "\n",
    "trainer.train(loss_fn, optimizer, verbose=True, epochs=120)"
   ]
  },
  {
   "cell_type": "code",
   "execution_count": 10,
   "id": "9703fe8b-3d6e-4d71-8320-e9e194b3d4de",
   "metadata": {},
   "outputs": [],
   "source": [
    "sampler = AnnealedLangevinDynamics(model, sigmas, device)"
   ]
  },
  {
   "cell_type": "code",
   "execution_count": 11,
   "id": "f2a142db-b634-43f3-bf78-b6f9ad81bdec",
   "metadata": {},
   "outputs": [
    {
     "data": {
      "image/png": "[encoded data removed]",
      "text/plain": [
       "<Figure size 640x480 with 1 Axes>"
      ]
     },
     "metadata": {},
     "output_type": "display_data"
    }
   ],
   "source": [
    "img = sampler.sample(shape[::-1], epsilon=2e-5).permute(2, 1, 0).cpu().numpy()\n",
    "plt.imshow(img, cmap=\"gray\")\n",
    "plt.show()"
   ]
  }
 ],
 "metadata": {
  "kernelspec": {
   "display_name": "Python 3 (ipykernel)",
   "language": "python",
   "name": "python3"
  },
  "language_info": {
   "codemirror_mode": {
    "name": "ipython",
    "version": 3
   },
   "file_extension": ".py",
   "mimetype": "text/x-python",
   "name": "python",
   "nbconvert_exporter": "python",
   "pygments_lexer": "ipython3",
   "version": "3.12.9"
  }
 },
 "nbformat": 4,
 "nbformat_minor": 5
}
